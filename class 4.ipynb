{
 "cells": [
  {
   "cell_type": "markdown",
   "id": "76cf54e7-2f8b-4d90-9452-94fa94d015b7",
   "metadata": {},
   "source": [
    "04 Class Python Crash Course | list, indexing, slicing and list methods/attributes"
   ]
  },
  {
   "cell_type": "code",
   "execution_count": 3,
   "id": "0ed48ded-ca67-41d5-89e4-1d466845d753",
   "metadata": {},
   "outputs": [],
   "source": [
    "# list\n",
    "# array->list->numpy.                you can store multiple values in one variable\n",
    "name1= \"qasim\"  # name1 : str = \"qasim\"\n",
    "name2 =  \" sir zia\"\n",
    "name3 = \"sir inam\""
   ]
  },
  {
   "cell_type": "raw",
   "id": "63ecf433-daa5-4e27-b500-a7c32540b952",
   "metadata": {},
   "source": [
    "# list has dynamic lenght, it can contain hetrogeneous data ( different data types) , it has indexing ( negative and postive indexing)"
   ]
  },
  {
   "cell_type": "code",
   "execution_count": 20,
   "id": "c480dfa5-3aa7-49c2-9858-a75877982132",
   "metadata": {},
   "outputs": [
    {
     "name": "stdout",
     "output_type": "stream",
     "text": [
      "qasim\n",
      "qasim\n",
      "sir zia\n"
     ]
    }
   ],
   "source": [
    "# indexes/positive indexing  \n",
    "#            0        1         2 \n",
    "names = [\"qasim\",\"sir zia\",\"sir inam\"]\n",
    "#          -3       -2        -1\n",
    "# negative indexing      \n",
    "print(names[0])\n",
    "print(names[-3])\n",
    "print(names[1])"
   ]
  },
  {
   "cell_type": "code",
   "execution_count": 22,
   "id": "562707b9-767d-4ed1-b8b3-d5d06598ed81",
   "metadata": {},
   "outputs": [
    {
     "name": "stdout",
     "output_type": "stream",
     "text": [
      "sir zia\n"
     ]
    }
   ],
   "source": [
    "from typing import Any\n",
    "\n",
    "# positive indexing\n",
    "#          0         1        2\n",
    "names= [\"qasim\", \"sir zia\",\"sir inam\"]      # or names : list [Any]= [\"qasim\",\"sir zia\", \"sir inam\"]\n",
    "#         -3        -2        -1\n",
    "# negative indexing\n",
    "\n",
    "print(names[-2])"
   ]
  },
  {
   "cell_type": "code",
   "execution_count": 26,
   "id": "eb360327-f0fc-45cc-8ada-f0eac845e8c2",
   "metadata": {},
   "outputs": [
    {
     "name": "stdout",
     "output_type": "stream",
     "text": [
      "founder of PAIC sir zia\n",
      "<class 'list'>\n",
      "<class 'str'>\n"
     ]
    }
   ],
   "source": [
    "# positive indexing\n",
    "#          0         1        2\n",
    "names= [\"qasim\", \"sir zia\",\"sir inam\"]      # or names : list [Any]= [\"qasim\",\"sir zia\", \"sir inam\"]\n",
    "#         -3        -2        -1\n",
    "# negative indexing\n",
    "\n",
    "print(f\"founder of PAIC {names[-2]}\") # using f string\n",
    "print(type(names))\n",
    "print(type(names[0]))"
   ]
  },
  {
   "cell_type": "raw",
   "id": "9f42a4e9-75a7-4f4c-8dba-413fff3373fc",
   "metadata": {},
   "source": [
    "#slicing  \n",
    "start : int  = include\n",
    "end : int = n-1\n",
    "step : int = sequence\n"
   ]
  },
  {
   "cell_type": "code",
   "execution_count": 28,
   "id": "f2330d11-3137-4f68-8a5a-fc8a528dd121",
   "metadata": {},
   "outputs": [
    {
     "name": "stdout",
     "output_type": "stream",
     "text": [
      "['A', 'B', 'C', 'D', 'E', 'F', 'G', 'H', 'I', 'J', 'K', 'L', 'M', 'N', 'O', 'P', 'Q', 'U', 'R', 'S', 'T', 'X', 'Y', 'Z']\n"
     ]
    }
   ],
   "source": [
    "# slicing\n",
    "characters : list[str] = list (\"ABCDEFGHIJKLMNOPQURSTXYZ\")   # or characters = list (\"ABCDEFGHIJKLMNOPQURSTXYZ\")\n",
    "print(characters)"
   ]
  },
  {
   "cell_type": "code",
   "execution_count": 37,
   "id": "1e4b864f-bbdb-4a34-a6d7-c9adc24167af",
   "metadata": {},
   "outputs": [
    {
     "name": "stdout",
     "output_type": "stream",
     "text": [
      "['A', 'B', 'C', 'D', 'E', 'F', 'G', 'H', 'I', 'J', 'K', 'L', 'M', 'N', 'O', 'P', 'Q', 'U', 'R', 'S', 'T', 'X', 'Y', 'Z']\n"
     ]
    },
    {
     "data": {
      "text/plain": [
       "list"
      ]
     },
     "execution_count": 37,
     "metadata": {},
     "output_type": "execute_result"
    }
   ],
   "source": [
    "# ex  ??\n",
    "characters   = list(\"ABCDEFGHIJKLMNOPQURSTXYZ\") # using list function () to do iteration on string data type\n",
    "print(characters)\n",
    "type(characters)"
   ]
  },
  {
   "cell_type": "code",
   "execution_count": 35,
   "id": "f1ce6aae-7565-4f71-9aad-d3f647732b12",
   "metadata": {},
   "outputs": [
    {
     "data": {
      "text/plain": [
       "'abcd'"
      ]
     },
     "execution_count": 35,
     "metadata": {},
     "output_type": "execute_result"
    }
   ],
   "source": [
    "# string is iterative data type on which iteration can be performed \n",
    "\"abcd\""
   ]
  },
  {
   "cell_type": "code",
   "execution_count": 36,
   "id": "93f2364f-003c-461b-8da9-844bd96d33d8",
   "metadata": {},
   "outputs": [
    {
     "data": {
      "text/plain": [
       "['a', 'b', 'c', 'd']"
      ]
     },
     "execution_count": 36,
     "metadata": {},
     "output_type": "execute_result"
    }
   ],
   "source": [
    "list(\"abcd\")"
   ]
  },
  {
   "cell_type": "code",
   "execution_count": 38,
   "id": "bf0af168-f19f-43c2-b937-b6751a8cceac",
   "metadata": {},
   "outputs": [
    {
     "data": {
      "text/plain": [
       "['i',\n",
       " ' ',\n",
       " 'l',\n",
       " 'i',\n",
       " 'v',\n",
       " 'e',\n",
       " ' ',\n",
       " 'i',\n",
       " 'n',\n",
       " ' ',\n",
       " 'p',\n",
       " 'a',\n",
       " 'k',\n",
       " 'i',\n",
       " 's',\n",
       " 't',\n",
       " 'a',\n",
       " 'n']"
      ]
     },
     "execution_count": 38,
     "metadata": {},
     "output_type": "execute_result"
    }
   ],
   "source": [
    "list(\"i live in pakistan\")"
   ]
  },
  {
   "cell_type": "code",
   "execution_count": 15,
   "id": "78e34ecf-f321-4e79-acfa-013ca306e5d0",
   "metadata": {},
   "outputs": [
    {
     "name": "stdout",
     "output_type": "stream",
     "text": [
      "['A', 'B']\n",
      "['A', 'B']\n",
      "['A', 'B']\n",
      "['A', 'B']\n",
      "['A', 'B']\n"
     ]
    }
   ],
   "source": [
    "# slicing : slicing is used to extract two or more than two things . slicing is extraction.\n",
    "\n",
    "# positve indexing           0    1    2                                                                                                       23\n",
    "characters : list [str] = ['A', 'B', 'C', 'D', 'E', 'F', 'G', 'H', 'I', 'J', 'K', 'L', 'M', 'N', 'O', 'P', 'Q', 'U', 'R', 'S', 'T', 'X', 'Y', 'Z']\n",
    "# negative indexing         -24  -23  -22                                                                                           -3    -2   -1 \n",
    "\n",
    "# note: by default slicing is from left to right\n",
    "# variable[start:end:step]\n",
    "print(characters[0:2])\n",
    "print(characters[:2])  # blank space for starting value here means all ( all values from start are included)\n",
    "print(characters[-24:  -22  ])\n",
    "print(characters[0:2:1]) # using step. step size here is 1.\n",
    "print(characters[0:2:])"
   ]
  },
  {
   "cell_type": "code",
   "execution_count": 31,
   "id": "8d4fb45c-e157-4264-9cef-86ad08aaf88c",
   "metadata": {},
   "outputs": [
    {
     "name": "stdout",
     "output_type": "stream",
     "text": [
      "['A', 'B', 'C', 'D', 'E', 'F', 'G', 'H', 'I', 'J', 'K', 'L', 'M', 'N', 'O', 'P', 'Q', 'U', 'R', 'S', 'T', 'X', 'Y', 'Z']\n",
      "['A', 'C', 'E', 'G', 'I', 'K', 'M', 'O', 'Q', 'R', 'T', 'Y']\n",
      "['Z', 'Y', 'X', 'T', 'S', 'R', 'U', 'Q', 'P', 'O', 'N', 'M', 'L', 'K', 'J', 'I', 'H', 'G', 'F', 'E', 'D', 'C', 'B', 'A']\n",
      "['Z', 'X', 'S', 'U', 'P', 'N', 'L']\n"
     ]
    }
   ],
   "source": [
    "characters : list [str] = ['A', 'B', 'C', 'D', 'E', 'F', 'G', 'H', 'I', 'J', 'K', 'L', 'M', 'N', 'O', 'P', 'Q', 'U', 'R', 'S', 'T', 'X', 'Y', 'Z']\n",
    "print(characters[::])  # print(chracters[ _ : _ : _ ])\n",
    "print(characters[::2]) # here step size is two\n",
    "print(characters[::-1]) # when we put -1 step size, it starts moving from reverse direction.\n",
    "print(characters[23:10:-2])\n"
   ]
  },
  {
   "cell_type": "code",
   "execution_count": 40,
   "id": "9d9018e8-d062-44de-9390-20f25bc5b934",
   "metadata": {},
   "outputs": [
    {
     "name": "stdout",
     "output_type": "stream",
     "text": [
      "['B', 'C', 'D', 'E']\n",
      "[]\n",
      "['G', 'F', 'E']\n",
      "A\n",
      "A [-7]\n"
     ]
    }
   ],
   "source": [
    "#                          0   1    2  3   4   5   6   7\n",
    "characters : list[str] = [\"A\",\"B\",\"C\",\"D\",\"E\",\"F\",\"G\",\"H\"]\n",
    "#                         -8  -7  -6  -5  -4  -3  -2  -1\n",
    "print(characters[1:-3])\n",
    "print(chracters[-2:-5])  # by default we move from left to right. when we move from -2 towards left , there is no -5 , so result in empty list.\n",
    "print(characters[-2:-5:-1])\n",
    "\n",
    "# slicing is used in numpy, in numbers computation.\n",
    "\n",
    "print(chracters[0])\n",
    "print(characters[-8],[-7])"
   ]
  },
  {
   "cell_type": "code",
   "execution_count": 50,
   "id": "40899e2a-d2c8-4596-992d-96adc2e556cf",
   "metadata": {},
   "outputs": [
    {
     "name": "stdout",
     "output_type": "stream",
     "text": [
      "['qasim', 'sir zia', 'sir inam', 20, True]\n",
      "qasim\n"
     ]
    },
    {
     "data": {
      "text/plain": [
       "'M.qasim'"
      ]
     },
     "execution_count": 50,
     "metadata": {},
     "output_type": "execute_result"
    }
   ],
   "source": [
    "\n",
    "#                       0         1         2        3    4\n",
    "names  = [\"qasim\",\"sir zia\",\"sir inam\", 20 , True]              # names  : list [Any] = ... was not working.\n",
    "#                        -5     -4         -3       -2   -1\n",
    "print(names)\n",
    "print(names[0])\n",
    "names[0] = \"M.qasim\"  # python editable/mutable\n",
    "names [0]"
   ]
  },
  {
   "cell_type": "code",
   "execution_count": 51,
   "id": "f0725441-2543-49fe-a13e-7897aee31e55",
   "metadata": {},
   "outputs": [
    {
     "name": "stdout",
     "output_type": "stream",
     "text": [
      "['qasim', 'sir zia', 'sir inam', 20, True]\n",
      "['qasim', 'sir zia', 'sir inam', True]\n"
     ]
    }
   ],
   "source": [
    "# things can be deleted with index number\n",
    "# in the example below we are deleting an element (from list by using its index number)\n",
    "#                       0         1         2        3    4\n",
    "names  = [\"qasim\",\"sir zia\",\"sir inam\", 20 , True]              \n",
    "#                        -5     -4         -3       -2   -1\n",
    "\n",
    "print(names)\n",
    "del names[3]\n",
    "print(names)\n"
   ]
  },
  {
   "cell_type": "code",
   "execution_count": 52,
   "id": "c6487ab9-206b-4357-9cc8-f7ea6de0a992",
   "metadata": {},
   "outputs": [
    {
     "name": "stdout",
     "output_type": "stream",
     "text": [
      "1\n"
     ]
    }
   ],
   "source": [
    "a : str = 1 # then what is the point of writng data type??\n",
    "print(a)"
   ]
  },
  {
   "cell_type": "code",
   "execution_count": 56,
   "id": "cfda8591-e6f3-4cb3-8a2d-47ef1d60e6db",
   "metadata": {},
   "outputs": [
    {
     "name": "stdout",
     "output_type": "stream",
     "text": [
      "pakistan\n"
     ]
    },
    {
     "data": {
      "text/plain": [
       "None"
      ]
     },
     "metadata": {},
     "output_type": "display_data"
    }
   ],
   "source": [
    "# non retrun function\n",
    "a : str = print (\"pakistan\")\n",
    "display(a)  # print is non return function that is why result is 'none'"
   ]
  },
  {
   "cell_type": "code",
   "execution_count": 59,
   "id": "e0a44c52-93fe-4560-a00f-db2379b2e3d0",
   "metadata": {},
   "outputs": [
    {
     "data": {
      "text/plain": [
       "1563271101504"
      ]
     },
     "metadata": {},
     "output_type": "display_data"
    }
   ],
   "source": [
    "# return function . id is return function . ( return function gives answer and we can store that answer in a variable)\n",
    "a : str = id(names)\n",
    "display(a)"
   ]
  },
  {
   "cell_type": "code",
   "execution_count": 60,
   "id": "1af6ea55-6319-4275-8626-29f8fb1e6a92",
   "metadata": {},
   "outputs": [
    {
     "data": {
      "text/plain": [
       "['append',\n",
       " 'clear',\n",
       " 'copy',\n",
       " 'count',\n",
       " 'extend',\n",
       " 'index',\n",
       " 'insert',\n",
       " 'pop',\n",
       " 'remove',\n",
       " 'reverse',\n",
       " 'sort']"
      ]
     },
     "execution_count": 60,
     "metadata": {},
     "output_type": "execute_result"
    }
   ],
   "source": [
    "# list methods\n",
    "\n",
    "[i for i in dir(list) if \"_\" not in i]\n",
    "\n",
    "# the result below shows functions."
   ]
  },
  {
   "cell_type": "code",
   "execution_count": 62,
   "id": "362f7d8c-9224-4d33-93d5-f0d79afe1061",
   "metadata": {},
   "outputs": [
    {
     "name": "stdout",
     "output_type": "stream",
     "text": [
      "Help on built-in function print in module builtins:\n",
      "\n",
      "print(*args, sep=' ', end='\\n', file=None, flush=False)\n",
      "    Prints the values to a stream, or to sys.stdout by default.\n",
      "    \n",
      "    sep\n",
      "      string inserted between values, default a space.\n",
      "    end\n",
      "      string appended after the last value, default a newline.\n",
      "    file\n",
      "      a file-like object (stream); defaults to the current sys.stdout.\n",
      "    flush\n",
      "      whether to forcibly flush the stream.\n",
      "\n"
     ]
    }
   ],
   "source": [
    "# help\n",
    "\n",
    "# help(object)\n",
    "# object?\n",
    "# object??\n",
    "# ?object\n",
    "# ??object\n",
    "\n",
    "help(print)"
   ]
  },
  {
   "cell_type": "code",
   "execution_count": 63,
   "id": "b1b4af32-3f2d-48df-b043-396b3f962155",
   "metadata": {},
   "outputs": [
    {
     "data": {
      "text/plain": [
       "\u001b[1;31mSignature:\u001b[0m \u001b[0mprint\u001b[0m\u001b[1;33m(\u001b[0m\u001b[1;33m*\u001b[0m\u001b[0margs\u001b[0m\u001b[1;33m,\u001b[0m \u001b[0msep\u001b[0m\u001b[1;33m=\u001b[0m\u001b[1;34m' '\u001b[0m\u001b[1;33m,\u001b[0m \u001b[0mend\u001b[0m\u001b[1;33m=\u001b[0m\u001b[1;34m'\\n'\u001b[0m\u001b[1;33m,\u001b[0m \u001b[0mfile\u001b[0m\u001b[1;33m=\u001b[0m\u001b[1;32mNone\u001b[0m\u001b[1;33m,\u001b[0m \u001b[0mflush\u001b[0m\u001b[1;33m=\u001b[0m\u001b[1;32mFalse\u001b[0m\u001b[1;33m)\u001b[0m\u001b[1;33m\u001b[0m\u001b[1;33m\u001b[0m\u001b[0m\n",
       "\u001b[1;31mDocstring:\u001b[0m\n",
       "Prints the values to a stream, or to sys.stdout by default.\n",
       "\n",
       "sep\n",
       "  string inserted between values, default a space.\n",
       "end\n",
       "  string appended after the last value, default a newline.\n",
       "file\n",
       "  a file-like object (stream); defaults to the current sys.stdout.\n",
       "flush\n",
       "  whether to forcibly flush the stream.\n",
       "\u001b[1;31mType:\u001b[0m      builtin_function_or_method"
      ]
     },
     "metadata": {},
     "output_type": "display_data"
    }
   ],
   "source": [
    "print??"
   ]
  },
  {
   "cell_type": "code",
   "execution_count": 66,
   "id": "56b41095-eefa-469d-91b7-79be227d625a",
   "metadata": {},
   "outputs": [
    {
     "data": {
      "text/plain": [
       "['qasim', 'sir zia', 'sir inam', True]"
      ]
     },
     "execution_count": 66,
     "metadata": {},
     "output_type": "execute_result"
    }
   ],
   "source": [
    "\n",
    "#            0         1         2        3    4\n",
    "names  = [\"qasim\",\"sir zia\",\"sir inam\", 20 , True]            \n",
    "#            -5     -4         -3       -2   -1\n",
    "\n",
    "del names[3]\n",
    "names\n"
   ]
  },
  {
   "cell_type": "code",
   "execution_count": 73,
   "id": "bc289565-f04c-4592-8f94-d61527cb56ca",
   "metadata": {},
   "outputs": [
    {
     "name": "stdout",
     "output_type": "stream",
     "text": [
      "['sir zia', 'sir inam', 20, True]\n",
      "qasim\n"
     ]
    }
   ],
   "source": [
    "\n",
    "#            0         1         2        3    4\n",
    "names  = [\"qasim\",\"sir zia\",\"sir inam\", 20 , True]            \n",
    "#            -5     -4         -3       -2   -1\n",
    "\n",
    "a : str = names.pop(0)  # pop removes last element.   pop is return method.\n",
    "print( names)\n",
    "print(a)"
   ]
  },
  {
   "cell_type": "code",
   "execution_count": 71,
   "id": "21ce9f19-446d-4b31-82cc-ab87a024c74f",
   "metadata": {},
   "outputs": [
    {
     "name": "stdout",
     "output_type": "stream",
     "text": [
      "kiki\n",
      "None\n"
     ]
    }
   ],
   "source": [
    "print(print(\"kiki\"))"
   ]
  },
  {
   "cell_type": "code",
   "execution_count": 75,
   "id": "2af48c21-04ef-4a42-a09b-c6b6cb382ed6",
   "metadata": {},
   "outputs": [
    {
     "data": {
      "text/plain": [
       "['sir zia', 'sir inam', 'qasim']"
      ]
     },
     "execution_count": 75,
     "metadata": {},
     "output_type": "execute_result"
    }
   ],
   "source": [
    "names : list [str] = []\n",
    "names.append(\"sir zia\")  # this element is added to the last\n",
    "names.append(\"sir inam\") # this element is added to the last\n",
    "names.append(\"qasim\")  # this element is added to the last\n",
    "names"
   ]
  },
  {
   "cell_type": "code",
   "execution_count": 78,
   "id": "a064349a-99c2-485e-ac50-86ea955cfb82",
   "metadata": {},
   "outputs": [
    {
     "name": "stdout",
     "output_type": "stream",
     "text": [
      "['a', 'b', 'c', 'd']\n",
      "['a', 'qasim', 'b', 'c', 'd']\n"
     ]
    }
   ],
   "source": [
    "# insert method. insert method adds on particular position.\n",
    "names : list[str] = [\"a\",\"b\",\"c\",\"d\"]\n",
    "print(names)\n",
    "names.insert(1,\"qasim\")\n",
    "print(names)"
   ]
  },
  {
   "cell_type": "code",
   "execution_count": 81,
   "id": "2beb8d52-34a0-4bcc-afe2-d1144e066c2c",
   "metadata": {},
   "outputs": [
    {
     "name": "stdout",
     "output_type": "stream",
     "text": [
      "[1, 2, 3]\n"
     ]
    }
   ],
   "source": [
    "a : list[str] = [1,2,3]\n",
    "print(a)"
   ]
  },
  {
   "cell_type": "code",
   "execution_count": 82,
   "id": "11cb266f-ba57-4c56-99cf-84cafde1e95c",
   "metadata": {},
   "outputs": [
    {
     "ename": "NameError",
     "evalue": "name 'a' is not defined",
     "output_type": "error",
     "traceback": [
      "\u001b[1;31m---------------------------------------------------------------------------\u001b[0m",
      "\u001b[1;31mNameError\u001b[0m                                 Traceback (most recent call last)",
      "Cell \u001b[1;32mIn[82], line 3\u001b[0m\n\u001b[0;32m      1\u001b[0m a : \u001b[38;5;28mlist\u001b[39m[\u001b[38;5;28mstr\u001b[39m] \u001b[38;5;241m=\u001b[39m [\u001b[38;5;241m1\u001b[39m,\u001b[38;5;241m2\u001b[39m,\u001b[38;5;241m3\u001b[39m]\n\u001b[0;32m      2\u001b[0m \u001b[38;5;28;01mdel\u001b[39;00m a\n\u001b[1;32m----> 3\u001b[0m \u001b[38;5;28mprint\u001b[39m(a)\n",
      "\u001b[1;31mNameError\u001b[0m: name 'a' is not defined"
     ]
    }
   ],
   "source": [
    "a : list[str] = [1,2,3]\n",
    "del a\n",
    "print(a)"
   ]
  },
  {
   "cell_type": "code",
   "execution_count": 83,
   "id": "5f14f271-34b8-4b2d-ad7c-7a41bba17ab9",
   "metadata": {},
   "outputs": [
    {
     "name": "stdout",
     "output_type": "stream",
     "text": [
      "[]\n"
     ]
    }
   ],
   "source": [
    "a : list[str] = [1,2,3]\n",
    "a.clear()\n",
    "print(a)\n",
    "\n",
    "# 'del' removes from memory , it deletes the variable. 'clear()' deletes the value in that variable , not the variable itself."
   ]
  },
  {
   "cell_type": "code",
   "execution_count": 85,
   "id": "240fa647-80f0-48de-a286-8122bbaaaaa0",
   "metadata": {},
   "outputs": [
    {
     "name": "stdout",
     "output_type": "stream",
     "text": [
      "['a', 'b', 'c', 'd']\n",
      "['a', 'b', 'c', 'd']\n",
      "['pakistan', 'b', 'c', 'd']\n",
      "['pakistan', 'b', 'c', 'd']\n"
     ]
    }
   ],
   "source": [
    "a : list [str] = [\"a\", \"b\", \"c\",\"d\"]\n",
    "b = a\n",
    "print(a)\n",
    "print(b)\n",
    "b[0] = \"pakistan\"\n",
    "print(a) # the result shows that we only made changes to variable 'b' but both variables have changed / we only wanted to update b variable but both got updated  (this is a problem)\n",
    "print(b) # \"\"  \"\"  \"\"\n",
    "\n",
    "# the last two results show copy by reference has occured. it is becasue the memory location got copied. so the variables became same."
   ]
  },
  {
   "cell_type": "code",
   "execution_count": 86,
   "id": "c71cbb52-8471-4381-89bc-619623cb973e",
   "metadata": {},
   "outputs": [
    {
     "name": "stdout",
     "output_type": "stream",
     "text": [
      "['a', 'b', 'c', 'd']\n",
      "['a', 'b', 'c', 'd']\n",
      "['a', 'b', 'c', 'd']\n",
      "['pakistan', 'b', 'c', 'd']\n"
     ]
    }
   ],
   "source": [
    "# in order to overcome this problem use 'copy()' function\n",
    "a : list [str] = [\"a\", \"b\", \"c\",\"d\"]\n",
    "b = a.copy() # deep copy ( above it was shallow copy)\n",
    "print(a)\n",
    "print(b)\n",
    "b[0] = \"pakistan\"\n",
    "print(a)\n",
    "print(b)\n",
    "# now the result shows that 'pakistan' is only updated in b variable ."
   ]
  },
  {
   "cell_type": "code",
   "execution_count": 91,
   "id": "22e9d139-edd7-42a3-8356-4ede58e85c37",
   "metadata": {},
   "outputs": [
    {
     "name": "stdout",
     "output_type": "stream",
     "text": [
      "2\n",
      "3\n"
     ]
    }
   ],
   "source": [
    "# count()\n",
    "names : list[str] = [\"a\",\"a\",\"a\",\"b\",\"c\",\"c\"]\n",
    "print(names.count(\"c\"))\n",
    "print(names.count(\"a\"))"
   ]
  },
  {
   "cell_type": "code",
   "execution_count": 93,
   "id": "a80a4a52-2648-4a22-b44b-e59663f10e83",
   "metadata": {},
   "outputs": [
    {
     "data": {
      "text/plain": [
       "['sir zia', 'm.qasim', ['sir inam', 'dr noman']]"
      ]
     },
     "execution_count": 93,
     "metadata": {},
     "output_type": "execute_result"
    }
   ],
   "source": [
    "# diff between extend and append\n",
    "# extend()\n",
    "names : list[str] = [\"sir zia\", \"m.qasim\" ] # gen ai founder members\n",
    "new_faculty_members : list[str] = [\"sir inam\", \"dr noman\"]\n",
    "names.append(new_faculty_members)\n",
    "names"
   ]
  },
  {
   "cell_type": "code",
   "execution_count": 95,
   "id": "924a8032-faa8-4464-8732-0b10c0dcf856",
   "metadata": {},
   "outputs": [
    {
     "data": {
      "text/plain": [
       "['sir zia', 'm.qasim', 'sir inam', 'dr noman']"
      ]
     },
     "execution_count": 95,
     "metadata": {},
     "output_type": "execute_result"
    }
   ],
   "source": [
    "# extend()\"\n",
    "names : list[str] = [\"sir zia\", \"m.qasim\" ] # gen ai founder members\n",
    "new_faculty_members : list[str] = [\"sir inam\", \"dr noman\"]\n",
    "names.extend(new_faculty_members)\n",
    "names"
   ]
  },
  {
   "cell_type": "code",
   "execution_count": 100,
   "id": "dfb5bce9-464a-425a-9b61-ad2d8d1ced4d",
   "metadata": {},
   "outputs": [
    {
     "data": {
      "text/plain": [
       "['sir zia', 'sir inam', 'dr noman']"
      ]
     },
     "execution_count": 100,
     "metadata": {},
     "output_type": "execute_result"
    }
   ],
   "source": [
    "# remove()\n",
    "# importing Any  for list gives error\n",
    "names : list[str] = ['sir zia', 'm.qasim', 'sir inam', 'dr noman']\n",
    "names.remove(\"m.qasim\" )\n",
    "names"
   ]
  },
  {
   "cell_type": "code",
   "execution_count": 101,
   "id": "c29e49c8-e197-4e23-827d-1c1a8fb3984b",
   "metadata": {},
   "outputs": [
    {
     "data": {
      "text/plain": [
       "1"
      ]
     },
     "execution_count": 101,
     "metadata": {},
     "output_type": "execute_result"
    }
   ],
   "source": [
    "# index()\n",
    "names : list[str] = ['sir zia', 'm.qasim', 'sir inam', 'dr noman']\n",
    "names.index(\"m.qasim\" )"
   ]
  },
  {
   "cell_type": "code",
   "execution_count": 112,
   "id": "20184498-a085-4a3c-a704-ac4d627b7069",
   "metadata": {},
   "outputs": [
    {
     "data": {
      "text/plain": [
       "1"
      ]
     },
     "execution_count": 112,
     "metadata": {},
     "output_type": "execute_result"
    }
   ],
   "source": [
    "names : list[str] = ['sir zia', 'm.qasim', \"m.qasim\" ,'sir inam', 'dr noman',\"m.qasim\"]\n",
    "names.index(\"m.qasim\" )"
   ]
  },
  {
   "cell_type": "code",
   "execution_count": 114,
   "id": "6a8800d6-321e-46ad-b71e-cfc97f30e44b",
   "metadata": {},
   "outputs": [
    {
     "data": {
      "text/plain": [
       "5"
      ]
     },
     "execution_count": 114,
     "metadata": {},
     "output_type": "execute_result"
    }
   ],
   "source": [
    "n : list[str] = ['sir zia', 'm.qasim', \"m.qasim\", 'sir inam', 'dr noman',\"m.qasim\"]\n",
    "n.index(\"m.qasim\" ,3) # result?"
   ]
  },
  {
   "cell_type": "code",
   "execution_count": 115,
   "id": "99a5c02e-3f32-48ab-9c5a-a8da558478fc",
   "metadata": {},
   "outputs": [
    {
     "data": {
      "text/plain": [
       "['m.qasim', 'dr noman', 'sir inam', 'm.qasim', 'm.qasim', 'sir zia']"
      ]
     },
     "execution_count": 115,
     "metadata": {},
     "output_type": "execute_result"
    }
   ],
   "source": [
    "# reverse()\n",
    "names : list[str] = ['sir zia', 'm.qasim', \"m.qasim\", 'sir inam', 'dr noman',\"m.qasim\"]\n",
    "names.reverse()\n",
    "names"
   ]
  },
  {
   "cell_type": "code",
   "execution_count": 117,
   "id": "f7381963-d38e-4a43-9d65-e9a9b06d94ec",
   "metadata": {},
   "outputs": [
    {
     "data": {
      "text/plain": [
       "['F', 'E', 'D', 'C', 'B', 'A']"
      ]
     },
     "execution_count": 117,
     "metadata": {},
     "output_type": "execute_result"
    }
   ],
   "source": [
    "names : list[str] = list(\"ABCDEF\")\n",
    "names.reverse()\n",
    "names"
   ]
  },
  {
   "cell_type": "code",
   "execution_count": 122,
   "id": "6711cc28-25fe-43f1-844b-efa30fa14b50",
   "metadata": {},
   "outputs": [
    {
     "data": {
      "text/plain": [
       "['A', 'B', 'C', 'C', 'C', 'D', 'E', 'F', 'S', 'S', 'Z']"
      ]
     },
     "execution_count": 122,
     "metadata": {},
     "output_type": "execute_result"
    }
   ],
   "source": [
    "# sort function\n",
    "names : list[str] = list(\"AZCSSCBCDEF\")\n",
    "names\n",
    "names.sort()\n",
    "names # the result shpws it sorted alphabetically"
   ]
  },
  {
   "cell_type": "code",
   "execution_count": 123,
   "id": "30188d43-6519-45cc-bc3a-4d200af3550e",
   "metadata": {},
   "outputs": [
    {
     "data": {
      "text/plain": [
       "['Z', 'S', 'S', 'F', 'E', 'D', 'C', 'C', 'C', 'B', 'A']"
      ]
     },
     "execution_count": 123,
     "metadata": {},
     "output_type": "execute_result"
    }
   ],
   "source": [
    "names : list[str] = list(\"AZCSSCBCDEF\")\n",
    "names\n",
    "names.sort(reverse=True) # sorted in reverse order/ descending\n",
    "names"
   ]
  },
  {
   "cell_type": "code",
   "execution_count": 125,
   "id": "53edfc1a-e8a1-4be2-b71e-30b53f374979",
   "metadata": {},
   "outputs": [
    {
     "data": {
      "text/plain": [
       "['sir zia', 'sir inam', 'dr noman', 'm.qasim']"
      ]
     },
     "execution_count": 125,
     "metadata": {},
     "output_type": "execute_result"
    }
   ],
   "source": [
    "names : list[str] = ['sir zia', 'm.qasim', \"m.qasim\", 'sir inam', 'dr noman',\"m.qasim\"]\n",
    "del names[1:3] # multiple values deletion\n",
    "names\n"
   ]
  },
  {
   "cell_type": "code",
   "execution_count": null,
   "id": "a426cca6-b27e-48ab-a1a2-5d8640773510",
   "metadata": {},
   "outputs": [],
   "source": []
  }
 ],
 "metadata": {
  "kernelspec": {
   "display_name": "Python 3 (ipykernel)",
   "language": "python",
   "name": "python3"
  },
  "language_info": {
   "codemirror_mode": {
    "name": "ipython",
    "version": 3
   },
   "file_extension": ".py",
   "mimetype": "text/x-python",
   "name": "python",
   "nbconvert_exporter": "python",
   "pygments_lexer": "ipython3",
   "version": "3.11.7"
  }
 },
 "nbformat": 4,
 "nbformat_minor": 5
}
