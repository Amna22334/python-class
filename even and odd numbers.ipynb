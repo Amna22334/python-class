{
 "cells": [
  {
   "cell_type": "code",
   "execution_count": 3,
   "id": "099df59a-fb81-4978-8801-1d6f2efb0bea",
   "metadata": {},
   "outputs": [
    {
     "name": "stdout",
     "output_type": "stream",
     "text": [
      "Enter numbers from 1 to 100. Enter 'done' when you are finished.\n"
     ]
    },
    {
     "name": "stdin",
     "output_type": "stream",
     "text": [
      "Enter a number (or 'done' to finish):  45\n"
     ]
    },
    {
     "name": "stdout",
     "output_type": "stream",
     "text": [
      "The number 45 has been added to the odd list.\n"
     ]
    },
    {
     "name": "stdin",
     "output_type": "stream",
     "text": [
      "Enter a number (or 'done' to finish):  34\n"
     ]
    },
    {
     "name": "stdout",
     "output_type": "stream",
     "text": [
      "The number 34 has been added to the even list.\n"
     ]
    },
    {
     "name": "stdin",
     "output_type": "stream",
     "text": [
      "Enter a number (or 'done' to finish):  5\n"
     ]
    },
    {
     "name": "stdout",
     "output_type": "stream",
     "text": [
      "The number 5 has been added to the odd list.\n"
     ]
    },
    {
     "name": "stdin",
     "output_type": "stream",
     "text": [
      "Enter a number (or 'done' to finish):  done\n"
     ]
    },
    {
     "name": "stdout",
     "output_type": "stream",
     "text": [
      "\n",
      "List of even numbers: [34]\n",
      "List of odd numbers: [45, 5]\n"
     ]
    }
   ],
   "source": [
    "\n",
    "even_numbers = []\n",
    "odd_numbers = []\n",
    "\n",
    "\n",
    "print(\"Enter numbers from 1 to 100. Enter 'done' when you are finished.\")\n",
    "\n",
    "while True:\n",
    "    user_input = input(\"Enter a number (or 'done' to finish): \")\n",
    "    \n",
    "    if user_input.lower() == 'done':\n",
    "        break\n",
    "    \n",
    "    \n",
    "    if user_input.isdigit():\n",
    "        number = int(user_input)\n",
    "        \n",
    "        \n",
    "        if 1 <= number <= 100:\n",
    "            if number % 2 == 0:\n",
    "                even_numbers.append(number)\n",
    "                print(f\"The number {number} has been added to the even list.\")\n",
    "            else:\n",
    "                odd_numbers.append(number)\n",
    "                print(f\"The number {number} has been added to the odd list.\")\n",
    "        else:\n",
    "            print(\"Number is out of range. Enter a number between 1 and 100.\")\n",
    "    else:\n",
    "        print(\"Invalid input.\")\n",
    "\n",
    "print(\"\\nList of even numbers:\", even_numbers)\n",
    "print(\"List of odd numbers:\", odd_numbers)\n"
   ]
  },
  {
   "cell_type": "code",
   "execution_count": null,
   "id": "78fe2e3d-9001-4764-92f2-66b47e048c75",
   "metadata": {},
   "outputs": [],
   "source": []
  }
 ],
 "metadata": {
  "kernelspec": {
   "display_name": "Python 3 (ipykernel)",
   "language": "python",
   "name": "python3"
  },
  "language_info": {
   "codemirror_mode": {
    "name": "ipython",
    "version": 3
   },
   "file_extension": ".py",
   "mimetype": "text/x-python",
   "name": "python",
   "nbconvert_exporter": "python",
   "pygments_lexer": "ipython3",
   "version": "3.11.7"
  }
 },
 "nbformat": 4,
 "nbformat_minor": 5
}
