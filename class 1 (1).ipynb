{
 "cells": [
  {
   "cell_type": "markdown",
   "id": "f5039f8d-4928-4025-8ce9-db04493aaf0d",
   "metadata": {},
   "source": [
    "topic: string data type"
   ]
  },
  {
   "cell_type": "code",
   "execution_count": 3,
   "id": "86d264cd-60c4-4a0d-9454-20a992ff90bc",
   "metadata": {},
   "outputs": [
    {
     "name": "stdout",
     "output_type": "stream",
     "text": [
      "qasim\n",
      "<class 'str'>\n",
      "2931839496176\n"
     ]
    }
   ],
   "source": [
    "name= \"qasim\"\n",
    "print(name) # print\n",
    "print(type(name)) # type\n",
    "print(id(name)) #physical address"
   ]
  },
  {
   "cell_type": "code",
   "execution_count": 4,
   "id": "fbe89e04-466a-48f7-8ef0-dbf22e98bdf9",
   "metadata": {},
   "outputs": [
    {
     "name": "stdout",
     "output_type": "stream",
     "text": [
      "700\n",
      "<class 'int'>\n",
      "2931838299856\n"
     ]
    }
   ],
   "source": [
    "name= \"qasim\"\n",
    "name=700\n",
    "print(name) # print\n",
    "print(type(name)) # type\n",
    "print(id(name)) #physical address\n"
   ]
  },
  {
   "cell_type": "markdown",
   "id": "5076e0d5-823d-4717-9d91-c594d78598c7",
   "metadata": {},
   "source": [
    "there was no problem in running the code in cell 4 when we wrote 'name = 700' after 'name= 'qasim'' ( changing the data type ) because python is a \n",
    "dynamic language. but this can cause problem in larger projects."
   ]
  },
  {
   "cell_type": "code",
   "execution_count": 10,
   "id": "0f46b74b-b66b-4b48-8405-aa9b8522c177",
   "metadata": {},
   "outputs": [
    {
     "name": "stdout",
     "output_type": "stream",
     "text": [
      "700\n"
     ]
    }
   ],
   "source": [
    "name : str = \"qasim\" # here we have mapped data type\n",
    "print(name)"
   ]
  },
  {
   "cell_type": "markdown",
   "id": "7309061e-4374-4817-9f8a-85e2eddee215",
   "metadata": {},
   "source": [
    "python is dynaminc interpreter language , jave script is not. python does not use type script , java script does use type script. type script is \n",
    "statistically typed. "
   ]
  },
  {
   "cell_type": "code",
   "execution_count": 9,
   "id": "33467641-c007-4198-8e2d-cba40b57c286",
   "metadata": {},
   "outputs": [
    {
     "ename": "SyntaxError",
     "evalue": "unmatched ')' (584742173.py, line 2)",
     "output_type": "error",
     "traceback": [
      "\u001b[1;36m  Cell \u001b[1;32mIn[9], line 2\u001b[1;36m\u001b[0m\n\u001b[1;33m    print(q))\u001b[0m\n\u001b[1;37m            ^\u001b[0m\n\u001b[1;31mSyntaxError\u001b[0m\u001b[1;31m:\u001b[0m unmatched ')'\n"
     ]
    }
   ],
   "source": [
    "q='sfs'\n",
    "print(q))\n",
    "print(q)"
   ]
  },
  {
   "cell_type": "code",
   "execution_count": 8,
   "id": "650d0a9a-6d87-481d-8380-c75ed90e5bc1",
   "metadata": {},
   "outputs": [
    {
     "data": {
      "text/plain": [
       "'aaaa'"
      ]
     },
     "execution_count": 8,
     "metadata": {},
     "output_type": "execute_result"
    }
   ],
   "source": [
    "q=\"aaaa\"\n",
    "q"
   ]
  },
  {
   "cell_type": "code",
   "execution_count": 12,
   "id": "aa6c42d9-9235-4584-a406-80a08ba3d392",
   "metadata": {},
   "outputs": [
    {
     "name": "stdout",
     "output_type": "stream",
     "text": [
      "700\n"
     ]
    }
   ],
   "source": [
    "name : str = 700 \n",
    "print(name)\n",
    "# this code is still running. this error will be shown in vs code , here it is not being shown. "
   ]
  },
  {
   "cell_type": "code",
   "execution_count": 13,
   "id": "1395ea5f-811f-4945-a69e-20d3363c78be",
   "metadata": {},
   "outputs": [
    {
     "name": "stdout",
     "output_type": "stream",
     "text": [
      "2000\n",
      "<class 'int'>\n",
      "2931852706512\n"
     ]
    }
   ],
   "source": [
    "# int data type ( below)\n",
    "name : int = 2000\n",
    "print(name) \n",
    "print(type(name)) \n",
    "print(id(name)) "
   ]
  },
  {
   "cell_type": "code",
   "execution_count": 14,
   "id": "ccaa27c0-6776-4695-8ecc-cbce6a0efd84",
   "metadata": {},
   "outputs": [
    {
     "name": "stdout",
     "output_type": "stream",
     "text": [
      "2000\n",
      "<class 'int'>\n",
      "2931852709936\n"
     ]
    }
   ],
   "source": [
    "# below is float data type\n",
    "name : float = 2000 \n",
    "print(name) \n",
    "print(type(name)) \n",
    "print(id(name)) \n",
    "# the output of this is int even though we assigned int to it .  ??"
   ]
  },
  {
   "cell_type": "code",
   "execution_count": 16,
   "id": "30ffaa8a-5b53-4896-b8e0-8b48235d2f38",
   "metadata": {},
   "outputs": [
    {
     "name": "stdout",
     "output_type": "stream",
     "text": [
      "2000.0\n",
      "<class 'float'>\n",
      "2931838299888\n"
     ]
    }
   ],
   "source": [
    "name : float = 2000.0\n",
    "print(name) \n",
    "print(type(name)) \n",
    "print(id(name)) "
   ]
  },
  {
   "cell_type": "code",
   "execution_count": 21,
   "id": "5e437839-462f-433e-8afe-481b539ebb63",
   "metadata": {},
   "outputs": [
    {
     "name": "stdout",
     "output_type": "stream",
     "text": [
      "<class 'bool'>\n",
      "<class 'type'>\n",
      "140718198377376\n"
     ]
    }
   ],
   "source": [
    "# Below bool data type has been used\n",
    "name : bool = bool\n",
    "print(name) \n",
    "print(type(name)) \n",
    "print(id(name)) "
   ]
  },
  {
   "cell_type": "code",
   "execution_count": 23,
   "id": "93a10901-57a0-4d95-aec0-077ed2d9d085",
   "metadata": {},
   "outputs": [
    {
     "name": "stdout",
     "output_type": "stream",
     "text": [
      "['a', 'b', 'c', 200]\n",
      "<class 'list'>\n",
      "2931853138688\n"
     ]
    }
   ],
   "source": [
    "# below list data type has been used.\n",
    "name: list [str]=['a','b','c',200]\n",
    "print(name)\n",
    "print(type(name))\n",
    "print(id(name))"
   ]
  },
  {
   "cell_type": "code",
   "execution_count": 28,
   "id": "64912b9f-e71a-4ebc-b8b9-0a8a4f132912",
   "metadata": {},
   "outputs": [
    {
     "name": "stdout",
     "output_type": "stream",
     "text": [
      "('pakistan', 'b', 'c', 200)\n",
      "<class 'tuple'>\n",
      "2931852794736\n"
     ]
    }
   ],
   "source": [
    "# below is tuple data type\n",
    "name: tuple [str,int,float]=('pakistan','b','c',200) # in vs code this line will show error. because '200' is not 'float'.\n",
    "print(name)\n",
    "print(type(name))\n",
    "print(id(name))"
   ]
  },
  {
   "cell_type": "code",
   "execution_count": 29,
   "id": "8fbcd3d0-7845-4522-b204-5343d1b9e11e",
   "metadata": {},
   "outputs": [
    {
     "name": "stdout",
     "output_type": "stream",
     "text": [
      "200\n",
      "<class 'int'>\n",
      "140718199856136\n"
     ]
    }
   ],
   "source": [
    "name: any = 200 # any from typescript\n",
    "print(name)\n",
    "print(type(name))\n",
    "print(id(name))"
   ]
  }
 ],
 "metadata": {
  "kernelspec": {
   "display_name": "Python 3 (ipykernel)",
   "language": "python",
   "name": "python3"
  },
  "language_info": {
   "codemirror_mode": {
    "name": "ipython",
    "version": 3
   },
   "file_extension": ".py",
   "mimetype": "text/x-python",
   "name": "python",
   "nbconvert_exporter": "python",
   "pygments_lexer": "ipython3",
   "version": "3.11.7"
  }
 },
 "nbformat": 4,
 "nbformat_minor": 5
}
