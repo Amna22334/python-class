{
 "cells": [
  {
   "cell_type": "code",
   "execution_count": 3,
   "id": "1e942069-f494-4f17-8e94-eb84c4e2403f",
   "metadata": {},
   "outputs": [
    {
     "name": "stdin",
     "output_type": "stream",
     "text": [
      "Enter your name : qasim\n"
     ]
    },
    {
     "data": {
      "text/plain": [
       "True"
      ]
     },
     "execution_count": 3,
     "metadata": {},
     "output_type": "execute_result"
    }
   ],
   "source": [
    "# another example of 'in' operator.\n",
    "names = [\"sir zia\", \"sir inam\", \"qasim\"] # or     names : list [str]= [\"sir zia\", \"sir inam\",\"qasim\" ]\n",
    "uinput= input(\"Enter your name :\")       # or     uinput : str = input(\"Enter your name:)\n",
    "uinput in names"
   ]
  },
  {
   "cell_type": "code",
   "execution_count": 9,
   "id": "95219916-a6be-4264-94db-a27a5dcc921a",
   "metadata": {},
   "outputs": [
    {
     "name": "stdin",
     "output_type": "stream",
     "text": [
      "Enter your name: kiki\n"
     ]
    },
    {
     "data": {
      "text/plain": [
       "False"
      ]
     },
     "execution_count": 9,
     "metadata": {},
     "output_type": "execute_result"
    }
   ],
   "source": [
    "#or\n",
    "names : list [str]= [\"sir zia\", \"sir inam\",\"qasim\" ]\n",
    "uinput : str = input(\"Enter your name:\")\n",
    "uinput in names"
   ]
  },
  {
   "cell_type": "code",
   "execution_count": 5,
   "id": "0e057898-10ba-42ac-b815-d16f512c6485",
   "metadata": {},
   "outputs": [
    {
     "name": "stdin",
     "output_type": "stream",
     "text": [
      "enter your name: sir inam\n"
     ]
    },
    {
     "name": "stdout",
     "output_type": "stream",
     "text": [
      "true\n"
     ]
    }
   ],
   "source": [
    "# or\n",
    "names = [\"sir zia\",\"sir inam\",\"qasim\"]\n",
    "uinput= input(\"enter your name:\")\n",
    "if uinput in names:\n",
    "    print(\"true\")\n",
    "else:\n",
    "    print(\"false\")"
   ]
  },
  {
   "cell_type": "code",
   "execution_count": 13,
   "id": "fe426930-bd84-4fe8-afd3-2ab0405128f5",
   "metadata": {},
   "outputs": [
    {
     "name": "stdin",
     "output_type": "stream",
     "text": [
      "Enter your name : qasim\n"
     ]
    },
    {
     "data": {
      "text/plain": [
       "False"
      ]
     },
     "execution_count": 13,
     "metadata": {},
     "output_type": "execute_result"
    }
   ],
   "source": [
    "# 'not in' operator\n",
    "names = [\"sir zia\", \"sir inam\", \"qasim\"]\n",
    "uinput= input(\"Enter your name :\")   \n",
    "uinput not in names"
   ]
  },
  {
   "cell_type": "code",
   "execution_count": 10,
   "id": "3128ac43-caab-4c83-ba19-0e88e8bfd04f",
   "metadata": {},
   "outputs": [
    {
     "data": {
      "text/plain": [
       "False"
      ]
     },
     "execution_count": 10,
     "metadata": {},
     "output_type": "execute_result"
    }
   ],
   "source": [
    "uinput is names"
   ]
  },
  {
   "cell_type": "code",
   "execution_count": 11,
   "id": "d2fe8885-eee3-45ee-95c0-c763f3598225",
   "metadata": {},
   "outputs": [
    {
     "ename": "SyntaxError",
     "evalue": "invalid syntax (4119749534.py, line 1)",
     "output_type": "error",
     "traceback": [
      "\u001b[1;36m  Cell \u001b[1;32mIn[11], line 1\u001b[1;36m\u001b[0m\n\u001b[1;33m    uinput is not in names\u001b[0m\n\u001b[1;37m                  ^\u001b[0m\n\u001b[1;31mSyntaxError\u001b[0m\u001b[1;31m:\u001b[0m invalid syntax\n"
     ]
    }
   ],
   "source": [
    "uinput is not in names"
   ]
  },
  {
   "cell_type": "code",
   "execution_count": 14,
   "id": "cdc7c1be-f224-4b94-91df-72b3de78095b",
   "metadata": {},
   "outputs": [
    {
     "data": {
      "text/plain": [
       "False"
      ]
     },
     "execution_count": 14,
     "metadata": {},
     "output_type": "execute_result"
    }
   ],
   "source": [
    "uinput not in names"
   ]
  },
  {
   "cell_type": "markdown",
   "id": "30e6f652-5fa9-4781-8c1e-fa292ed662fb",
   "metadata": {},
   "source": [
    "<img src = 'https://learningmonkey.in/wp-content/uploads/2021/05/Operator-Precedence-and-Associativity-in-Python.jpg'>     (markdowon and press enter)( copy image address)"
   ]
  },
  {
   "cell_type": "markdown",
   "id": "d6299c55-239e-45c4-91c7-635348058df8",
   "metadata": {},
   "source": [
    "<img src = 'https://learningmonkey.in/wp-content/uploads/2021/05/Operator-Precedence-and-Associativity-in-Python.jpg'>"
   ]
  },
  {
   "cell_type": "code",
   "execution_count": 18,
   "id": "b095f599-089a-442e-86eb-1a3170f7553c",
   "metadata": {},
   "outputs": [
    {
     "name": "stdout",
     "output_type": "stream",
     "text": [
      "3.0\n"
     ]
    }
   ],
   "source": [
    "# pemdas.bodmas\n",
    "print(3+2-2*4/2+2) # solving it by using pemdas\n",
    "#    (3+2-(2*4)/2+2)\n",
    "#     3+2-(8/2)+2\n",
    "#     (3+2)-4+2\n",
    "#     (5-4)+2\n",
    "#      1+2\n",
    "#      3                   # multiplcation and division are same, addition and subtraction are same\n",
    "\n",
    "#weights and bias"
   ]
  },
  {
   "cell_type": "code",
   "execution_count": 20,
   "id": "8c33fe2b-4739-4d04-955a-21cbf04cc5e9",
   "metadata": {},
   "outputs": [
    {
     "name": "stdout",
     "output_type": "stream",
     "text": [
      "14000000000\n"
     ]
    }
   ],
   "source": [
    "universe_age= 14_000_000_000                        # or universe_age : int = 14_000_000_000\n",
    "print(universe_age)"
   ]
  },
  {
   "cell_type": "code",
   "execution_count": 30,
   "id": "659b1a7f-178b-4362-8471-e0c9e153603f",
   "metadata": {},
   "outputs": [
    {
     "name": "stdout",
     "output_type": "stream",
     "text": [
      "qasim\n",
      "7\n",
      "3.0\n"
     ]
    }
   ],
   "source": [
    "# zip , unzip\n",
    "x,y,z= 0,0,0\n",
    "\n",
    "#0 1 2      0   1  2\n",
    "a,b,c=\"qasim\",7,3.0\n",
    "print(a)     # unzip\n",
    "print(b)\n",
    "print(c)"
   ]
  },
  {
   "cell_type": "code",
   "execution_count": 29,
   "id": "f78bd9d0-2e1b-4274-80ab-2f026bf7fc51",
   "metadata": {},
   "outputs": [
    {
     "data": {
      "text/plain": [
       "('qasim', 7, 3.0)"
      ]
     },
     "execution_count": 29,
     "metadata": {},
     "output_type": "execute_result"
    }
   ],
   "source": [
    "a,b,c"
   ]
  },
  {
   "cell_type": "code",
   "execution_count": 31,
   "id": "35199b51-4d43-4b19-ab37-ac62a752ebd0",
   "metadata": {},
   "outputs": [
    {
     "data": {
      "text/plain": [
       "('qasim', 7, 3.0)"
      ]
     },
     "execution_count": 31,
     "metadata": {},
     "output_type": "execute_result"
    }
   ],
   "source": [
    "\"qasim\",7,3.0\n",
    "\n",
    "# in output we get tuple automatically"
   ]
  },
  {
   "cell_type": "code",
   "execution_count": 40,
   "id": "78ec4346-7126-4f62-a1ac-a4173464f812",
   "metadata": {},
   "outputs": [
    {
     "name": "stdout",
     "output_type": "stream",
     "text": [
      "qaism\n",
      "7\n",
      "3.0\n"
     ]
    }
   ],
   "source": [
    "# from iterative data type like list and tuple , we can unzip\n",
    "tuple =a,b,c=(\"qaism\",7,3.0)  # this is tuple\n",
    "print(a)\n",
    "print(b)\n",
    "print(c)"
   ]
  },
  {
   "cell_type": "code",
   "execution_count": 41,
   "id": "0bb4284d-ed38-4f50-b76c-2c10ba5934c6",
   "metadata": {},
   "outputs": [
    {
     "name": "stdout",
     "output_type": "stream",
     "text": [
      "qaism\n",
      "7\n",
      "3.0\n"
     ]
    }
   ],
   "source": [
    "a =a,b,c=(\"qaism\",7,3.0)  # ex\n",
    "print(a)\n",
    "print(b)\n",
    "print(c)"
   ]
  },
  {
   "cell_type": "code",
   "execution_count": 43,
   "id": "bc4c951c-1194-4507-b9e5-57ff258201d2",
   "metadata": {},
   "outputs": [
    {
     "name": "stdout",
     "output_type": "stream",
     "text": [
      "qasim 7 3.0\n",
      "qasim 7 3.0\n"
     ]
    }
   ],
   "source": [
    "data = (\"qasim\", 7,3.0)\n",
    "print ( data[0], data [1],data [2]  )\n",
    "print(* data) # this is shortcut for above line of code"
   ]
  },
  {
   "cell_type": "code",
   "execution_count": 47,
   "id": "7ab37a97-631c-44c0-b231-506709a44f35",
   "metadata": {},
   "outputs": [
    {
     "data": {
      "text/plain": [
       "4"
      ]
     },
     "execution_count": 47,
     "metadata": {},
     "output_type": "execute_result"
    }
   ],
   "source": [
    "2*2"
   ]
  },
  {
   "cell_type": "code",
   "execution_count": 46,
   "id": "09ad0182-a87e-4e68-b2b1-39619c1af1ba",
   "metadata": {},
   "outputs": [
    {
     "data": {
      "text/plain": [
       "'qaismqaismqaism'"
      ]
     },
     "execution_count": 46,
     "metadata": {},
     "output_type": "execute_result"
    }
   ],
   "source": [
    "a* 3"
   ]
  },
  {
   "cell_type": "code",
   "execution_count": 48,
   "id": "1a742220-85aa-4f31-a58b-206c11e57d23",
   "metadata": {},
   "outputs": [
    {
     "data": {
      "text/plain": [
       "'aaa'"
      ]
     },
     "execution_count": 48,
     "metadata": {},
     "output_type": "execute_result"
    }
   ],
   "source": [
    "\"a\" * 3"
   ]
  },
  {
   "cell_type": "code",
   "execution_count": null,
   "id": "f40577bb-0bbe-4ba9-ac49-ab4394159916",
   "metadata": {},
   "outputs": [],
   "source": [
    "# comments        control + forward slash -> to comment all lines , ( and press again to uncomment)\n",
    "\n",
    "# ffdfd\n",
    "# fdfd\n",
    "# fdfd"
   ]
  },
  {
   "cell_type": "code",
   "execution_count": 53,
   "id": "1f867cfb-2984-4405-acea-82fac6e027be",
   "metadata": {},
   "outputs": [
    {
     "name": "stdout",
     "output_type": "stream",
     "text": [
      "15\n"
     ]
    }
   ],
   "source": [
    "# walrus operator  :=      walrus operator allows you to assign a value to a variable within an expression\n",
    "a= 10        # a : int = 5\n",
    "if (a< (b  := a + 5)):\n",
    "    print(b)\n",
    "else:\n",
    "    print(\"else is working\")"
   ]
  },
  {
   "cell_type": "code",
   "execution_count": 54,
   "id": "729fd7fc-d362-42fe-a1e4-65e415155ae0",
   "metadata": {},
   "outputs": [
    {
     "data": {
      "text/plain": [
       "15"
      ]
     },
     "execution_count": 54,
     "metadata": {},
     "output_type": "execute_result"
    }
   ],
   "source": [
    "b"
   ]
  },
  {
   "cell_type": "code",
   "execution_count": 55,
   "id": "d2f40b1d-bba0-44a0-a88b-11fda283202c",
   "metadata": {},
   "outputs": [
    {
     "name": "stdout",
     "output_type": "stream",
     "text": [
      "The Zen of Python, by Tim Peters\n",
      "\n",
      "Beautiful is better than ugly.\n",
      "Explicit is better than implicit.\n",
      "Simple is better than complex.\n",
      "Complex is better than complicated.\n",
      "Flat is better than nested.\n",
      "Sparse is better than dense.\n",
      "Readability counts.\n",
      "Special cases aren't special enough to break the rules.\n",
      "Although practicality beats purity.\n",
      "Errors should never pass silently.\n",
      "Unless explicitly silenced.\n",
      "In the face of ambiguity, refuse the temptation to guess.\n",
      "There should be one-- and preferably only one --obvious way to do it.\n",
      "Although that way may not be obvious at first unless you're Dutch.\n",
      "Now is better than never.\n",
      "Although never is often better than *right* now.\n",
      "If the implementation is hard to explain, it's a bad idea.\n",
      "If the implementation is easy to explain, it may be a good idea.\n",
      "Namespaces are one honking great idea -- let's do more of those!\n"
     ]
    }
   ],
   "source": [
    "# zen of python\n",
    "import this\n"
   ]
  },
  {
   "cell_type": "code",
   "execution_count": null,
   "id": "bfeb7ee3-fcd8-4bff-b7d2-05cd3c698de8",
   "metadata": {},
   "outputs": [],
   "source": []
  }
 ],
 "metadata": {
  "kernelspec": {
   "display_name": "Python 3 (ipykernel)",
   "language": "python",
   "name": "python3"
  },
  "language_info": {
   "codemirror_mode": {
    "name": "ipython",
    "version": 3
   },
   "file_extension": ".py",
   "mimetype": "text/x-python",
   "name": "python",
   "nbconvert_exporter": "python",
   "pygments_lexer": "ipython3",
   "version": "3.11.7"
  }
 },
 "nbformat": 4,
 "nbformat_minor": 5
}
