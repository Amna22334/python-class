{
 "cells": [
  {
   "cell_type": "raw",
   "id": "4be37e79-6470-472d-b8ca-7980a87dae73",
   "metadata": {},
   "source": [
    "# class 5 : list ,tuple and list comprehensive\n",
    "#list : iteration operation with loop, apply any operation on element."
   ]
  },
  {
   "cell_type": "code",
   "execution_count": 5,
   "id": "afaefc6f-1be3-4349-bcda-9327b34a7c0a",
   "metadata": {},
   "outputs": [
    {
     "name": "stdout",
     "output_type": "stream",
     "text": [
      "['sir zia', 'm.qasim', 'dr noman']\n"
     ]
    }
   ],
   "source": [
    "names : list[str] = [\"sir zia\",\"m.qasim\",\"dr noman\"]\n",
    "print(names)"
   ]
  },
  {
   "cell_type": "code",
   "execution_count": 6,
   "id": "d7d44147-51bb-4854-b05f-6ee2667245c4",
   "metadata": {},
   "outputs": [
    {
     "name": "stdout",
     "output_type": "stream",
     "text": [
      "['sir zia', 'm.qasim', 'dr noman']\n",
      "['sir zia', 'm.qasim', 'dr noman']\n",
      "['sir zia', 'm.qasim', 'dr noman']\n"
     ]
    }
   ],
   "source": [
    "names : list[str] = [\"sir zia\",\"m.qasim\",\"dr noman\"]\n",
    "for name in names:\n",
    "    print(names)\n",
    "# loop can perform interation on iterative data type (list,tuple)"
   ]
  },
  {
   "cell_type": "raw",
   "id": "6ad9a680-f1fc-4d78-b395-fb1c5b1b695a",
   "metadata": {},
   "source": [
    "names : list[str] = [\"sir zia\",\"m.qasim\",\"dr noman\"]\n",
    "for name in names:\n",
    "for names in [\"sir zia\",\"m.qasim\",\"dr noman\"]:\n",
    "for \"sir zia\" in [\"sir zia\",\"m.qasim\",\"dr noman\"]:"
   ]
  },
  {
   "cell_type": "code",
   "execution_count": 9,
   "id": "a61a8933-4eef-460e-8015-99a5c1bd578f",
   "metadata": {},
   "outputs": [
    {
     "name": "stdout",
     "output_type": "stream",
     "text": [
      "sir zia\n",
      "m.qasim\n",
      "dr noman\n"
     ]
    }
   ],
   "source": [
    "names : list[str] = [\"sir zia\",\"m.qasim\",\"dr noman\"]\n",
    "for name in names:\n",
    "    print(name) # indentation is of four spaces"
   ]
  },
  {
   "cell_type": "code",
   "execution_count": 11,
   "id": "74571298-2bba-4488-91ee-4efcc5c23a9e",
   "metadata": {},
   "outputs": [
    {
     "name": "stdout",
     "output_type": "stream",
     "text": [
      "welcome dear teacherSir Zia\n",
      "welcome dear teacherM.Qasim\n",
      "welcome dear teacherDr Noman\n"
     ]
    }
   ],
   "source": [
    "names : list [str] = [\"sir zia\",\"m.qasim\",\"dr noman\"]\n",
    "for name in names:\n",
    "    print(f\"welcome dear teacher{name.title()}\")"
   ]
  },
  {
   "cell_type": "code",
   "execution_count": 12,
   "id": "11e8eb8f-280c-4bd0-b1d1-bfc404a667ce",
   "metadata": {},
   "outputs": [
    {
     "name": "stdout",
     "output_type": "stream",
     "text": [
      "welcome dear teacherSir Zia\n",
      "paic gen ai team\n",
      "welcome dear teacherM.Qasim\n",
      "paic gen ai team\n",
      "welcome dear teacherDr Noman\n",
      "paic gen ai team\n"
     ]
    }
   ],
   "source": [
    "for name in names:\n",
    "    print(f\"welcome dear teacher{name.title()}\")\n",
    "    print(\"paic gen ai team\")"
   ]
  },
  {
   "cell_type": "code",
   "execution_count": 13,
   "id": "df2140fc-5bc8-48de-aaca-195bd5222cb9",
   "metadata": {},
   "outputs": [
    {
     "name": "stdout",
     "output_type": "stream",
     "text": [
      "welcome dear teacherSir Zia\n",
      "paic gen ai team\n",
      "\n",
      "welcome dear teacherM.Qasim\n",
      "paic gen ai team\n",
      "\n",
      "welcome dear teacherDr Noman\n",
      "paic gen ai team\n",
      "\n"
     ]
    }
   ],
   "source": [
    "for name in names:\n",
    "    print(f\"welcome dear teacher{name.title()}\")\n",
    "    print(\"paic gen ai team\\n\") # this line is printed with every iteration"
   ]
  },
  {
   "cell_type": "code",
   "execution_count": 14,
   "id": "253fc9da-d9a8-439a-af09-8d56ab595c60",
   "metadata": {},
   "outputs": [
    {
     "name": "stdout",
     "output_type": "stream",
     "text": [
      "welcome dear teacherSir Zia\n",
      "paic gen ai team\n",
      "\n",
      "welcome dear teacherM.Qasim\n",
      "paic gen ai team\n",
      "\n",
      "welcome dear teacherDr Noman\n",
      "paic gen ai team\n",
      "\n",
      "pakistan zinda a bad\n"
     ]
    }
   ],
   "source": [
    "names : list [str] = [\"sir zia\",\"m.qasim\",\"dr noman\"]\n",
    "for name in names:\n",
    "    print(f\"welcome dear teacher{name.title()}\")\n",
    "    print(\"paic gen ai team\\n\")\n",
    "\n",
    "print(\"pakistan zinda a bad\")"
   ]
  },
  {
   "cell_type": "code",
   "execution_count": 16,
   "id": "fff42aa7-d15f-4231-8c7e-e78052502b74",
   "metadata": {},
   "outputs": [
    {
     "name": "stdout",
     "output_type": "stream",
     "text": [
      "sir zia\n",
      "m.qasim\n"
     ]
    }
   ],
   "source": [
    "names : list [str] = [\"sir zia\",\"m.qasim\",\"dr noman\"]\n",
    "for name in names[:2]: # slicing. to print print particular number of elements from collection, not all elements\n",
    "    print(name)\n",
    "    "
   ]
  },
  {
   "cell_type": "code",
   "execution_count": 17,
   "id": "11d02849-101a-4b1f-85b8-a819e0ffc2a2",
   "metadata": {},
   "outputs": [
    {
     "name": "stdout",
     "output_type": "stream",
     "text": [
      "dr.nouman\n",
      "m.qasim\n",
      "sir zia\n"
     ]
    }
   ],
   "source": [
    "names : list [str] = [\"sir zia\",\"m.qasim\",\"dr.nouman\"]\n",
    "for name in names[::-1]:\n",
    "    print(name)"
   ]
  },
  {
   "cell_type": "code",
   "execution_count": 20,
   "id": "28a83e50-7118-428d-971c-344d33b62638",
   "metadata": {},
   "outputs": [
    {
     "name": "stdout",
     "output_type": "stream",
     "text": [
      "('qasim', '123')\n",
      "('sir zia', '345')\n",
      "('ikhlas', '789')\n"
     ]
    }
   ],
   "source": [
    "# example   ( user name and password in database)\n",
    "#                                      user    pasword\n",
    "data_base : list [tuple[str,str]] = [(\"qasim\",\"123\"),\n",
    "                                    (\"sir zia\",\"345\"),\n",
    "                                    (\"ikhlas\",\"789\")]\n",
    "for row in data_base:\n",
    "    print(row)                       "
   ]
  },
  {
   "cell_type": "code",
   "execution_count": 22,
   "id": "b785bc5c-35d6-4c28-ac4e-7ca49dc259f5",
   "metadata": {},
   "outputs": [
    {
     "name": "stdin",
     "output_type": "stream",
     "text": [
      "enter user name: m.qasim\n"
     ]
    },
    {
     "name": "stdout",
     "output_type": "stream",
     "text": [
      "input_user\n"
     ]
    }
   ],
   "source": [
    "input_user : str = input(\"enter user name:\")\n",
    "print(\"input_user\")"
   ]
  },
  {
   "cell_type": "code",
   "execution_count": 30,
   "id": "d9429234-bd8a-43b7-bc04-c80c6302bcd4",
   "metadata": {},
   "outputs": [
    {
     "name": "stdin",
     "output_type": "stream",
     "text": [
      "enter user name: dfdf\n",
      "enter password : fdf\n"
     ]
    }
   ],
   "source": [
    "data_base : list[tuple[str,str]] = [(\"qasim\",\"123\"),  # user name and password in database . aunthentication system\n",
    "                                   (\"sir zia\",\"345\"),\n",
    "                                   (\"ikhlas\",\"789\")]\n",
    "\n",
    "input_user : str = input(\"enter user name:\")\n",
    "input_password : str = input(\"enter password :\")\n",
    "\n",
    "for row in data_base:\n",
    "    user,password = row # unzip\n",
    "    if input_user == user and input_password == password:\n",
    "        print(\"valid user\")\n",
    "    break\n",
    "else:\n",
    "    print(\"not found or invalid user name\")\n"
   ]
  },
  {
   "cell_type": "code",
   "execution_count": 32,
   "id": "4d0d15cf-32d1-4d14-a1ad-79abcc24bc36",
   "metadata": {},
   "outputs": [
    {
     "name": "stdout",
     "output_type": "stream",
     "text": [
      "sir zia\n",
      "m.qasim\n",
      "dr noman\n",
      "hello world\n"
     ]
    }
   ],
   "source": [
    "# example\n",
    "names : list [str] = [\"sir zia\",\"m.qasim\",\"dr noman\"]\n",
    "\n",
    "for name in names :\n",
    "    print(name)\n",
    "else:\n",
    "    print(\"hello world\")\n",
    "    "
   ]
  },
  {
   "cell_type": "code",
   "execution_count": 33,
   "id": "42af9805-b6bf-40e3-815b-b419d7cd9656",
   "metadata": {},
   "outputs": [
    {
     "name": "stdout",
     "output_type": "stream",
     "text": [
      "sir zia\n",
      "m.qasim\n",
      "dr noman\n",
      "hello world\n"
     ]
    }
   ],
   "source": [
    "#                   difference between using else with for and      not using else with for\n",
    "# example a1 \n",
    "names : list [str] = [\"sir zia\",\"m.qasim\",\"dr noman\"]\n",
    "for name in names:\n",
    "    print (name)\n",
    "else:\n",
    "    print(\"hello world\")"
   ]
  },
  {
   "cell_type": "code",
   "execution_count": 37,
   "id": "8634f038-4d1c-49fe-a192-d3653c6a7a3d",
   "metadata": {},
   "outputs": [
    {
     "name": "stdout",
     "output_type": "stream",
     "text": [
      "sir zia\n",
      "m.qasim\n",
      "dr noman\n",
      "hello world\n"
     ]
    }
   ],
   "source": [
    "# b1\n",
    "names : list [str] = [\"sir zia\",\"m.qasim\",\"dr noman\"]\n",
    "for name in names:\n",
    "    print (name)\n",
    "print(\"hello world\")"
   ]
  },
  {
   "cell_type": "code",
   "execution_count": 38,
   "id": "59a40144-3e40-40b2-b726-4fa5face6de3",
   "metadata": {},
   "outputs": [
    {
     "name": "stdout",
     "output_type": "stream",
     "text": [
      "sir zia\n"
     ]
    }
   ],
   "source": [
    "# a2\n",
    "names : list [str] = [\"sir zia\",\"m.qasim\",\"dr noman\"]\n",
    "for name in names:\n",
    "    print (name)\n",
    "    break\n",
    "else:\n",
    "    print(\"hello world\")"
   ]
  },
  {
   "cell_type": "code",
   "execution_count": 39,
   "id": "70ab7e61-a40a-4bbd-a592-c6a65f08c13f",
   "metadata": {},
   "outputs": [
    {
     "name": "stdout",
     "output_type": "stream",
     "text": [
      "sir zia\n",
      "hello world\n"
     ]
    }
   ],
   "source": [
    "# b2\n",
    "names : list [str] = [\"sir zia\",\"m.qasim\",\"dr noman\"]\n",
    "for name in names:\n",
    "    print (name)\n",
    "    break\n",
    "print(\"hello world\")"
   ]
  },
  {
   "cell_type": "code",
   "execution_count": 42,
   "id": "0f43b770-5ab7-4324-af1b-022d17723748",
   "metadata": {},
   "outputs": [
    {
     "ename": "IndentationError",
     "evalue": "expected an indented block after 'for' statement on line 2 (139048422.py, line 3)",
     "output_type": "error",
     "traceback": [
      "\u001b[1;36m  Cell \u001b[1;32mIn[42], line 3\u001b[1;36m\u001b[0m\n\u001b[1;33m    print(name)\u001b[0m\n\u001b[1;37m    ^\u001b[0m\n\u001b[1;31mIndentationError\u001b[0m\u001b[1;31m:\u001b[0m expected an indented block after 'for' statement on line 2\n"
     ]
    }
   ],
   "source": [
    "names : list [str] = [\"sir zia\",\"m.qasim\",\"dr noman\"]\n",
    "for name in names:\n",
    "print(name) \n",
    "# error in output due to no indentation in third line."
   ]
  },
  {
   "cell_type": "code",
   "execution_count": 4,
   "id": "82f0767c-abc7-424e-b178-d62d952339d0",
   "metadata": {},
   "outputs": [
    {
     "name": "stdout",
     "output_type": "stream",
     "text": [
      "Alice that was a great trick!\n",
      "David that was a great trick!\n",
      "Carolina that was a great trick!\n",
      "I can't wait to see your next trick Carolina.\n"
     ]
    }
   ],
   "source": [
    "magicians : list [str] = [\"alice\",\"david\",\"carolina\"]\n",
    "for magician in magicians:\n",
    "    print(f\"{magician.title()} that was a great trick!\")\n",
    "    \n",
    "print(f\"I can't wait to see your next trick {magician.title()}.\") # in the output there is 'carolina'. it is because in python the value of local \n",
    "# variable in loop can be used outside the loop. (magician value carolina is accessible outside loop)"
   ]
  },
  {
   "cell_type": "raw",
   "id": "e12bb9eb-f451-4cab-b609-daaf0b809bd0",
   "metadata": {},
   "source": [
    "# numbers with loop : range (start,end,step)"
   ]
  },
  {
   "cell_type": "code",
   "execution_count": 5,
   "id": "e0079086-3346-4cf5-99b9-6df2cf4f99b1",
   "metadata": {},
   "outputs": [
    {
     "data": {
      "text/plain": [
       "range(0, 10)"
      ]
     },
     "execution_count": 5,
     "metadata": {},
     "output_type": "execute_result"
    }
   ],
   "source": [
    "range(10) # the output shows we cannot get numbers without iteration"
   ]
  },
  {
   "cell_type": "code",
   "execution_count": 6,
   "id": "a19cc2b4-8e91-4d0e-98df-656cb6955fff",
   "metadata": {},
   "outputs": [
    {
     "data": {
      "text/plain": [
       "range(0, 10)"
      ]
     },
     "execution_count": 6,
     "metadata": {},
     "output_type": "execute_result"
    }
   ],
   "source": [
    "range(0,10)"
   ]
  },
  {
   "cell_type": "code",
   "execution_count": 7,
   "id": "d868fa49-e7ae-4190-a8d4-b73463da95d2",
   "metadata": {},
   "outputs": [
    {
     "data": {
      "text/plain": [
       "[0, 1, 2, 3, 4, 5, 6, 7, 8, 9]"
      ]
     },
     "execution_count": 7,
     "metadata": {},
     "output_type": "execute_result"
    }
   ],
   "source": [
    "list(range(10)) # starting=0, ending=n-1  # first number is default zero. 10 is second number."
   ]
  },
  {
   "cell_type": "code",
   "execution_count": 8,
   "id": "2a926b70-1041-4b19-9739-8f2c5c44188e",
   "metadata": {},
   "outputs": [
    {
     "data": {
      "text/plain": [
       "[2, 3, 4, 5, 6, 7, 8, 9]"
      ]
     },
     "execution_count": 8,
     "metadata": {},
     "output_type": "execute_result"
    }
   ],
   "source": [
    "list(range(2,10))"
   ]
  },
  {
   "cell_type": "code",
   "execution_count": 9,
   "id": "a09d16a2-acf6-4eb9-a140-5feb0a2a6892",
   "metadata": {},
   "outputs": [
    {
     "data": {
      "text/plain": [
       "[2, 4, 6, 8, 10, 12, 14, 16, 18, 20]"
      ]
     },
     "execution_count": 9,
     "metadata": {},
     "output_type": "execute_result"
    }
   ],
   "source": [
    "list(range(2,21,2)) # table of 2"
   ]
  },
  {
   "cell_type": "code",
   "execution_count": 11,
   "id": "142addf8-1cd1-4dd6-b4b0-b24687be0a54",
   "metadata": {},
   "outputs": [
    {
     "name": "stdout",
     "output_type": "stream",
     "text": [
      "2\n",
      "4\n",
      "6\n",
      "8\n",
      "10\n",
      "12\n",
      "14\n",
      "16\n",
      "18\n",
      "20\n"
     ]
    }
   ],
   "source": [
    "\n",
    "for n in range(2,21,2): # here loop is performing iteration itself so we dont have to use list with range\n",
    "    print(n)"
   ]
  },
  {
   "cell_type": "code",
   "execution_count": 12,
   "id": "d9f4ead6-23a4-4f1e-96b9-5408454bbe80",
   "metadata": {},
   "outputs": [
    {
     "data": {
      "text/plain": [
       "[(0, 'alice'), (1, 'david'), (2, 'carolina')]"
      ]
     },
     "execution_count": 12,
     "metadata": {},
     "output_type": "execute_result"
    }
   ],
   "source": [
    "# we apply list on generative function like range and enumerate.\n",
    "magicians=[\"alice\",\"david\",\"carolina\"]\n",
    "\n",
    "# enumerate(magicians)\n",
    "list(enumerate(magicians)) #enumerate function returns element with its index number"
   ]
  },
  {
   "cell_type": "code",
   "execution_count": 15,
   "id": "439ed108-4734-4955-a0d9-7fefe36702ef",
   "metadata": {},
   "outputs": [
    {
     "name": "stdout",
     "output_type": "stream",
     "text": [
      "alice 0\n",
      "david 1\n",
      "carolina 2\n"
     ]
    }
   ],
   "source": [
    "\n",
    "magicians = [\"alice\",\"david\",\"carolina\"]\n",
    "for index,name in enumerate(magicians): # here we didnt put 'list' with 'enumerate(magicians)' because we have used 'for loop' which does iteration for us\n",
    "    print(name,index)\n",
    "    "
   ]
  },
  {
   "cell_type": "code",
   "execution_count": 16,
   "id": "b5834eab-64c7-4de2-8bf3-0f9f840617f0",
   "metadata": {},
   "outputs": [
    {
     "name": "stdout",
     "output_type": "stream",
     "text": [
      "2X1=2\n",
      "2X2=4\n",
      "2X3=6\n",
      "2X4=8\n",
      "2X5=10\n",
      "2X6=12\n",
      "2X7=14\n",
      "2X8=16\n",
      "2X9=18\n",
      "2X10=20\n"
     ]
    }
   ],
   "source": [
    "# table of 2\n",
    "for n in range (1,11):\n",
    "    print(f\"{2}X{n}={n*2}\")"
   ]
  },
  {
   "cell_type": "code",
   "execution_count": 20,
   "id": "25685008-ed75-49c7-8e9d-229f46d7027f",
   "metadata": {},
   "outputs": [
    {
     "name": "stdout",
     "output_type": "stream",
     "text": [
      "[1, 4, 9, 16, 25, 36, 49, 64, 81, 100]\n"
     ]
    }
   ],
   "source": [
    "\n",
    "squares : list[int] = []\n",
    "for value in range (1,11) :\n",
    "    square= value**2         # ('square' is local variable)\n",
    "    squares.append(square)\n",
    "\n",
    "print(squares)"
   ]
  },
  {
   "cell_type": "raw",
   "id": "45d952d6-d835-4a5a-8e2e-3d6c16977a69",
   "metadata": {},
   "source": [
    "# LIST COMPREHENSIVE\n",
    "\n",
    "# for item in items_list:\n",
    "#        loop_body\n",
    "\n",
    "\n",
    "\n",
    "# COMPREHENDIVE STYLE\n",
    "\n",
    "# loop_body for item_list"
   ]
  },
  {
   "cell_type": "code",
   "execution_count": 1,
   "id": "772e7d00-bd77-4040-8223-86cdf8380a6d",
   "metadata": {},
   "outputs": [
    {
     "data": {
      "text/plain": [
       "range(1, 11)"
      ]
     },
     "execution_count": 1,
     "metadata": {},
     "output_type": "execute_result"
    }
   ],
   "source": [
    "range(1,11)"
   ]
  },
  {
   "cell_type": "code",
   "execution_count": 2,
   "id": "b706e540-7c4f-43d0-b0d3-335b5b867f4a",
   "metadata": {},
   "outputs": [
    {
     "data": {
      "text/plain": [
       "[1, 2, 3, 4, 5, 6, 7, 8, 9, 10]"
      ]
     },
     "execution_count": 2,
     "metadata": {},
     "output_type": "execute_result"
    }
   ],
   "source": [
    "list(range(1,11))"
   ]
  },
  {
   "cell_type": "code",
   "execution_count": 3,
   "id": "a610132b-fdcd-4665-ad76-27a8069ff063",
   "metadata": {},
   "outputs": [
    {
     "name": "stdout",
     "output_type": "stream",
     "text": [
      "1\n",
      "2\n",
      "3\n",
      "4\n",
      "5\n",
      "6\n",
      "7\n",
      "8\n",
      "9\n",
      "10\n"
     ]
    }
   ],
   "source": [
    "for i in range(1,11):\n",
    "    print(i)"
   ]
  },
  {
   "cell_type": "code",
   "execution_count": 4,
   "id": "2fd6e7cd-a923-4522-87d0-f82f6792219a",
   "metadata": {},
   "outputs": [
    {
     "name": "stdout",
     "output_type": "stream",
     "text": [
      "1\n",
      "4\n",
      "9\n",
      "16\n",
      "25\n",
      "36\n",
      "49\n",
      "64\n",
      "81\n",
      "100\n"
     ]
    }
   ],
   "source": [
    "for i in range (1,11):\n",
    "    print(i**2)"
   ]
  },
  {
   "cell_type": "code",
   "execution_count": 5,
   "id": "1e018317-67ee-4b78-875d-0d15f90f5580",
   "metadata": {},
   "outputs": [
    {
     "data": {
      "text/plain": [
       "[1, 4, 9, 16, 25, 36, 49, 64, 81, 100]"
      ]
     },
     "execution_count": 5,
     "metadata": {},
     "output_type": "execute_result"
    }
   ],
   "source": [
    "[i**2            for i in range (1,11)]\n",
    "# loop_body       for item in items_list(normal loop)"
   ]
  },
  {
   "cell_type": "code",
   "execution_count": 9,
   "id": "e0321424-d8e7-4240-9cd1-3c21cd1d9f8f",
   "metadata": {},
   "outputs": [
    {
     "name": "stdout",
     "output_type": "stream",
     "text": [
      "[1, 2, 3, 4, 5, 6, 7, 8, 9, 0]\n",
      "9\n",
      "0\n",
      "45\n"
     ]
    }
   ],
   "source": [
    "digits : list[int] = [1,2,3,4,5,6,7,8,9,0]\n",
    "print(digits)\n",
    "print(max(digits))\n",
    "print(min(digits))\n",
    "print(sum(digits))"
   ]
  },
  {
   "cell_type": "code",
   "execution_count": 17,
   "id": "3f6f9278-c147-4293-ae93-1755a02b00ce",
   "metadata": {},
   "outputs": [
    {
     "name": "stdout",
     "output_type": "stream",
     "text": [
      "['pizza', 'falafel', 'carrot cake']\n",
      "['pizza', 'falafel', 'carrot cake']\n",
      "['pizza', 'falafel', 'carrot cake']\n",
      "['tikka', 'falafel', 'carrot cake']\n"
     ]
    }
   ],
   "source": [
    "my_foods = [\"pizza\",\"falafel\",\"carrot cake\"]\n",
    "friend_foods = my_foods[:] # the benefit of slcing is that it makes deep copy. here it made deep copy.\n",
    "\n",
    "print(my_foods)\n",
    "print(friend_foods)\n",
    "\n",
    "friend_foods[0] = \"tikka\"\n",
    "\n",
    "print(my_foods)\n",
    "print(friend_foods)"
   ]
  },
  {
   "cell_type": "code",
   "execution_count": 16,
   "id": "9d9714b1-b906-413a-9e37-6a163f177ef7",
   "metadata": {},
   "outputs": [
    {
     "name": "stdout",
     "output_type": "stream",
     "text": [
      "['pizza', 'falafel', 'carrot cake']\n",
      "['pizza', 'falafel', 'carrot cake']\n",
      "['tikka', 'falafel', 'carrot cake']\n",
      "['tikka', 'falafel', 'carrot cake']\n"
     ]
    }
   ],
   "source": [
    "my_foods = [\"pizza\",\"falafel\",\"carrot cake\"]\n",
    "friend_foods = my_foods     # otherwise . \n",
    "\n",
    "print(my_foods)\n",
    "print(friend_foods)\n",
    "\n",
    "friend_foods[0] = \"tikka\"\n",
    "\n",
    "print(my_foods)\n",
    "print(friend_foods)"
   ]
  },
  {
   "cell_type": "code",
   "execution_count": 19,
   "id": "bd2d3d25-b97d-4104-a6aa-529f7bb10079",
   "metadata": {},
   "outputs": [
    {
     "name": "stdout",
     "output_type": "stream",
     "text": [
      "A\n",
      "('A', 'B')\n"
     ]
    }
   ],
   "source": [
    "# tuple : it is immutable. it is like constant variable.  we cannot append and update it. we can update by iteration.\n",
    "names : tuple[str] = (\"A\",\"B\",\"C\")\n",
    "print(names[0])\n",
    "print(names[0:2])"
   ]
  },
  {
   "cell_type": "code",
   "execution_count": 20,
   "id": "51e2e29e-8ad3-44ce-ac4e-cd58987a0946",
   "metadata": {},
   "outputs": [
    {
     "ename": "TypeError",
     "evalue": "'tuple' object does not support item assignment",
     "output_type": "error",
     "traceback": [
      "\u001b[1;31m---------------------------------------------------------------------------\u001b[0m",
      "\u001b[1;31mTypeError\u001b[0m                                 Traceback (most recent call last)",
      "Cell \u001b[1;32mIn[20], line 2\u001b[0m\n\u001b[0;32m      1\u001b[0m names : \u001b[38;5;28mtuple\u001b[39m[\u001b[38;5;28mstr\u001b[39m]  \u001b[38;5;241m=\u001b[39m (\u001b[38;5;124m\"\u001b[39m\u001b[38;5;124ma\u001b[39m\u001b[38;5;124m\"\u001b[39m,\u001b[38;5;124m\"\u001b[39m\u001b[38;5;124mb\u001b[39m\u001b[38;5;124m\"\u001b[39m,\u001b[38;5;124m\"\u001b[39m\u001b[38;5;124mc\u001b[39m\u001b[38;5;124m\"\u001b[39m)\n\u001b[1;32m----> 2\u001b[0m names[\u001b[38;5;241m0\u001b[39m] \u001b[38;5;241m=\u001b[39m \u001b[38;5;124m\"\u001b[39m\u001b[38;5;124mpakistan\u001b[39m\u001b[38;5;124m\"\u001b[39m\n",
      "\u001b[1;31mTypeError\u001b[0m: 'tuple' object does not support item assignment"
     ]
    }
   ],
   "source": [
    "names : tuple[str]  = (\"a\",\"b\",\"c\")\n",
    "names[0] = \"pakistan\"  # error"
   ]
  },
  {
   "cell_type": "code",
   "execution_count": 23,
   "id": "23bb6c3a-ca8a-4b1e-95c9-daf1c7566532",
   "metadata": {},
   "outputs": [
    {
     "name": "stdout",
     "output_type": "stream",
     "text": [
      "('pakistan', 'b', 'c')\n"
     ]
    }
   ],
   "source": [
    "names : tuple[str]  = (\"a\",\"b\",\"c\")\n",
    "names : tuple[str] =  (\"pakistan\",\"b\",\"c\")\n",
    "print(names)\n",
    "# here we have not updated the tuple, we have assigned it again."
   ]
  },
  {
   "cell_type": "code",
   "execution_count": 24,
   "id": "01738d1c-4f4e-40e2-8fa1-d60d51e026f9",
   "metadata": {},
   "outputs": [
    {
     "name": "stdout",
     "output_type": "stream",
     "text": [
      "('a', [1, 2, 3], True)\n"
     ]
    }
   ],
   "source": [
    "from typing import Any\n",
    "data : tuple[Any] = (\"a\",[1,2,3],True)\n",
    "print(data)"
   ]
  },
  {
   "cell_type": "code",
   "execution_count": 27,
   "id": "a2f70959-6214-4963-be57-93b16c4858f1",
   "metadata": {},
   "outputs": [
    {
     "name": "stdout",
     "output_type": "stream",
     "text": [
      "('a', [1, 2, 3, 20], True)\n"
     ]
    }
   ],
   "source": [
    "data : tuple [Any] = (\"a\",[1,2,3],True)\n",
    "data[1].append(20) # we cannot update tuple elements but we can update a list tuple element.\n",
    "print( data)"
   ]
  },
  {
   "cell_type": "code",
   "execution_count": 32,
   "id": "87968718-9c60-471c-998c-d320e0c1fa63",
   "metadata": {},
   "outputs": [
    {
     "name": "stdout",
     "output_type": "stream",
     "text": [
      "(3,)\n"
     ]
    }
   ],
   "source": [
    "tuple = (3,)\n",
    "print(tuple)"
   ]
  },
  {
   "cell_type": "code",
   "execution_count": 38,
   "id": "c4cae4c0-595d-49af-9982-a51633269ec0",
   "metadata": {},
   "outputs": [
    {
     "data": {
      "text/plain": [
       "[1, 7, 22, 34]"
      ]
     },
     "execution_count": 38,
     "metadata": {},
     "output_type": "execute_result"
    }
   ],
   "source": [
    "# list within list/nested list\n",
    "\n",
    "sorted([22,34,1,7])"
   ]
  },
  {
   "cell_type": "code",
   "execution_count": null,
   "id": "281005f2-7e55-4f52-a7f6-e66b3bd3f867",
   "metadata": {},
   "outputs": [],
   "source": []
  }
 ],
 "metadata": {
  "kernelspec": {
   "display_name": "Python 3 (ipykernel)",
   "language": "python",
   "name": "python3"
  },
  "language_info": {
   "codemirror_mode": {
    "name": "ipython",
    "version": 3
   },
   "file_extension": ".py",
   "mimetype": "text/x-python",
   "name": "python",
   "nbconvert_exporter": "python",
   "pygments_lexer": "ipython3",
   "version": "3.11.7"
  }
 },
 "nbformat": 4,
 "nbformat_minor": 5
}
