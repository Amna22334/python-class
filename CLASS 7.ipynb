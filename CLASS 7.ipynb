{
 "cells": [
  {
   "cell_type": "markdown",
   "id": "09feb569-540a-427d-b86d-f6c39fc8fde8",
   "metadata": {},
   "source": [
    "# 07 Python Crash Course | Dictionary, set, tuple, dictionary comprehensive"
   ]
  },
  {
   "cell_type": "code",
   "execution_count": 14,
   "id": "972f144a-e575-4e74-92f6-e203bd8ff700",
   "metadata": {},
   "outputs": [
    {
     "data": {
      "text/plain": [
       "'Muhammad Aslam'"
      ]
     },
     "execution_count": 14,
     "metadata": {},
     "output_type": "execute_result"
    }
   ],
   "source": [
    "# list   \n",
    "data : list [str] = [\"Muhammad Aslam\", \"Muhammad Asim\",\"MSDS\"]\n",
    "#                      father name          name         education\n",
    "\n",
    "# importance of dict is to know on which index number which thing is stored.\n",
    "data[0]"
   ]
  },
  {
   "cell_type": "markdown",
   "id": "61080d3f-275d-4189-b774-3e5335137c35",
   "metadata": {},
   "source": [
    "# Dictionary\n",
    "* key : value (items)\n",
    "    * key in dict is a replacement of indexing\n",
    "    * the value in dictionary is same as value/item in list"
   ]
  },
  {
   "cell_type": "code",
   "execution_count": 12,
   "id": "57cc2785-a37e-460f-a4cc-3d7ed9d26715",
   "metadata": {},
   "outputs": [
    {
     "name": "stdout",
     "output_type": "stream",
     "text": [
      "{1: 'Muhammad Aslam', 'name': 'Muhammad Qasim', 'education': 'MSDS'}\n"
     ]
    }
   ],
   "source": [
    "from typing import Dict\n",
    "data : list = [\"Muhammad Aslam\",\"Muhammad Asim\",\"MSDS\"]\n",
    "data : Dict[str,str] = {\n",
    "    1 : \"Muhammad Aslam\",\n",
    "    \"name\" : \"Muhammad Qasim\",\n",
    "    \"education\" : \"MSDS\"\n",
    "}\n",
    "\n",
    "# you extract information from dictionary by  using key ' dict_varisable[key] '\n",
    "\n",
    "print(data)"
   ]
  },
  {
   "cell_type": "markdown",
   "id": "443d1036-ba37-4b83-9572-763541b54cc3",
   "metadata": {},
   "source": [
    "#\n",
    "* dict_variable[key]\n",
    "    * dict_variable[new_key] = new_value\n",
    "         * add new value\n",
    "         * update value"
   ]
  },
  {
   "cell_type": "code",
   "execution_count": 5,
   "id": "fe7a1939-b67c-42fe-8178-33a7e1d0a52f",
   "metadata": {},
   "outputs": [
    {
     "data": {
      "text/plain": [
       "{'fname': 'Muhammad Aslam', 'name': 'Muhammad Qasim', 'education': 'MSDS'}"
      ]
     },
     "metadata": {},
     "output_type": "display_data"
    }
   ],
   "source": [
    "display(data)"
   ]
  },
  {
   "cell_type": "code",
   "execution_count": 6,
   "id": "83778336-f7a9-4424-bb72-bffa9696d4e4",
   "metadata": {},
   "outputs": [
    {
     "name": "stdout",
     "output_type": "stream",
     "text": [
      "{'fname': 'Muhammad Aslam', 'name': 'Muhammad Qasim', 'education': 'MSDS'}\n"
     ]
    }
   ],
   "source": [
    "print(data)"
   ]
  },
  {
   "cell_type": "code",
   "execution_count": 8,
   "id": "066c5ca6-0bf7-4e6f-bc95-38325b26f554",
   "metadata": {},
   "outputs": [
    {
     "name": "stdout",
     "output_type": "stream",
     "text": [
      "{'education': 'MSDS', 'fname': 'Muhammad Aslam', 'name': 'Muhammad Qasim'}\n"
     ]
    }
   ],
   "source": [
    "import pprint\n",
    "pprint.pprint(data)"
   ]
  },
  {
   "cell_type": "code",
   "execution_count": 23,
   "id": "b108cedb-b9e4-4f12-b1b7-98310620734f",
   "metadata": {},
   "outputs": [
    {
     "name": "stdout",
     "output_type": "stream",
     "text": [
      "{2: 'Muhammad Qasim',\n",
      " 3: 'Pakistan',\n",
      " 'education': 'MSDS',\n",
      " 'fname': 'Muhammad Aslam'}\n",
      "Muhammad Aslam\n",
      "Muhammad Qasim\n",
      "MSDS\n",
      "Pakistan\n"
     ]
    },
    {
     "ename": "KeyError",
     "evalue": "0",
     "output_type": "error",
     "traceback": [
      "\u001b[1;31m---------------------------------------------------------------------------\u001b[0m",
      "\u001b[1;31mKeyError\u001b[0m                                  Traceback (most recent call last)",
      "Cell \u001b[1;32mIn[23], line 20\u001b[0m\n\u001b[0;32m     18\u001b[0m \u001b[38;5;28mprint\u001b[39m(data[\u001b[38;5;124m\"\u001b[39m\u001b[38;5;124meducation\u001b[39m\u001b[38;5;124m\"\u001b[39m])\n\u001b[0;32m     19\u001b[0m \u001b[38;5;28mprint\u001b[39m(data[\u001b[38;5;241m3\u001b[39m])\n\u001b[1;32m---> 20\u001b[0m \u001b[38;5;28mprint\u001b[39m(data[\u001b[38;5;241m0\u001b[39m])\n",
      "\u001b[1;31mKeyError\u001b[0m: 0"
     ]
    }
   ],
   "source": [
    "#\n",
    "from typing import Dict , Union , Optional\n",
    "import pprint\n",
    "\n",
    "Key = Union[int,str]  # create custom type\n",
    "Value = Union [int , str , list, dict , tuple, set]\n",
    "\n",
    "data : Dict[Key,Value] = {\n",
    "    \"fname\" : \"Muhammad Aslam\",\n",
    "    2 : \"Muhammad Qasim\",         # with union we can use 2 as key here\n",
    "    \"education\" : \"MSDS\",\n",
    "    3 : \"Pakistan\"\n",
    "}\n",
    "\n",
    "pprint.pprint(data)\n",
    "print(data[\"fname\"])\n",
    "print(data[2])\n",
    "print(data[\"education\"])\n",
    "print(data[3])\n",
    "print(data[0])  # error.       there is no indexing by number in dict."
   ]
  },
  {
   "cell_type": "code",
   "execution_count": 35,
   "id": "4c282b9a-b265-46e3-903a-41e71b73f158",
   "metadata": {},
   "outputs": [
    {
     "name": "stdout",
     "output_type": "stream",
     "text": [
      "{'education': 'MBBS', 2: [1, 1, 1]}\n"
     ]
    },
    {
     "ename": "TypeError",
     "evalue": "unhashable type: 'list'",
     "output_type": "error",
     "traceback": [
      "\u001b[1;31m---------------------------------------------------------------------------\u001b[0m",
      "\u001b[1;31mTypeError\u001b[0m                                 Traceback (most recent call last)",
      "Cell \u001b[1;32mIn[35], line 9\u001b[0m\n\u001b[0;32m      2\u001b[0m data_2 : Dict \u001b[38;5;241m=\u001b[39m {\n\u001b[0;32m      3\u001b[0m     \u001b[38;5;124m\"\u001b[39m\u001b[38;5;124meducation\u001b[39m\u001b[38;5;124m\"\u001b[39m: \u001b[38;5;124m\"\u001b[39m\u001b[38;5;124mMBBS\u001b[39m\u001b[38;5;124m\"\u001b[39m,\n\u001b[0;32m      4\u001b[0m     \u001b[38;5;241m2\u001b[39m: [\u001b[38;5;241m1\u001b[39m,\u001b[38;5;241m1\u001b[39m,\u001b[38;5;241m1\u001b[39m]\n\u001b[0;32m      5\u001b[0m       \n\u001b[0;32m      6\u001b[0m }\n\u001b[0;32m      7\u001b[0m \u001b[38;5;28mprint\u001b[39m(data_2)\n\u001b[1;32m----> 9\u001b[0m data_3 : Dict \u001b[38;5;241m=\u001b[39m {\n\u001b[0;32m     10\u001b[0m     \u001b[38;5;124m\"\u001b[39m\u001b[38;5;124meducation\u001b[39m\u001b[38;5;124m\"\u001b[39m : \u001b[38;5;124m\"\u001b[39m\u001b[38;5;124mMBBS\u001b[39m\u001b[38;5;124m\"\u001b[39m , \n\u001b[0;32m     11\u001b[0m     [\u001b[38;5;241m1\u001b[39m,\u001b[38;5;241m1\u001b[39m,\u001b[38;5;241m1\u001b[39m] : \u001b[38;5;241m2\u001b[39m\n\u001b[0;32m     12\u001b[0m }\n",
      "\u001b[1;31mTypeError\u001b[0m: unhashable type: 'list'"
     ]
    }
   ],
   "source": [
    "# UNHASHABLE\n",
    "data_2 : Dict = {\n",
    "    \"education\": \"MBBS\",\n",
    "    2: [1,1,1]\n",
    "      \n",
    "}\n",
    "print(data_2)\n",
    "\n",
    "data_3 : Dict = {\n",
    "    \"education\" : \"MBBS\" , \n",
    "    [1,1,1] : 2\n",
    "}"
   ]
  },
  {
   "cell_type": "code",
   "execution_count": 30,
   "id": "51d42987-bcbb-4b81-82d7-dd131c165cf2",
   "metadata": {},
   "outputs": [
    {
     "name": "stdout",
     "output_type": "stream",
     "text": [
      "{1, 2, 3, 6}\n"
     ]
    },
    {
     "ename": "TypeError",
     "evalue": "'set' object is not subscriptable",
     "output_type": "error",
     "traceback": [
      "\u001b[1;31m---------------------------------------------------------------------------\u001b[0m",
      "\u001b[1;31mTypeError\u001b[0m                                 Traceback (most recent call last)",
      "Cell \u001b[1;32mIn[30], line 4\u001b[0m\n\u001b[0;32m      2\u001b[0m data : \u001b[38;5;28mset\u001b[39m \u001b[38;5;241m=\u001b[39m {\u001b[38;5;241m1\u001b[39m,\u001b[38;5;241m2\u001b[39m,\u001b[38;5;241m2\u001b[39m,\u001b[38;5;241m2\u001b[39m,\u001b[38;5;241m3\u001b[39m,\u001b[38;5;241m3\u001b[39m,\u001b[38;5;241m3\u001b[39m,\u001b[38;5;241m3\u001b[39m,\u001b[38;5;241m3\u001b[39m,\u001b[38;5;241m6\u001b[39m}\n\u001b[0;32m      3\u001b[0m \u001b[38;5;28mprint\u001b[39m(data) \u001b[38;5;66;03m# set data type prints things not repeating.\u001b[39;00m\n\u001b[1;32m----> 4\u001b[0m \u001b[38;5;28mprint\u001b[39m(data[\u001b[38;5;241m0\u001b[39m])\n",
      "\u001b[1;31mTypeError\u001b[0m: 'set' object is not subscriptable"
     ]
    }
   ],
   "source": [
    "# SET DATA TYPE\n",
    "data : set = {1,2,2,2,3,3,3,3,3,6}\n",
    "print(data) # set data type prints things not repeating.\n",
    "print(data[0])  # error. there is no indexing in set."
   ]
  },
  {
   "cell_type": "code",
   "execution_count": 31,
   "id": "fff5afd4-d936-4ff4-94a2-e11ac67902a6",
   "metadata": {},
   "outputs": [
    {
     "data": {
      "text/plain": [
       "['add',\n",
       " 'clear',\n",
       " 'copy',\n",
       " 'difference',\n",
       " 'difference_update',\n",
       " 'discard',\n",
       " 'intersection',\n",
       " 'intersection_update',\n",
       " 'isdisjoint',\n",
       " 'issubset',\n",
       " 'issuperset',\n",
       " 'pop',\n",
       " 'remove',\n",
       " 'symmetric_difference',\n",
       " 'symmetric_difference_update',\n",
       " 'union',\n",
       " 'update']"
      ]
     },
     "execution_count": 31,
     "metadata": {},
     "output_type": "execute_result"
    }
   ],
   "source": [
    "\n",
    "# set methods and attributes\n",
    "[i for i in dir(data) if \"__\" not in i ]"
   ]
  },
  {
   "cell_type": "code",
   "execution_count": null,
   "id": "2165fb6c-5af2-41e2-b6bc-34762fbecc6d",
   "metadata": {},
   "outputs": [],
   "source": [
    "# we have not used Any instead of Union because Any does not allow unhashable data type to be put in dict value , item.\n",
    "# we can put list data type in ' value' of dict when using Dict because we can store Any in value of Dict."
   ]
  },
  {
   "cell_type": "markdown",
   "id": "54db3228-025e-4168-a8cf-897917b7bfbe",
   "metadata": {},
   "source": [
    "### dict key cannot be list , set ( unhashable type).\n",
    "dict key should be of str , int data type . and maybe tuple as well."
   ]
  },
  {
   "cell_type": "code",
   "execution_count": 36,
   "id": "d753e55b-4083-475f-9a5f-974c1ff24bd0",
   "metadata": {},
   "outputs": [
    {
     "ename": "TypeError",
     "evalue": "unhashable type: 'list'",
     "output_type": "error",
     "traceback": [
      "\u001b[1;31m---------------------------------------------------------------------------\u001b[0m",
      "\u001b[1;31mTypeError\u001b[0m                                 Traceback (most recent call last)",
      "Cell \u001b[1;32mIn[36], line 1\u001b[0m\n\u001b[1;32m----> 1\u001b[0m data : Dict \u001b[38;5;241m=\u001b[39m {\n\u001b[0;32m      2\u001b[0m     [\u001b[38;5;241m1\u001b[39m,\u001b[38;5;241m2\u001b[39m,\u001b[38;5;241m3\u001b[39m] : \u001b[38;5;124m\"\u001b[39m\u001b[38;5;124mpakistan\u001b[39m\u001b[38;5;124m\"\u001b[39m\n\u001b[0;32m      3\u001b[0m }\n",
      "\u001b[1;31mTypeError\u001b[0m: unhashable type: 'list'"
     ]
    }
   ],
   "source": [
    "data : Dict = {\n",
    "    [1,2,3] : \"pakistan\"  # error\n",
    "}"
   ]
  },
  {
   "cell_type": "code",
   "execution_count": 38,
   "id": "c2eb858e-f83e-4c86-bb45-5547c17a7f5a",
   "metadata": {},
   "outputs": [],
   "source": [
    "data : Dict = {\n",
    "    (1,2,3) : \"pakistan\" # tuple should have given error maybe. \n",
    "}"
   ]
  },
  {
   "cell_type": "code",
   "execution_count": 39,
   "id": "49dc1388-b972-49ee-90a9-048231a253ed",
   "metadata": {},
   "outputs": [
    {
     "ename": "TypeError",
     "evalue": "unhashable type: 'set'",
     "output_type": "error",
     "traceback": [
      "\u001b[1;31m---------------------------------------------------------------------------\u001b[0m",
      "\u001b[1;31mTypeError\u001b[0m                                 Traceback (most recent call last)",
      "Cell \u001b[1;32mIn[39], line 1\u001b[0m\n\u001b[1;32m----> 1\u001b[0m data : Dict \u001b[38;5;241m=\u001b[39m {\n\u001b[0;32m      2\u001b[0m     {\u001b[38;5;241m1\u001b[39m,\u001b[38;5;241m2\u001b[39m,\u001b[38;5;241m3\u001b[39m} : \u001b[38;5;124m\"\u001b[39m\u001b[38;5;124mqasim\u001b[39m\u001b[38;5;124m\"\u001b[39m\n\u001b[0;32m      3\u001b[0m }\n",
      "\u001b[1;31mTypeError\u001b[0m: unhashable type: 'set'"
     ]
    }
   ],
   "source": [
    "data : Dict = {\n",
    "    {1,2,3} : \"qasim\"  # error\n",
    "}"
   ]
  },
  {
   "cell_type": "markdown",
   "id": "492f086e-2db6-4955-9128-70f302440792",
   "metadata": {},
   "source": [
    "### now putting different data types in dict 'value'. they work."
   ]
  },
  {
   "cell_type": "code",
   "execution_count": 47,
   "id": "7807ebbf-c4f8-40b0-b504-923c5d1b1ed3",
   "metadata": {},
   "outputs": [
    {
     "name": "stdout",
     "output_type": "stream",
     "text": [
      "{'abc': 'abc'}\n"
     ]
    }
   ],
   "source": [
    "#\n",
    "data1 : Dict = {\n",
    "    \"abc\" : [1,2,3], # putting list as value\n",
    "    \"abc\" : {1,2,3} , # putting set as value\n",
    "    \"abc\" : (1,2,3) , # putting tuple as value\n",
    "    \"abc\" : {\"a\": 1,\"b\": 2}, # putting dict as value\n",
    "    \"abc\" : 1,\n",
    "    \"abc\" : \"abc\"\n",
    "}\n",
    "\n",
    "pprint.pprint(data1) # the result is not priniting the whole dict. it is only printing the last dict item. !"
   ]
  },
  {
   "cell_type": "code",
   "execution_count": 50,
   "id": "5dc93f99-6502-4619-b70a-f23c33342a18",
   "metadata": {},
   "outputs": [
    {
     "name": "stdout",
     "output_type": "stream",
     "text": [
      "{1, 2, 3}\n",
      "[1, 2, 3]\n"
     ]
    }
   ],
   "source": [
    "# \n",
    "# convert set to list\n",
    "abc : set = {1,2,3,2,2,1}\n",
    "print(abc)\n",
    "xyz : list = list(abc)\n",
    "print(xyz)"
   ]
  },
  {
   "cell_type": "code",
   "execution_count": 51,
   "id": "a3db8f8c-ded5-4fe2-9b1e-4c5c3ca5e094",
   "metadata": {},
   "outputs": [
    {
     "name": "stdout",
     "output_type": "stream",
     "text": [
      "{'name': 'Muhammad Qasim', 'fname': 'Muhammad Aslam', 'education': 'MSDS'}\n"
     ]
    }
   ],
   "source": [
    "#\n",
    "# ADDING THINGS IN DICT. (by using assign operator)\n",
    "from typing import Dict , Union , Optional\n",
    "import pprint\n",
    "\n",
    "Key = Union [int,str]\n",
    "Value = Union [int,str,list, dict, tuple , set]\n",
    "\n",
    "data : dict[Key,Value] = {}\n",
    "\n",
    "data[\"name\"] = \"Muhammad Qasim\"\n",
    "data[\"fname\"] = \"Muhammad Aslam\"\n",
    "data[\"education\"] = \"MSDS\"\n",
    "\n",
    "print(data)"
   ]
  },
  {
   "cell_type": "code",
   "execution_count": 55,
   "id": "4e0fc063-a18f-46dd-ad0c-8aa4593e6209",
   "metadata": {},
   "outputs": [
    {
     "name": "stdout",
     "output_type": "stream",
     "text": [
      "{'name': 'Muhammad Ali', 'fname': 'Muhammad Aslam', 'education': 'MSDS'}\n"
     ]
    }
   ],
   "source": [
    "#\n",
    "# UPDATING DICT. (by using assign operator.)\n",
    "data : dict = {\n",
    "    \"name\" : \"Muhammad Qasim\",\n",
    "    \"fname\" : \"Muhammad Aslam\",\n",
    "    \"education\" : \"MSDS\"\n",
    "}\n",
    "\n",
    "data[\"name\"] = \"Muhammad Ali\"\n",
    "\n",
    "print(data)"
   ]
  },
  {
   "cell_type": "markdown",
   "id": "96de0dde-f936-47a4-90aa-5aa2ec2a0eca",
   "metadata": {},
   "source": [
    "## dict methods"
   ]
  },
  {
   "cell_type": "code",
   "execution_count": 56,
   "id": "1b6b0061-b27e-4235-bb6a-2b61cfb1e33e",
   "metadata": {},
   "outputs": [
    {
     "data": {
      "text/plain": [
       "['clear',\n",
       " 'copy',\n",
       " 'fromkeys',\n",
       " 'get',\n",
       " 'items',\n",
       " 'keys',\n",
       " 'pop',\n",
       " 'popitem',\n",
       " 'setdefault',\n",
       " 'update',\n",
       " 'values']"
      ]
     },
     "execution_count": 56,
     "metadata": {},
     "output_type": "execute_result"
    }
   ],
   "source": [
    "# \n",
    "# key vlaue in dict is like tuple.\n",
    "\n",
    "# dictionary methods and attributes\n",
    "[i for i in dir(data) if \"__\" not in i]"
   ]
  },
  {
   "cell_type": "code",
   "execution_count": 71,
   "id": "eb66e567-df8a-4090-ad3e-7feb62c6e7e1",
   "metadata": {},
   "outputs": [
    {
     "ename": "KeyError",
     "evalue": "'pakistan'",
     "output_type": "error",
     "traceback": [
      "\u001b[1;31m---------------------------------------------------------------------------\u001b[0m",
      "\u001b[1;31mKeyError\u001b[0m                                  Traceback (most recent call last)",
      "Cell \u001b[1;32mIn[71], line 4\u001b[0m\n\u001b[0;32m      1\u001b[0m \u001b[38;5;66;03m# using 'get' method of dict.  \u001b[39;00m\n\u001b[0;32m      2\u001b[0m \n\u001b[0;32m      3\u001b[0m \u001b[38;5;66;03m# get mothod is used to check whether key is present or not in dict. if we dont use the 'get' method and write wrong key name the code can crash.\u001b[39;00m\n\u001b[1;32m----> 4\u001b[0m \u001b[38;5;28mprint\u001b[39m(data[\u001b[38;5;124m\"\u001b[39m\u001b[38;5;124mpakistan\u001b[39m\u001b[38;5;124m\"\u001b[39m])\n",
      "\u001b[1;31mKeyError\u001b[0m: 'pakistan'"
     ]
    }
   ],
   "source": [
    " # using 'get' method of dict.  \n",
    "\n",
    "# get mothod is used to check whether key is present or not in dict. if we dont use the 'get' method and write wrong key name the code can crash.\n",
    "print(data[\"pakistan\"]) # error."
   ]
  },
  {
   "cell_type": "code",
   "execution_count": 66,
   "id": "5dbcb2ad-738e-44f5-b863-fbacbe3de579",
   "metadata": {},
   "outputs": [
    {
     "name": "stdout",
     "output_type": "stream",
     "text": [
      "None\n"
     ]
    }
   ],
   "source": [
    "print(data.get(\"pakistan\"))"
   ]
  },
  {
   "cell_type": "code",
   "execution_count": 67,
   "id": "dd26653b-21ba-408c-9033-5ff96ea3b753",
   "metadata": {},
   "outputs": [
    {
     "name": "stdout",
     "output_type": "stream",
     "text": [
      "NA\n"
     ]
    }
   ],
   "source": [
    "print(data.get(\"paksistan\", \"NA\"))"
   ]
  },
  {
   "cell_type": "code",
   "execution_count": 68,
   "id": "70de75a8-8028-4c57-b965-f1bb4ab97cf4",
   "metadata": {},
   "outputs": [
    {
     "name": "stdout",
     "output_type": "stream",
     "text": [
      "Muhammad Ali\n"
     ]
    }
   ],
   "source": [
    "print(data.get(\"name\"))"
   ]
  },
  {
   "cell_type": "code",
   "execution_count": 74,
   "id": "b67142d0-0905-45d7-a334-4e40606adca9",
   "metadata": {},
   "outputs": [
    {
     "name": "stdout",
     "output_type": "stream",
     "text": [
      "name\n",
      "fname\n",
      "education\n"
     ]
    }
   ],
   "source": [
    "# USING DICT KEY(), VALUE(), ITEM() FUNCTIONS\n",
    "for d in data:\n",
    "    print(d)   # output is keys"
   ]
  },
  {
   "cell_type": "code",
   "execution_count": 77,
   "id": "9e4fceb1-564c-4990-aae5-f5c555693af5",
   "metadata": {},
   "outputs": [
    {
     "name": "stdout",
     "output_type": "stream",
     "text": [
      "dict_keys(['name', 'fname', 'education'])\n",
      "dict_values(['Muhammad Ali', 'Muhammad Aslam', 'MSDS'])\n",
      "dict_items([('name', 'Muhammad Ali'), ('fname', 'Muhammad Aslam'), ('education', 'MSDS')])\n"
     ]
    }
   ],
   "source": [
    "print(data.keys())\n",
    "print(data.values())\n",
    "print(data.items())"
   ]
  },
  {
   "cell_type": "code",
   "execution_count": 78,
   "id": "d6e444e6-6adb-4143-bb85-4c397600b5d5",
   "metadata": {},
   "outputs": [
    {
     "name": "stdout",
     "output_type": "stream",
     "text": [
      "name\n",
      "fname\n",
      "education\n"
     ]
    }
   ],
   "source": [
    "for k in data.keys():\n",
    "    print(k)"
   ]
  },
  {
   "cell_type": "code",
   "execution_count": 79,
   "id": "899d11a5-2623-403c-9f20-cc13e9b41bdb",
   "metadata": {},
   "outputs": [
    {
     "name": "stdout",
     "output_type": "stream",
     "text": [
      "name Muhammad Ali\n",
      "fname Muhammad Aslam\n",
      "education MSDS\n"
     ]
    }
   ],
   "source": [
    "for k in data.keys():\n",
    "    print(k,data[k])"
   ]
  },
  {
   "cell_type": "code",
   "execution_count": 82,
   "id": "27b3af49-434e-4bec-9329-2cf1c5567185",
   "metadata": {},
   "outputs": [
    {
     "name": "stdout",
     "output_type": "stream",
     "text": [
      "Muhammad Ali\n",
      "Muhammad Aslam\n",
      "MSDS\n"
     ]
    }
   ],
   "source": [
    "for v in data.values():\n",
    "    print(v)"
   ]
  },
  {
   "cell_type": "code",
   "execution_count": 83,
   "id": "43e9456d-d3b9-4b3c-818d-84c7a12d63ec",
   "metadata": {},
   "outputs": [
    {
     "name": "stdout",
     "output_type": "stream",
     "text": [
      "('name', 'Muhammad Ali')\n",
      "('fname', 'Muhammad Aslam')\n",
      "('education', 'MSDS')\n"
     ]
    }
   ],
   "source": [
    "for i in data.items():\n",
    "    print(i)"
   ]
  },
  {
   "cell_type": "code",
   "execution_count": 84,
   "id": "3800ac04-777f-40a5-9e20-0c1b1cd68356",
   "metadata": {},
   "outputs": [
    {
     "name": "stdout",
     "output_type": "stream",
     "text": [
      "name Muhammad Ali\n",
      "fname Muhammad Aslam\n",
      "education MSDS\n"
     ]
    }
   ],
   "source": [
    "for k,v in data.items(): # unzipping\n",
    "    print(k,v)"
   ]
  },
  {
   "cell_type": "code",
   "execution_count": 86,
   "id": "f200e7ae-d4ae-46f1-a9fe-bbbe59be79b6",
   "metadata": {},
   "outputs": [
    {
     "data": {
      "text/plain": [
       "{'name': 'Muhammad Ali', 'fname': 'Muhammad Aslam', 'education': 'MSDS'}"
      ]
     },
     "execution_count": 86,
     "metadata": {},
     "output_type": "execute_result"
    }
   ],
   "source": [
    "# DICTIONARY COMPREHENSIVE\n",
    "\n",
    "# for k,v in data.items():\n",
    "#      a\n",
    "\n",
    "#  print(k,v)\n",
    "#       b\n",
    "\n",
    "{k:v for k,v in data.items()}\n",
    "# b ,         a"
   ]
  },
  {
   "cell_type": "code",
   "execution_count": 88,
   "id": "d0bc806b-854d-4449-b2b5-4315b706fff9",
   "metadata": {},
   "outputs": [
    {
     "name": "stdout",
     "output_type": "stream",
     "text": [
      "{'Muhammad Ali': 'name', 'Muhammad Aslam': 'fname', 'MSDS': 'education'}\n"
     ]
    }
   ],
   "source": [
    "a= {v:k for k,v in data.items()}\n",
    "print(a)"
   ]
  },
  {
   "cell_type": "code",
   "execution_count": 89,
   "id": "606406c5-5674-4184-94c5-90a8b40948d4",
   "metadata": {},
   "outputs": [
    {
     "name": "stdout",
     "output_type": "stream",
     "text": [
      "9 7\n"
     ]
    }
   ],
   "source": [
    "# shuffling . value of a in b and value of b in a.\n",
    "a : int = 7\n",
    "b : int = 9\n",
    "a,b = b,a\n",
    "print(a,b)"
   ]
  },
  {
   "cell_type": "code",
   "execution_count": 93,
   "id": "308d3e4c-3c58-4f90-93e7-bfe329a2a4b6",
   "metadata": {},
   "outputs": [
    {
     "name": "stdout",
     "output_type": "stream",
     "text": [
      "{}\n"
     ]
    },
    {
     "data": {
      "text/plain": [
       "{'id': None, 'name': None, 'fname': None, 'course': None}"
      ]
     },
     "execution_count": 93,
     "metadata": {},
     "output_type": "execute_result"
    }
   ],
   "source": [
    "# (converting list to dict)\n",
    "# using 'fromkeys()' dict method.\n",
    "\n",
    "keys : list[str] = [\"id\",\"name\",\"fname\",\"course\"]\n",
    "data : dict[Key,Value] = {}\n",
    "\n",
    "print(data)\n",
    "\n",
    "data.fromkeys(keys) # the dict took keys from 'keys' list.   inline operation\n",
    "\n"
   ]
  },
  {
   "cell_type": "code",
   "execution_count": 94,
   "id": "5806ad4f-ebc1-4aaa-800a-12497c50f1da",
   "metadata": {},
   "outputs": [
    {
     "name": "stdout",
     "output_type": "stream",
     "text": [
      "{}\n"
     ]
    }
   ],
   "source": [
    "print(data)"
   ]
  },
  {
   "cell_type": "code",
   "execution_count": 97,
   "id": "80566a2a-7fc6-4c91-a6bf-1fde09d4848a",
   "metadata": {},
   "outputs": [
    {
     "name": "stdout",
     "output_type": "stream",
     "text": [
      "{'id': None, 'name': None, 'fname': None, 'course': None}\n"
     ]
    }
   ],
   "source": [
    "#\n",
    "data = data.fromkeys(keys)\n",
    "print(data)"
   ]
  },
  {
   "cell_type": "code",
   "execution_count": null,
   "id": "002f9416-d4a5-45d5-8ca2-744ffc188eb8",
   "metadata": {},
   "outputs": [],
   "source": []
  }
 ],
 "metadata": {
  "kernelspec": {
   "display_name": "Python 3 (ipykernel)",
   "language": "python",
   "name": "python3"
  },
  "language_info": {
   "codemirror_mode": {
    "name": "ipython",
    "version": 3
   },
   "file_extension": ".py",
   "mimetype": "text/x-python",
   "name": "python",
   "nbconvert_exporter": "python",
   "pygments_lexer": "ipython3",
   "version": "3.11.7"
  }
 },
 "nbformat": 4,
 "nbformat_minor": 5
}
