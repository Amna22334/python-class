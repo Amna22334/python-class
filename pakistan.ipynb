{
  "nbformat": 4,
  "nbformat_minor": 0,
  "metadata": {
    "colab": {
      "provenance": []
    },
    "kernelspec": {
      "name": "python3",
      "display_name": "Python 3"
    },
    "language_info": {
      "name": "python"
    }
  },
  "cells": [
    {
      "cell_type": "code",
      "execution_count": 1,
      "metadata": {
        "colab": {
          "base_uri": "https://localhost:8080/"
        },
        "id": "inl7gbNfmu-Z",
        "outputId": "ed97e375-a7a0-4730-e32a-324aa4cf302e"
      },
      "outputs": [
        {
          "output_type": "stream",
          "name": "stdout",
          "text": [
            "hello pakistan\n"
          ]
        }
      ],
      "source": [
        "print(\"hello pakistan\")"
      ]
    },
    {
      "cell_type": "code",
      "source": [],
      "metadata": {
        "id": "k298pyVTmz6Q"
      },
      "execution_count": null,
      "outputs": []
    }
  ]
}