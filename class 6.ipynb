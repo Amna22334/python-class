{
 "cells": [
  {
   "cell_type": "code",
   "execution_count": 3,
   "id": "da13ac29-2e71-401c-bfc9-9bddf087d52d",
   "metadata": {},
   "outputs": [
    {
     "name": "stdout",
     "output_type": "stream",
     "text": [
      "pakistan zinda bad\n"
     ]
    }
   ],
   "source": [
    "# modern python class 6 : if-elif(else if)-else, tuple,zip\n",
    "# generative ai importance/applications/implication\n",
    "\n",
    "## if-else-elif\n",
    "# if logic:\n",
    "#       True_block\n",
    "# else:\n",
    "#     False_block\n",
    "\n",
    "\n",
    "## if else in comprehensive style\n",
    "# True_block    if logic      else      False_block\n",
    "\n",
    "\n",
    "if True:\n",
    "    print(\"pakistan zinda bad\")\n",
    "else:\n",
    "    print(\"hello world!\")"
   ]
  },
  {
   "cell_type": "code",
   "execution_count": 4,
   "id": "e6ee3e84-b0cf-4980-bc7e-f724a8d2f568",
   "metadata": {},
   "outputs": [
    {
     "name": "stdout",
     "output_type": "stream",
     "text": [
      "hello world!\n"
     ]
    }
   ],
   "source": [
    "if False:\n",
    "    print(\"pakistan zinda bad\")\n",
    "else:\n",
    "    print(\"hello world!\")"
   ]
  },
  {
   "cell_type": "code",
   "execution_count": 8,
   "id": "5eb9dbfc-4e88-4149-a2d8-c1e670511de2",
   "metadata": {},
   "outputs": [
    {
     "name": "stdout",
     "output_type": "stream",
     "text": [
      "hello world!\n"
     ]
    }
   ],
   "source": [
    "# true_block                        (if) logic       (else)            false_block\n",
    "print(\"pakistan zinda bad\")         if False       else            print(\"hello world!\")"
   ]
  },
  {
   "cell_type": "markdown",
   "id": "4ffe11f7-ac2e-4cb3-b36f-29be93c942fe",
   "metadata": {},
   "source": [
    "# comparison operators:\n",
    " *==\n",
    " *>=\n",
    " *<=\n",
    " *!=\n",
    "# logic:  \n",
    " *and\n",
    " *or \n",
    " *not\n",
    "# combinations:\n",
    " *if\n",
    " *if-else\n",
    " *if-elif(else if)-else"
   ]
  },
  {
   "cell_type": "code",
   "execution_count": 6,
   "id": "8a30113f-a2a9-43a7-8634-28b1c09b00e5",
   "metadata": {},
   "outputs": [
    {
     "name": "stdout",
     "output_type": "stream",
     "text": [
      "kiki\n",
      "1\n",
      "2\n"
     ]
    }
   ],
   "source": [
    "if True:\n",
    "    print(\"kiki\")\n",
    "\n",
    "print(\"1\")\n",
    "print(\"2\")"
   ]
  },
  {
   "cell_type": "code",
   "execution_count": 7,
   "id": "5d584ce4-27b4-4b33-91a4-c326d40ea14a",
   "metadata": {},
   "outputs": [
    {
     "name": "stdout",
     "output_type": "stream",
     "text": [
      "1\n",
      "2\n"
     ]
    }
   ],
   "source": [
    "if False:\n",
    "    print(\"kiki\")\n",
    "\n",
    "print(\"1\")\n",
    "print(\"2\")"
   ]
  },
  {
   "cell_type": "code",
   "execution_count": 3,
   "id": "ece165f8-0d68-4f38-bbf6-d8b37853b315",
   "metadata": {},
   "outputs": [
    {
     "name": "stdout",
     "output_type": "stream",
     "text": [
      "True\n"
     ]
    }
   ],
   "source": [
    "if True:    \n",
    "    print(\"True\")\n",
    "elif False:\n",
    "    print(\"elif1\")"
   ]
  },
  {
   "cell_type": "code",
   "execution_count": 10,
   "id": "db40d6b0-3e99-4ce0-a503-def16070a4be",
   "metadata": {},
   "outputs": [
    {
     "name": "stdout",
     "output_type": "stream",
     "text": [
      "kiki\n"
     ]
    }
   ],
   "source": [
    "if True:\n",
    "    print(\"kiki\")\n",
    "elif False:\n",
    "    print(\"reesha\")\n",
    "elif False:\n",
    "    print(\"rihanna\")\n",
    "elif False:\n",
    "    print(\"gigi\")\n",
    "else:\n",
    "    print(\"kylie\") "
   ]
  },
  {
   "cell_type": "code",
   "execution_count": 13,
   "id": "9b1cad55-76bf-451f-a877-4b474700e762",
   "metadata": {},
   "outputs": [
    {
     "name": "stdout",
     "output_type": "stream",
     "text": [
      "reesha\n"
     ]
    }
   ],
   "source": [
    "if False:\n",
    "    print(\"kiki\")\n",
    "elif True:\n",
    "    print(\"reesha\")\n",
    "elif False:\n",
    "    print(\"rihanna\")\n",
    "elif False:\n",
    "    print(\"gigi\")\n",
    "else:\n",
    "    print(\"kylie\")"
   ]
  },
  {
   "cell_type": "code",
   "execution_count": 15,
   "id": "7edc9f5d-5daa-4a93-8a5c-1a303908dcea",
   "metadata": {},
   "outputs": [
    {
     "name": "stdout",
     "output_type": "stream",
     "text": [
      "reesha\n",
      "pakistani\n"
     ]
    }
   ],
   "source": [
    "if False:\n",
    "    print(\"kiki\")\n",
    "elif True:\n",
    "    print(\"reesha\")\n",
    "elif True:\n",
    "    print(\"rihanna\")\n",
    "elif False:\n",
    "    print(\"gigi\")\n",
    "else:\n",
    "    print(\"kylie\")\n",
    "\n",
    "print(\"pakistani\")"
   ]
  },
  {
   "cell_type": "code",
   "execution_count": 16,
   "id": "48758c38-67b9-487c-9934-c6008279524a",
   "metadata": {},
   "outputs": [
    {
     "name": "stdout",
     "output_type": "stream",
     "text": [
      "kiki\n",
      "reesha\n",
      "pakistani\n"
     ]
    }
   ],
   "source": [
    "if True:\n",
    "    print(\"kiki\")\n",
    "elif False:\n",
    "    print(\"reesha\")\n",
    "elif False:\n",
    "    print(\"rihanna\")\n",
    "elif False:\n",
    "    print(\"gigi\")\n",
    "else:\n",
    "    print(\"kylie\") \n",
    "\n",
    "if False:\n",
    "    print(\"kiki\")\n",
    "elif True:\n",
    "    print(\"reesha\")\n",
    "elif True:\n",
    "    print(\"rihanna\")\n",
    "elif False:\n",
    "    print(\"gigi\")\n",
    "else:\n",
    "    print(\"kylie\")\n",
    "\n",
    "print(\"pakistani\")"
   ]
  },
  {
   "cell_type": "code",
   "execution_count": 22,
   "id": "d8c82bbc-623a-44f8-b72c-b262ca1dfc01",
   "metadata": {},
   "outputs": [
    {
     "name": "stdout",
     "output_type": "stream",
     "text": [
      "your percentage is 88 and your grade is A+ .\n"
     ]
    }
   ],
   "source": [
    "# grading system/rule\n",
    "from typing import Union\n",
    "\n",
    "percentage : Union [int,float] = 88\n",
    "grade : Union[str,None] = None\n",
    "\n",
    "if percentage >= 88 :  # if True:\n",
    "    grade = \"A+\"\n",
    "elif percentage >= 70:\n",
    "    grade = \"A\"\n",
    "elif percentage >= 60:\n",
    "    grade = \"B\"\n",
    "elif percentage >= 50:\n",
    "    grade = \"C\"\n",
    "elif percentage >= 40:\n",
    "    grade=\"D\"\n",
    "elif percentage >= 33:\n",
    "    grade=\"E\"\n",
    "else:\n",
    "    grade = \"fail\"\n",
    "   \n",
    "print(f\"your percentage is {percentage} and your grade is {grade} .\")\n"
   ]
  },
  {
   "cell_type": "code",
   "execution_count": 34,
   "id": "2284c8b1-44c7-4495-88d7-aefca9a051a0",
   "metadata": {},
   "outputs": [
    {
     "name": "stdin",
     "output_type": "stream",
     "text": [
      "enter your percentage 44\n"
     ]
    },
    {
     "name": "stdout",
     "output_type": "stream",
     "text": [
      "your percentage is 44 and your calculated grade is D\n"
     ]
    }
   ],
   "source": [
    "from typing import Union\n",
    "\n",
    "#percentage : int | float = 22\n",
    "percentage : Union [int,float] =int( (input(\"enter your percentage\")))\n",
    "grade : Union [str,None] = None\n",
    "# grade : Optional[str]= None\n",
    "if percentage >= 88:\n",
    "    grade= \"A+\"\n",
    "elif percentage >=70:\n",
    "    grade = \"A\"\n",
    "elif percentage >= 60:\n",
    "    grade = \"B\"\n",
    "elif percentage >= 50:\n",
    "    grade = \"C\"\n",
    "elif percentage >= 40:\n",
    "    grade = \"D\"\n",
    "elif percentage >= 33:\n",
    "    grade = \"E\"\n",
    "else:\n",
    "    grade=\"fail\"\n",
    "\n",
    "print(f\"your percentage is {percentage} and your calculated grade is {grade}\")"
   ]
  },
  {
   "cell_type": "code",
   "execution_count": 13,
   "id": "95c4e7da-d9f2-4458-848a-80d90db5b3f8",
   "metadata": {},
   "outputs": [
    {
     "name": "stdin",
     "output_type": "stream",
     "text": [
      "enter your percentage: 88\n"
     ]
    },
    {
     "name": "stdout",
     "output_type": "stream",
     "text": [
      "the grade for your percentage is A+\n"
     ]
    }
   ],
   "source": [
    "from typing import Union\n",
    "percentage : Union [int,float] = int (input(\"enter your percentage:\"))\n",
    "grade : Union [str,None] = None\n",
    "\n",
    "if (percentage>= 0) and (percentage<33): # round brackets to show we are applying pemdas rule\n",
    "    grade=\"fail\"\n",
    "elif percentage>=33 and percentage<40:\n",
    "    grade=\"E\"\n",
    "elif percentage>=40 and percentage<50:\n",
    "    grade=\"D\"\n",
    "elif percentage>=50 and percentage<60:\n",
    "    grade=\"C\"\n",
    "elif percentage>=60 and percentage<70:\n",
    "    grade=\"B\"\n",
    "elif percentage>=70 and percentage<80:\n",
    "    grade=\"A\"\n",
    "else:               # or   elif percentage>=80 and percentage <=100:\n",
    "    grade=\"A+\"      #       grade=\"A+\"\n",
    "    \n",
    "print(f\"the grade for your percentage is {grade}\")   "
   ]
  },
  {
   "cell_type": "code",
   "execution_count": 24,
   "id": "7cdc2cbb-d330-47ea-a1c1-13729df5539e",
   "metadata": {},
   "outputs": [],
   "source": [
    "PerType =  Union[float,int] # custom type"
   ]
  },
  {
   "cell_type": "code",
   "execution_count": 28,
   "id": "2bd9d076-6104-4769-a18e-46a7633a6c1a",
   "metadata": {},
   "outputs": [
    {
     "name": "stdout",
     "output_type": "stream",
     "text": [
      "[88, 99.9, 50, 51, 65, 70]\n",
      "['A+', 'A+', 'C', 'C', 'B', 'A']\n"
     ]
    }
   ],
   "source": [
    "# student percentages\n",
    "\n",
    "percentages : list[PerType] \n",
    "percentages = [88, 99.9,50,51,65,70]\n",
    "\n",
    "grades : list [str] = []\n",
    "\n",
    "for percentage in percentages:\n",
    "    grade : str = \" \"\n",
    "    if percentage >= 88 : \n",
    "       grade = \"A+\"\n",
    "    elif percentage >=70:\n",
    "       grade = \"A\"\n",
    "    elif percentage >= 60:\n",
    "       grade = \"B\"\n",
    "    elif percentage >= 50:\n",
    "      grade = \"C\"\n",
    "    elif percentage >= 40:\n",
    "      grade=\"D\"\n",
    "    elif percentage >= 33:\n",
    "      grade=\"E\"\n",
    "    else:\n",
    "      grade = \"fail\"\n",
    "    grades.append(grade)\n",
    "   \n",
    "print (percentages)\n",
    "print(grades)\n",
    "  "
   ]
  },
  {
   "cell_type": "code",
   "execution_count": 30,
   "id": "0d09dd15-cf5b-4edb-881c-b91ce803e852",
   "metadata": {},
   "outputs": [
    {
     "data": {
      "text/plain": [
       "[(88, 'A+'), (99.9, 'A+'), (50, 'C'), (51, 'C'), (65, 'B'), (70, 'A')]"
      ]
     },
     "execution_count": 30,
     "metadata": {},
     "output_type": "execute_result"
    }
   ],
   "source": [
    "# zip(percentages,grades)      # zip  function zips together thingd (here grade and percentage)\n",
    "list(zip(percentages,grades)) # zip is generative function so we have to use iterative data type with it like list.\n"
   ]
  },
  {
   "cell_type": "code",
   "execution_count": 31,
   "id": "1ac52f7c-5a2b-4cde-a1f7-9459077b0e29",
   "metadata": {},
   "outputs": [
    {
     "data": {
      "text/plain": [
       "[(88, 'A+', 0),\n",
       " (99.9, 'A+', 1),\n",
       " (50, 'C', 2),\n",
       " (51, 'C', 3),\n",
       " (65, 'B', 4),\n",
       " (70, 'A', 5)]"
      ]
     },
     "execution_count": 31,
     "metadata": {},
     "output_type": "execute_result"
    }
   ],
   "source": [
    "list(zip(percentages,grades,list(range(len(percentages)))))"
   ]
  },
  {
   "cell_type": "code",
   "execution_count": null,
   "id": "74dfa5e0-28d4-464d-aab1-98f55281e93a",
   "metadata": {},
   "outputs": [],
   "source": [
    "# student percentages      ex\n",
    "\n",
    "percentages : list[PerType] \n",
    "percentages = [88, 99.9,50,51,65,70]\n",
    "\n",
    "grades : list [str] = []\n",
    "for percentage=88  in [88, 99.9,50,51,65,70] :  #for percentage in percentages:\n",
    "                                           \n",
    "    grade : str = \" \"\n",
    "    if percentage >= 88 : \n",
    "       grade = \"A+\"\n",
    "    elif percentage >=70:\n",
    "       grade = \"A\"\n",
    "    elif percentage >= 60:\n",
    "       grade = \"B\"\n",
    "    elif percentage >= 50:\n",
    "      grade = \"C\"\n",
    "    elif percentage >= 40:\n",
    "      grade=\"D\"\n",
    "    elif percentage >= 33:\n",
    "      grade=\"E\"\n",
    "    else:\n",
    "      grade = \"fail\"\n",
    "    grades.append(grade)\n",
    "   \n",
    "print (percentages)\n",
    "print(grades)\n",
    "  "
   ]
  },
  {
   "cell_type": "code",
   "execution_count": 32,
   "id": "4cfdd5ba-7258-4179-8ca7-03f974d0e783",
   "metadata": {},
   "outputs": [
    {
     "data": {
      "text/plain": [
       "['zia', 'qasim']"
      ]
     },
     "execution_count": 32,
     "metadata": {},
     "output_type": "execute_result"
    }
   ],
   "source": [
    "names : list [str] = [\"zia\"]\n",
    "names.append(\"qasim\")\n",
    "names"
   ]
  },
  {
   "cell_type": "code",
   "execution_count": 36,
   "id": "e9179d75-7739-41a0-a5e5-f33f2b00ca77",
   "metadata": {},
   "outputs": [
    {
     "data": {
      "text/plain": [
       "[0, 1, 2, 3, 4, 5]"
      ]
     },
     "execution_count": 36,
     "metadata": {},
     "output_type": "execute_result"
    }
   ],
   "source": [
    "roll_no : list[int] = list(range(len(percentages)))\n",
    "roll_no"
   ]
  },
  {
   "cell_type": "code",
   "execution_count": 38,
   "id": "114340a8-65d1-4c0a-b10b-d6404956f902",
   "metadata": {},
   "outputs": [
    {
     "data": {
      "text/plain": [
       "[(0, 88, 'A+'),\n",
       " (1, 99.9, 'A+'),\n",
       " (2, 50, 'C'),\n",
       " (3, 51, 'C'),\n",
       " (4, 65, 'B'),\n",
       " (5, 70, 'A')]"
      ]
     },
     "execution_count": 38,
     "metadata": {},
     "output_type": "execute_result"
    }
   ],
   "source": [
    "database = list(zip(roll_no,percentages,grades))\n",
    "database\n",
    "# the output is a database"
   ]
  },
  {
   "cell_type": "code",
   "execution_count": 43,
   "id": "a0710ffd-e2fd-448f-971e-354a68cd46b8",
   "metadata": {},
   "outputs": [
    {
     "data": {
      "text/plain": [
       "[(0, 88, 'A+'),\n",
       " (1, 99.9, 'A+'),\n",
       " (2, 50, 'C'),\n",
       " (3, 51, 'C'),\n",
       " (4, 65, 'B'),\n",
       " (5, 70, 'A')]"
      ]
     },
     "metadata": {},
     "output_type": "display_data"
    },
    {
     "data": {
      "text/plain": [
       "[(0, 88, 'A+'),\n",
       " (1, 99.9, 'A+'),\n",
       " (2, 50, 'C'),\n",
       " (3, 51, 'C'),\n",
       " (4, 65, 'B'),\n",
       " (5, 70, 'A')]"
      ]
     },
     "execution_count": 43,
     "metadata": {},
     "output_type": "execute_result"
    }
   ],
   "source": [
    "display(database)\n",
    "sorted(database)  # it soerted first coulmn.\n"
   ]
  },
  {
   "cell_type": "code",
   "execution_count": 44,
   "id": "b67d97aa-5462-4ff2-8fac-7fb68d7310b9",
   "metadata": {},
   "outputs": [
    {
     "data": {
      "text/plain": [
       "[(2, 50, 'C'),\n",
       " (3, 51, 'C'),\n",
       " (4, 65, 'B'),\n",
       " (5, 70, 'A'),\n",
       " (0, 88, 'A+'),\n",
       " (1, 99.9, 'A+')]"
      ]
     },
     "execution_count": 44,
     "metadata": {},
     "output_type": "execute_result"
    }
   ],
   "source": [
    " sorted (database, key=lambda x : x[1])  # sorted according to index 1"
   ]
  },
  {
   "cell_type": "code",
   "execution_count": 45,
   "id": "ff599fa1-14c5-4e26-99fc-32a52380e9bc",
   "metadata": {},
   "outputs": [
    {
     "data": {
      "text/plain": [
       "[(1, 99.9, 'A+'),\n",
       " (0, 88, 'A+'),\n",
       " (5, 70, 'A'),\n",
       " (4, 65, 'B'),\n",
       " (3, 51, 'C'),\n",
       " (2, 50, 'C')]"
      ]
     },
     "execution_count": 45,
     "metadata": {},
     "output_type": "execute_result"
    }
   ],
   "source": [
    "sorted (database , key = lambda x : x[1], reverse = True)"
   ]
  },
  {
   "cell_type": "code",
   "execution_count": 52,
   "id": "c1a2a64b-a363-43ee-b87f-f13442fcb4d6",
   "metadata": {},
   "outputs": [
    {
     "name": "stdout",
     "output_type": "stream",
     "text": [
      "BMW\n",
      "Toyota\n"
     ]
    }
   ],
   "source": [
    "cars : list [str] = [\"audi\", \"bmw\",\"subaru\",\"toyota\"]\n",
    "for car in cars:   # to move group of lines forward and backward use 'tab' and 'shift and tab'.\n",
    "    if car ==\"bmw\":\n",
    "        print(car.upper())    \n",
    "else:\n",
    "    print(car.title())\n",
    "# wrong output\n",
    "# correct output : Audi BMW Subaru Toyota"
   ]
  },
  {
   "cell_type": "code",
   "execution_count": 69,
   "id": "91dd729f-7521-446e-8508-1feee843e563",
   "metadata": {},
   "outputs": [
    {
     "name": "stdout",
     "output_type": "stream",
     "text": [
      "bmw\n"
     ]
    }
   ],
   "source": [
    "print(car) # it should print toyota."
   ]
  },
  {
   "cell_type": "code",
   "execution_count": 67,
   "id": "48cbcdf4-5d06-4d18-8dc5-933cee2cc05b",
   "metadata": {},
   "outputs": [
    {
     "data": {
      "text/plain": [
       "['Audi', 'BMW', 'Subaru', 'Toyota']"
      ]
     },
     "execution_count": 67,
     "metadata": {},
     "output_type": "execute_result"
    }
   ],
   "source": [
    "# list comprehensive of above e.g\n",
    "cars : list [str] = [\"audi\",\"bmw\",\"subaru\",\"toyota\"]\n",
    "\n",
    "#  for i in cars\n",
    "[i for i in cars]\n",
    "\n",
    "#                logic                               for loop\n",
    "# true block     if            else    false block     (for loop..)                  # list comprehensive\n",
    "[i.upper()      if i==\"bmw\"    else    i.title()       for i in cars ]\n"
   ]
  },
  {
   "cell_type": "code",
   "execution_count": 58,
   "id": "052a6e4f-d0a0-4803-b492-c7ee050562c6",
   "metadata": {},
   "outputs": [
    {
     "data": {
      "text/plain": [
       "[1, 1, 1, 1]"
      ]
     },
     "execution_count": 58,
     "metadata": {},
     "output_type": "execute_result"
    }
   ],
   "source": [
    "[1 for i in cars] # ex"
   ]
  },
  {
   "cell_type": "code",
   "execution_count": 62,
   "id": "a6ad0a6a-62be-41ff-a7eb-9eb937c930c5",
   "metadata": {},
   "outputs": [
    {
     "name": "stdout",
     "output_type": "stream",
     "text": [
      "True\n"
     ]
    }
   ],
   "source": [
    "car = \"bmw\"\n",
    "print(car == \"bmw\")"
   ]
  },
  {
   "cell_type": "code",
   "execution_count": 70,
   "id": "3e0fb6ec-b9f6-481f-b1bf-3eb4cf911486",
   "metadata": {},
   "outputs": [
    {
     "data": {
      "text/plain": [
       "False"
      ]
     },
     "execution_count": 70,
     "metadata": {},
     "output_type": "execute_result"
    }
   ],
   "source": [
    "car = \"audi\"\n",
    "car == \"bmw\""
   ]
  },
  {
   "cell_type": "code",
   "execution_count": 71,
   "id": "bc8fd9ba-625f-4a0a-a8c5-5be4c0a0f462",
   "metadata": {},
   "outputs": [
    {
     "data": {
      "text/plain": [
       "False"
      ]
     },
     "execution_count": 71,
     "metadata": {},
     "output_type": "execute_result"
    }
   ],
   "source": [
    "#\n",
    "car = \"Audi\"\n",
    "car == \"audi\""
   ]
  },
  {
   "cell_type": "code",
   "execution_count": 72,
   "id": "9b0ddf0a-8a72-4f15-95c8-c62a03644eb5",
   "metadata": {},
   "outputs": [
    {
     "data": {
      "text/plain": [
       "True"
      ]
     },
     "execution_count": 72,
     "metadata": {},
     "output_type": "execute_result"
    }
   ],
   "source": [
    "car = \"Audi\"\n",
    "car.lower()  == \"audi\" # ignoring case when checking email"
   ]
  },
  {
   "cell_type": "code",
   "execution_count": 73,
   "id": "18e39d5c-1dcd-42b9-b48d-0142910debec",
   "metadata": {},
   "outputs": [
    {
     "name": "stdout",
     "output_type": "stream",
     "text": [
      "AUDI\n",
      "BMW\n",
      "SUBARU\n",
      "TOYOTA\n"
     ]
    }
   ],
   "source": [
    "# inequality\n",
    "cars : list [str] = [\"audi\",\"bmw\",\"mehran\",\"subaru\",\"toyota\"]\n",
    "for car in cars :\n",
    "    if car != \"mehran\" :\n",
    "        print(car.upper())"
   ]
  },
  {
   "cell_type": "code",
   "execution_count": 77,
   "id": "4af968f5-7651-4a45-87fd-64eee949c19a",
   "metadata": {},
   "outputs": [
    {
     "name": "stdout",
     "output_type": "stream",
     "text": [
      "AUDI\n",
      "BMW\n",
      "mehran\n",
      "SUBARU\n",
      "TOYOTA\n"
     ]
    }
   ],
   "source": [
    "cars : list [str] = [\"audi\",\"bmw\",\"mehran\",\"subaru\",\"toyota\"]\n",
    "for car in cars :\n",
    "    if car != \"mehran\" :\n",
    "        print(car.upper())\n",
    "    else:\n",
    "        print(car.lower())"
   ]
  },
  {
   "cell_type": "code",
   "execution_count": 78,
   "id": "57134f8c-469b-4f62-998a-cdee31145b46",
   "metadata": {},
   "outputs": [
    {
     "data": {
      "text/plain": [
       "True"
      ]
     },
     "execution_count": 78,
     "metadata": {},
     "output_type": "execute_result"
    }
   ],
   "source": [
    "#\n",
    "age = 18\n",
    "age == 18\n"
   ]
  },
  {
   "cell_type": "code",
   "execution_count": 79,
   "id": "4be7e4c8-f84b-403c-8dd5-6b50e12f439c",
   "metadata": {},
   "outputs": [
    {
     "name": "stdout",
     "output_type": "stream",
     "text": [
      "that is not the correct answer . try again\n"
     ]
    }
   ],
   "source": [
    "#\n",
    "answer = 18\n",
    "if answer != 42:\n",
    "    print(\"that is not the correct answer . try again\")"
   ]
  },
  {
   "cell_type": "code",
   "execution_count": 80,
   "id": "f9a33fda-e3a5-4a13-843b-bb1c2210ba79",
   "metadata": {},
   "outputs": [
    {
     "data": {
      "text/plain": [
       "True"
      ]
     },
     "execution_count": 80,
     "metadata": {},
     "output_type": "execute_result"
    }
   ],
   "source": [
    "# \n",
    "age = 19\n",
    "age < 21"
   ]
  },
  {
   "cell_type": "code",
   "execution_count": 81,
   "id": "d0b77f31-a5b3-4c96-8148-971fce38d1f2",
   "metadata": {},
   "outputs": [
    {
     "data": {
      "text/plain": [
       "True"
      ]
     },
     "execution_count": 81,
     "metadata": {},
     "output_type": "execute_result"
    }
   ],
   "source": [
    "age <= 21"
   ]
  },
  {
   "cell_type": "code",
   "execution_count": 82,
   "id": "db19bc9c-3a48-4d4b-8af6-15cf26130f9b",
   "metadata": {},
   "outputs": [
    {
     "data": {
      "text/plain": [
       "False"
      ]
     },
     "execution_count": 82,
     "metadata": {},
     "output_type": "execute_result"
    }
   ],
   "source": [
    "age > 21"
   ]
  },
  {
   "cell_type": "code",
   "execution_count": 83,
   "id": "361ada87-394c-40f4-b20a-9cebe7f31adb",
   "metadata": {},
   "outputs": [
    {
     "data": {
      "text/plain": [
       "False"
      ]
     },
     "execution_count": 83,
     "metadata": {},
     "output_type": "execute_result"
    }
   ],
   "source": [
    "age >= 21"
   ]
  },
  {
   "cell_type": "code",
   "execution_count": 84,
   "id": "d54e016a-59af-4d14-9c9b-2141a23c88eb",
   "metadata": {},
   "outputs": [
    {
     "data": {
      "text/plain": [
       "False"
      ]
     },
     "execution_count": 84,
     "metadata": {},
     "output_type": "execute_result"
    }
   ],
   "source": [
    "# \n",
    "age_0 = 22\n",
    "age_1 = 18\n",
    "age_0 >= 21 and age_1 >= 21"
   ]
  },
  {
   "cell_type": "code",
   "execution_count": 86,
   "id": "0d8a4039-940e-48b2-b44a-854700a7b0ed",
   "metadata": {},
   "outputs": [
    {
     "data": {
      "text/plain": [
       "True"
      ]
     },
     "execution_count": 86,
     "metadata": {},
     "output_type": "execute_result"
    }
   ],
   "source": [
    "age_1 = 22\n",
    "(age_0 >= 21) and (age_1 >= 21)\n",
    "# and or not to make login system"
   ]
  },
  {
   "cell_type": "code",
   "execution_count": 87,
   "id": "e960c1b6-0097-40fc-9a4c-91e7e0b18abd",
   "metadata": {},
   "outputs": [
    {
     "data": {
      "text/plain": [
       "True"
      ]
     },
     "execution_count": 87,
     "metadata": {},
     "output_type": "execute_result"
    }
   ],
   "source": [
    "# in operator behaves differently with for loop  and        . in operator extracts elements from iterative types (with for loop).\n",
    "# but in operator outside loop , with if else checks membership  (whether the member is present in list or not)\n",
    "\n",
    "cars : list [str] = [\"audi\",\"bmw\",\"mehran\",\"sebaru\",\"toyota\"]\n",
    "\"bmw\" in cars"
   ]
  },
  {
   "cell_type": "code",
   "execution_count": 88,
   "id": "d754c6b0-5434-436e-b260-f9e29f73e9bd",
   "metadata": {},
   "outputs": [
    {
     "data": {
      "text/plain": [
       "True"
      ]
     },
     "execution_count": 88,
     "metadata": {},
     "output_type": "execute_result"
    }
   ],
   "source": [
    " # database system\n",
    "banned_users : list [str] = [\"andrew\",\"carolina\",\"david\"]\n",
    "user : str = \"marie\"\n",
    "\n",
    "user not in banned_users"
   ]
  },
  {
   "cell_type": "code",
   "execution_count": 89,
   "id": "d65ce387-fd62-4d45-a63a-67e442282561",
   "metadata": {},
   "outputs": [
    {
     "name": "stdout",
     "output_type": "stream",
     "text": [
      "marie, you can post a response if you wish\n"
     ]
    }
   ],
   "source": [
    "banned_users : list[str] = [\"andrew\",\"carolina\",\"david\"]\n",
    "user : str = \"marie\"\n",
    "if user not in banned_users:\n",
    "    print(f\"{user}, you can post a response if you wish\")\n",
    "# you can use bank if you are not in blocked list people , / can be when logging in. application."
   ]
  },
  {
   "cell_type": "code",
   "execution_count": 90,
   "id": "193d2be8-dc33-4826-9b3b-878ea765bbe4",
   "metadata": {},
   "outputs": [],
   "source": [
    "game_active = True "
   ]
  },
  {
   "cell_type": "code",
   "execution_count": 91,
   "id": "792fdbd2-f228-433b-91c5-c6aa33bfc8d6",
   "metadata": {},
   "outputs": [
    {
     "name": "stdout",
     "output_type": "stream",
     "text": [
      "you are young to vote\n",
      "register to vote when you turn 18\n"
     ]
    }
   ],
   "source": [
    "#\n",
    "age = 17  # age : int = 17\n",
    "if age>=18:\n",
    "    print(\"you are old enough to vote\")\n",
    "    print(\"have you registered to vote yet?\")\n",
    "else:\n",
    "    print(\"you are young to vote\")\n",
    "    print(\"register to vote when you turn 18\")"
   ]
  },
  {
   "cell_type": "code",
   "execution_count": 92,
   "id": "bfb7e1bf-d524-4455-a705-2a78e35b3d55",
   "metadata": {},
   "outputs": [
    {
     "name": "stdout",
     "output_type": "stream",
     "text": [
      "your admission cost is 25$\n"
     ]
    }
   ],
   "source": [
    "# if - elif (else if) - if chain\n",
    "age = 12\n",
    "\n",
    "if age<4 :\n",
    "    print(\"your admission cost is 0$\")\n",
    "elif age < 18 :\n",
    "    print(\"your admission cost is 25$\")\n",
    "else:\n",
    "    print(\"your admission cost is 40$\")\n",
    "    "
   ]
  },
  {
   "cell_type": "code",
   "execution_count": 94,
   "id": "fcf9b594-c05a-4a16-8edc-0276a1d3efd0",
   "metadata": {},
   "outputs": [
    {
     "name": "stdout",
     "output_type": "stream",
     "text": [
      "your admission cost is 25$\n"
     ]
    }
   ],
   "source": [
    "# other way\n",
    "age = 12\n",
    "\n",
    "if age < 4 :\n",
    "    price = 0\n",
    "elif age < 18 :\n",
    "    price = 25\n",
    "else:\n",
    "    price = 40\n",
    "\n",
    "print(f\"your admission cost is {price}$\")"
   ]
  },
  {
   "cell_type": "code",
   "execution_count": 96,
   "id": "8a450432-93e6-4410-9501-eda483d9a0c5",
   "metadata": {},
   "outputs": [
    {
     "name": "stdout",
     "output_type": "stream",
     "text": [
      "add extra cheese\n",
      "\n",
      "finished making your pizza\n"
     ]
    }
   ],
   "source": [
    "#\n",
    "requested_toppings : list [str] = [\"mushrooms\",\"extra cheese\"]\n",
    "\n",
    "if \"mushroom\" in requested_toppings:\n",
    "    print(\"add mushrooms\")\n",
    "    \n",
    "if \"peporoni\" in requested_toppings:\n",
    "    print(\"add peporoni\")\n",
    "    \n",
    "if \"extra cheese\" in requested_toppings:\n",
    "    print(\"add extra cheese\")\n",
    "\n",
    "print(\"\\nfinished making your pizza\")"
   ]
  },
  {
   "cell_type": "code",
   "execution_count": 100,
   "id": "f1470f83-78f2-4790-894d-087f954d00df",
   "metadata": {},
   "outputs": [
    {
     "name": "stdout",
     "output_type": "stream",
     "text": [
      "adding mushroom \n",
      "sorry we are out of green peppers right now\n",
      "adding extra cheese \n",
      "\n",
      "finished making your pizza\n"
     ]
    }
   ],
   "source": [
    "#\n",
    "requested_toppings : list [str] = [\"mushroom\",\"green peppers\",\"extra cheese\"]\n",
    "\n",
    "for requested_topping in requested_toppings:\n",
    "    if requested_topping == \"green peppers\":\n",
    "        print(\"sorry we are out of green peppers right now\")\n",
    "    else:\n",
    "        print(f\"adding {requested_topping} \")\n",
    "\n",
    "print(\"\\nfinished making your pizza\")"
   ]
  },
  {
   "cell_type": "code",
   "execution_count": 105,
   "id": "2860738e-507a-46a3-aa5a-e84cc9587522",
   "metadata": {},
   "outputs": [
    {
     "ename": "NameError",
     "evalue": "name 'requested_Toppings' is not defined",
     "output_type": "error",
     "traceback": [
      "\u001b[1;31m---------------------------------------------------------------------------\u001b[0m",
      "\u001b[1;31mNameError\u001b[0m                                 Traceback (most recent call last)",
      "Cell \u001b[1;32mIn[105], line 3\u001b[0m\n\u001b[0;32m      1\u001b[0m \u001b[38;5;66;03m# \u001b[39;00m\n\u001b[0;32m      2\u001b[0m requested_Topppings  \u001b[38;5;241m=\u001b[39m []\n\u001b[1;32m----> 3\u001b[0m \u001b[38;5;28;01mif\u001b[39;00m requested_Toppings:\n\u001b[0;32m      4\u001b[0m     \u001b[38;5;28;01mfor\u001b[39;00m requested_topping \u001b[38;5;129;01min\u001b[39;00m requested_Toppings:\n\u001b[0;32m      5\u001b[0m         \u001b[38;5;28mprint\u001b[39m(\u001b[38;5;124mf\u001b[39m\u001b[38;5;124m\"\u001b[39m\u001b[38;5;124madding \u001b[39m\u001b[38;5;132;01m{\u001b[39;00mrequested_topping\u001b[38;5;132;01m}\u001b[39;00m\u001b[38;5;124m\"\u001b[39m)\n",
      "\u001b[1;31mNameError\u001b[0m: name 'requested_Toppings' is not defined"
     ]
    }
   ],
   "source": [
    "# \n",
    "requested_Topppings  = []\n",
    "if requested_Toppings:\n",
    "    for requested_topping in requested_Toppings:\n",
    "        print(f\"adding {requested_topping}\")\n",
    "        print(\"\\nfinished making your pizza\")\n",
    "else:\n",
    "    print(\"are you sure you want a plain pizza?\")\n",
    "        "
   ]
  },
  {
   "cell_type": "code",
   "execution_count": 109,
   "id": "3c1eb01f-7aae-4464-a729-07d1ca0139e0",
   "metadata": {},
   "outputs": [
    {
     "name": "stdout",
     "output_type": "stream",
     "text": [
      "adding mushroom\n",
      "sorry, we dont have french fries\n",
      "adding extra cheese\n",
      "\n",
      "finished making your pizza\n"
     ]
    }
   ],
   "source": [
    "# multiple lists\n",
    "available_toppings : list[str] = [\"mushroom\",\"olive\",\"green pepper\",\"pepporoni\",\"pineapple\",\"extra cheese\"]\n",
    "requested_toppings : list[str] = [\"mushroom\",\"french fries\",\"extra cheese\"] # can be user input . this is user input.\n",
    "\n",
    "for requested_topping in requested_toppings:\n",
    "    if requested_topping in available_toppings:\n",
    "        print(f\"adding {requested_topping}\")\n",
    "    else:\n",
    "        print(f\"sorry, we dont have {requested_topping}\")\n",
    "\n",
    "print(\"\\nfinished making your pizza\")"
   ]
  },
  {
   "cell_type": "code",
   "execution_count": 110,
   "id": "51d1d475-a394-49ce-b16a-aee2071da1f2",
   "metadata": {},
   "outputs": [
    {
     "name": "stdin",
     "output_type": "stream",
     "text": [
      "enter ',' separated value for topping :  sas,dsada,dsad\n"
     ]
    },
    {
     "data": {
      "text/plain": [
       "['sas', 'dsada', 'dsad']"
      ]
     },
     "execution_count": 110,
     "metadata": {},
     "output_type": "execute_result"
    }
   ],
   "source": [
    "#\n",
    "input(\"enter ',' separated value for topping : \").split(\",\")  # entering toppings dynamically"
   ]
  },
  {
   "cell_type": "code",
   "execution_count": 115,
   "id": "e1a54cb6-c442-4213-89f4-ab9ea2fc934b",
   "metadata": {},
   "outputs": [
    {
     "name": "stdin",
     "output_type": "stream",
     "text": [
      "enter id :  admin\n",
      "enter password : admin\n"
     ]
    },
    {
     "name": "stdout",
     "output_type": "stream",
     "text": [
      "sent otp on your registered number\n"
     ]
    },
    {
     "name": "stdin",
     "output_type": "stream",
     "text": [
      "enter otp 1234\n"
     ]
    },
    {
     "name": "stdout",
     "output_type": "stream",
     "text": [
      "invalid user name or password.\n"
     ]
    }
   ],
   "source": [
    "#\n",
    "user_name : str = input(\"enter id : \")\n",
    "user_password : str = input(\"enter password :\")\n",
    "\n",
    "if user_name == \"admin\" and user_password == \"admin\" :\n",
    "    print(\"sent otp on your registered number\")\n",
    "    otp : str = input(\"enter otp\")\n",
    "    if otp == \"123\":\n",
    "        print(\"welcome PAIC\")\n",
    "    else:\n",
    "        print(\"invalid user name or password.\")"
   ]
  },
  {
   "cell_type": "code",
   "execution_count": null,
   "id": "e5639196-6a6e-4d00-a1ea-d9c30984c25d",
   "metadata": {},
   "outputs": [],
   "source": []
  }
 ],
 "metadata": {
  "kernelspec": {
   "display_name": "Python 3 (ipykernel)",
   "language": "python",
   "name": "python3"
  },
  "language_info": {
   "codemirror_mode": {
    "name": "ipython",
    "version": 3
   },
   "file_extension": ".py",
   "mimetype": "text/x-python",
   "name": "python",
   "nbconvert_exporter": "python",
   "pygments_lexer": "ipython3",
   "version": "3.11.7"
  }
 },
 "nbformat": 4,
 "nbformat_minor": 5
}
