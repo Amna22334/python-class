{
 "cells": [
  {
   "cell_type": "markdown",
   "id": "6a3d3658-3adc-466d-bfba-8019c0f889a1",
   "metadata": {},
   "source": [
    "# 08 Python Crash Course | Dictionary methods, JSON, Jsonify and dataframe"
   ]
  },
  {
   "cell_type": "code",
   "execution_count": 33,
   "id": "d37e669a-6f47-4e45-b1c9-ec6419ba0523",
   "metadata": {},
   "outputs": [
    {
     "ename": "SyntaxError",
     "evalue": "invalid syntax (1030137531.py, line 1)",
     "output_type": "error",
     "traceback": [
      "\u001b[1;36m  Cell \u001b[1;32mIn[33], line 1\u001b[1;36m\u001b[0m\n\u001b[1;33m    set , tuple , list are iterative data types.\u001b[0m\n\u001b[1;37m                       ^\u001b[0m\n\u001b[1;31mSyntaxError\u001b[0m\u001b[1;31m:\u001b[0m invalid syntax\n"
     ]
    }
   ],
   "source": [
    "set , tuple , list are iterative data types.\n",
    "key in dict is index. (there is key in dict and index in list)\n",
    "hashable data type is made key."
   ]
  },
  {
   "cell_type": "code",
   "execution_count": null,
   "id": "bdad0b63-a434-4010-a3a8-2fcf8fb11a88",
   "metadata": {},
   "outputs": [],
   "source": [
    "data : dict = {\"name\": \"qasim\"}\n",
    "methods : list [str] = [  m for m in dir(data) if \"__\" not in m ]\n",
    "print(methods)"
   ]
  },
  {
   "cell_type": "code",
   "execution_count": null,
   "id": "ce5608f4-8d18-42f6-930a-b768f8534bd4",
   "metadata": {},
   "outputs": [],
   "source": [
    "# using .clear() method.\n",
    "print(data)\n",
    "data.clear()\n",
    "print(data)"
   ]
  },
  {
   "cell_type": "code",
   "execution_count": null,
   "id": "506ccb8e-22bd-484b-bdb2-82e947ce20ae",
   "metadata": {},
   "outputs": [],
   "source": [
    "# using del\n",
    "data : dict = {\"name\" : \"qasim\", \"father's name\":\"aslam\"}\n",
    "print(data)\n",
    "del data\n",
    "print(data) # object has been deleted"
   ]
  },
  {
   "cell_type": "code",
   "execution_count": null,
   "id": "dc68ecd5-e2e0-4bc6-ba26-d096687016a7",
   "metadata": {},
   "outputs": [],
   "source": [
    "# in .clear() the elements inside the dict are deleted and the dict becomes empty and in del the object is delted."
   ]
  },
  {
   "cell_type": "code",
   "execution_count": 34,
   "id": "d3e4d2d9-797a-4d45-80ce-886d2ff1c2ca",
   "metadata": {},
   "outputs": [
    {
     "name": "stdout",
     "output_type": "stream",
     "text": [
      "{'Name': 'Muhammad Qasim', \"Father's Name\": 'Muhammad Aslam', 'Education': 'Masters in Datascience', 'Age': '30'}\n",
      "Masters in Datascience\n",
      "{'Name': 'Muhammad Qasim', \"Father's Name\": 'Muhammad Aslam', 'Age': '30'}\n"
     ]
    }
   ],
   "source": [
    "# pop function\n",
    "data : dict = {\"Name\":\"Muhammad Qasim\",\"Father's Name\": \"Muhammad Aslam\", \"Education\":\"Masters in Datascience\", \"Age\":\"30\"}\n",
    "print(data)\n",
    "\n",
    "# data.pop(\"Education\") # pop needs atleast one argument . which will be a key.\n",
    "# pop is a return function so put it in a variable\n",
    "\n",
    "a : str = data.pop(\"Education\")\n",
    "print(a)\n",
    "\n",
    "print(data)"
   ]
  },
  {
   "cell_type": "code",
   "execution_count": 35,
   "id": "b596b4c7-b799-420d-9439-aea1e8f99fe9",
   "metadata": {},
   "outputs": [
    {
     "name": "stdout",
     "output_type": "stream",
     "text": [
      "{'Name': 'Muhammad Qasim', \"Father's Name\": 'Muhammad Aslam', 'Education': 'Masters in Datascience', 'Age': '30'}\n"
     ]
    },
    {
     "data": {
      "text/plain": [
       "('Age', '30')"
      ]
     },
     "execution_count": 35,
     "metadata": {},
     "output_type": "execute_result"
    }
   ],
   "source": [
    "# popitem()\n",
    "\n",
    "data : dict = {\"Name\": \"Muhammad Qasim\",\"Father's Name\":\"Muhammad Aslam\",\"Education\":\"Masters in Datascience\",\"Age\":\"30\"}\n",
    "\n",
    "print(data)\n",
    "\n",
    "data.popitem()"
   ]
  },
  {
   "cell_type": "code",
   "execution_count": 36,
   "id": "51fd8b2c-d294-478d-8c68-78c628718930",
   "metadata": {},
   "outputs": [
    {
     "name": "stdout",
     "output_type": "stream",
     "text": [
      "{'Name': 'Muhammad Qasim', \"Father's Name\": 'Muhammad Aslam', 'Education': \"Master's in Datascience\", 'Age': '30'}\n",
      "('Age', '30')\n",
      "{'Name': 'Muhammad Qasim', \"Father's Name\": 'Muhammad Aslam', 'Education': \"Master's in Datascience\"}\n"
     ]
    }
   ],
   "source": [
    "data : dict = {\"Name\":\"Muhammad Qasim\",\"Father's Name\":\"Muhammad Aslam\",\"Education\":\"Master's in Datascience\",\"Age\":\"30\"}\n",
    "\n",
    "print(data)\n",
    "\n",
    "a : str = data.popitem()\n",
    "\n",
    "print(a)\n",
    "\n",
    "print(data)"
   ]
  },
  {
   "cell_type": "code",
   "execution_count": 37,
   "id": "140f00fb-d770-4c8a-a326-f5687894bc0f",
   "metadata": {},
   "outputs": [
    {
     "data": {
      "text/plain": [
       "'NA'"
      ]
     },
     "execution_count": 37,
     "metadata": {},
     "output_type": "execute_result"
    }
   ],
   "source": [
    "# get function\n",
    "data.get(\"pakistan\",\"NA\")"
   ]
  },
  {
   "cell_type": "code",
   "execution_count": 38,
   "id": "35cb96c1-10b4-4c88-9dfd-944c7a8a226e",
   "metadata": {},
   "outputs": [
    {
     "name": "stdout",
     "output_type": "stream",
     "text": [
      "{'Name': 'Muhammad Qasim', \"Father's Name\": 'Muhammad Aslam', 'Education': \"Master's in Datascience\", 'pakistan': None}\n"
     ]
    }
   ],
   "source": [
    "# the get function tells whether the given key is present or not. the set default method adds that key to the dict if it is not present in the dict.\n",
    "data.setdefault(\"pakistan\")\n",
    "print(data)"
   ]
  },
  {
   "cell_type": "code",
   "execution_count": 39,
   "id": "7ba3ca26-bec6-4d64-b276-77dbac1ef9d4",
   "metadata": {},
   "outputs": [
    {
     "name": "stdout",
     "output_type": "stream",
     "text": [
      "{'Name': 'Muhammad Qasim', \"Father's Name\": 'Muhammad Aslam', 'Education': \"Master's in Datascience\", 'pakistan': None, 'india': 'empty value'}\n"
     ]
    }
   ],
   "source": [
    "#\n",
    "a : str = data.setdefault(\"india\",\"empty value\") # key and value are both are added to data dict\n",
    "print(data)"
   ]
  },
  {
   "cell_type": "code",
   "execution_count": 40,
   "id": "52b44a88-eaf5-4f04-97ac-61d0a372ba4c",
   "metadata": {},
   "outputs": [
    {
     "name": "stdout",
     "output_type": "stream",
     "text": [
      "{'name': 'M.Qasim', 'fname': 'aslam', 'education': 'masters in datascience', 'age': 30, 'height': '6 feet'}\n"
     ]
    }
   ],
   "source": [
    "# update method\n",
    "\n",
    "from typing import Dict , Union , Optional\n",
    "\n",
    "Key = Union [int,str] # create custom type\n",
    "Value = Union [int, str, list , dict , tuple , set]\n",
    "\n",
    "data : Dict [Key, Value] = {\n",
    "    \"name\":\"qasim\",\n",
    "    \"fname\":\"aslam\",\n",
    "    \"education\":\"masters in datascience\"\n",
    "}\n",
    "\n",
    "data1 : Dict[Key,Value] = {\n",
    "    \"name\":\"M.Qasim\",\n",
    "    \"age\": 30,\n",
    "    \"height\": \"6 feet\"\n",
    "}\n",
    "\n",
    "data.update(data1) # data is updated with data1 dict.\n",
    "print(data)"
   ]
  },
  {
   "cell_type": "code",
   "execution_count": 41,
   "id": "feba3f8c-5f81-4ce9-98ec-531b86e6fb9a",
   "metadata": {},
   "outputs": [
    {
     "data": {
      "text/html": [
       "<div>\n",
       "<style scoped>\n",
       "    .dataframe tbody tr th:only-of-type {\n",
       "        vertical-align: middle;\n",
       "    }\n",
       "\n",
       "    .dataframe tbody tr th {\n",
       "        vertical-align: top;\n",
       "    }\n",
       "\n",
       "    .dataframe thead th {\n",
       "        text-align: right;\n",
       "    }\n",
       "</style>\n",
       "<table border=\"1\" class=\"dataframe\">\n",
       "  <thead>\n",
       "    <tr style=\"text-align: right;\">\n",
       "      <th></th>\n",
       "      <th>Roll No</th>\n",
       "      <th>Name</th>\n",
       "      <th>Education</th>\n",
       "    </tr>\n",
       "  </thead>\n",
       "  <tbody>\n",
       "    <tr>\n",
       "      <th>0</th>\n",
       "      <td>1</td>\n",
       "      <td>Sir Zia</td>\n",
       "      <td>Master</td>\n",
       "    </tr>\n",
       "    <tr>\n",
       "      <th>1</th>\n",
       "      <td>2</td>\n",
       "      <td>Sir Inam</td>\n",
       "      <td>Master</td>\n",
       "    </tr>\n",
       "    <tr>\n",
       "      <th>2</th>\n",
       "      <td>3</td>\n",
       "      <td>Muhammad Qasim</td>\n",
       "      <td>Master</td>\n",
       "    </tr>\n",
       "  </tbody>\n",
       "</table>\n",
       "</div>"
      ],
      "text/plain": [
       "   Roll No            Name Education\n",
       "0        1         Sir Zia    Master\n",
       "1        2        Sir Inam    Master\n",
       "2        3  Muhammad Qasim    Master"
      ]
     },
     "execution_count": 41,
     "metadata": {},
     "output_type": "execute_result"
    }
   ],
   "source": [
    "#\n",
    "\n",
    "import pandas as pd\n",
    "from typing import Any\n",
    "\n",
    "students_data : Dict[str, list[Any]] = {\n",
    "    \"Roll No\" : [1,2,3],\n",
    "    \"Name\": [\"Sir Zia\",\"Sir Inam\",\"Muhammad Qasim\"],\n",
    "    \"Education\" : [\"Master\",\"Master\",\"Master\"]\n",
    "} \n",
    "\n",
    "df : pd.DataFrame = pd.DataFrame(students_data)\n",
    "df"
   ]
  },
  {
   "cell_type": "code",
   "execution_count": 42,
   "id": "324c3cdc-5fb0-429b-b934-d5fe0e6b8b1e",
   "metadata": {},
   "outputs": [],
   "source": [
    "# dict is used in structured data."
   ]
  },
  {
   "cell_type": "code",
   "execution_count": 43,
   "id": "754a9d7e-b5c9-4d7f-aae9-89585750a1f1",
   "metadata": {},
   "outputs": [
    {
     "name": "stdout",
     "output_type": "stream",
     "text": [
      "green\n",
      "5\n"
     ]
    }
   ],
   "source": [
    "alien_0 = {\"colour\": \"green\", \"points\": 5}\n",
    "print(alien_0[\"colour\"])\n",
    "print(alien_0[\"points\"])"
   ]
  },
  {
   "cell_type": "code",
   "execution_count": 44,
   "id": "920a01cb-e196-4010-bcc3-fcbcf1839f08",
   "metadata": {},
   "outputs": [
    {
     "data": {
      "text/plain": [
       "{'colour': 'green'}"
      ]
     },
     "execution_count": 44,
     "metadata": {},
     "output_type": "execute_result"
    }
   ],
   "source": [
    "#\n",
    "alien_0 = {\"colur\":\"green\",\"points\":5}\n",
    "alien_0= {\"colour\":\"green\"}\n",
    "alien_0 # the first dict has been over rided"
   ]
  },
  {
   "cell_type": "code",
   "execution_count": 45,
   "id": "361869c9-5496-481d-b2c9-2b33e4444846",
   "metadata": {},
   "outputs": [
    {
     "name": "stdout",
     "output_type": "stream",
     "text": [
      "You just earned 5 points !\n"
     ]
    }
   ],
   "source": [
    "#\n",
    "# accessing values in a dict.\n",
    "alien_0 = {\"colour\": \"green\", \"points\": 5}\n",
    "new_points = alien_0[\"points\"]\n",
    "print(f\"You just earned {new_points} points !\")"
   ]
  },
  {
   "cell_type": "code",
   "execution_count": 46,
   "id": "e39afeae-ef7f-446d-90d4-ae75196df5c5",
   "metadata": {},
   "outputs": [
    {
     "name": "stdout",
     "output_type": "stream",
     "text": [
      "{'colour': 'green', 'points': 5}\n",
      "{'colour': 'green', 'points': 5, 'x_position': 0, 'y_position': 25}\n"
     ]
    }
   ],
   "source": [
    "#\n",
    "# adding new key-vlaue pairs\n",
    "\n",
    "alien_0 = {\"colour\": \"green\", \"points\": 5}\n",
    "print(alien_0)\n",
    "\n",
    "alien_0[\"x_position\"] = 0\n",
    "alien_0[\"y_position\"] = 25\n",
    "\n",
    "print(alien_0)"
   ]
  },
  {
   "cell_type": "code",
   "execution_count": 47,
   "id": "013789e1-0882-4879-b4b3-91839605958d",
   "metadata": {},
   "outputs": [
    {
     "name": "stdout",
     "output_type": "stream",
     "text": [
      "{'colour': 'green', 'points': 5}\n"
     ]
    }
   ],
   "source": [
    "#\n",
    "\n",
    "alien_0 = {}\n",
    "\n",
    "alien_0[\"colour\"] = \"green\"\n",
    "alien_0[\"points\"] = 5\n",
    "\n",
    "print(alien_0)"
   ]
  },
  {
   "cell_type": "code",
   "execution_count": 48,
   "id": "91686516-48fe-45ff-8f74-7626ff2c0c77",
   "metadata": {},
   "outputs": [
    {
     "name": "stdout",
     "output_type": "stream",
     "text": [
      "The alien is green .\n",
      "The alien is now yellow\n"
     ]
    }
   ],
   "source": [
    "#\n",
    "# modifying values in a dict\n",
    "alien_0 = {\"colour\": \"green\"}\n",
    "print(f\"The alien is {alien_0['colour']} .\") # there should not be error\n",
    "\n",
    "alien_0[\"colour\"] = \"yellow\"\n",
    "\n",
    "print( f\"The alien is now {alien_0['colour']}\")\n",
    "\n",
    "\n",
    "#        control , slash      for commenting lines"
   ]
  },
  {
   "cell_type": "code",
   "execution_count": 49,
   "id": "c6b60dfc-1fcc-4d09-9908-a04fbc9c0019",
   "metadata": {},
   "outputs": [
    {
     "name": "stdout",
     "output_type": "stream",
     "text": [
      "The original position : 0\n",
      "New position : 2\n"
     ]
    }
   ],
   "source": [
    "#\n",
    "\n",
    "alien_0 = {\"x_position\": 0 , \"y_position\": 25 , \"speed\": \"medium\"}  # cannot use double quotes within the f-string\n",
    "\n",
    "print(f\"The original position : {alien_0['x_position']}\")\n",
    "\n",
    "# alien_0[\"speed\"] = \"fast\"      if we remove this line of code from comments then increment will be 3\n",
    "\n",
    "# move the alien to the right.\n",
    "# determine how far to move the alien to the right based on its current speed.\n",
    "\n",
    "if alien_0[\"speed\"]==\"slow\":\n",
    "    x_increment = 1\n",
    "elif alien_0[\"speed\"]==\"medium\":\n",
    "    x_increment = 2\n",
    "else:\n",
    "    x_increment = 3    # this must be a fast alien\n",
    "\n",
    "        \n",
    "#The new position is the old position plus the increment.\n",
    "    \n",
    "alien_0[\"x_position\"] = alien_0[\"x_position\"] + x_increment\n",
    "# or alien_0[\"x_position\"] += x_increment\n",
    "\n",
    "print(f\"New position : {alien_0['x_position']}\") \n"
   ]
  },
  {
   "cell_type": "code",
   "execution_count": 50,
   "id": "8d5da2d4-3033-4833-b3fe-9a8c4cbd4812",
   "metadata": {},
   "outputs": [
    {
     "name": "stdout",
     "output_type": "stream",
     "text": [
      "{'colour': 'green', 'points': 5}\n",
      "{'colour': 'green'}\n"
     ]
    }
   ],
   "source": [
    "# \n",
    "# removing key-value pairs\n",
    "alien_0 = {\"colour\": \"green\", \"points\": 5}\n",
    "print(alien_0)\n",
    "\n",
    "del alien_0[\"points\"]\n",
    "print(alien_0)"
   ]
  },
  {
   "cell_type": "code",
   "execution_count": 51,
   "id": "4869cf4a-951a-48f9-a598-f573c97e1053",
   "metadata": {},
   "outputs": [],
   "source": [
    "#\n",
    "# dictionary can be used in structure form/data by using with panda"
   ]
  },
  {
   "cell_type": "code",
   "execution_count": 52,
   "id": "c88b8dad-2369-4b7d-8818-3ca80cdc2987",
   "metadata": {},
   "outputs": [
    {
     "name": "stdout",
     "output_type": "stream",
     "text": [
      "{\"Father's Name\": 'Muhammad Aslam', 'Name': 'M.Qasim', 'Education': 'MSDS'}\n"
     ]
    }
   ],
   "source": [
    "#\n",
    "Key = Union[int,str]\n",
    "Value = Union[int,str,list,dict,tuple,set]\n",
    "\n",
    "data : Dict[Key,Value] = {\n",
    "    \"Father's Name\": \"Muhammad Aslam\",\n",
    "    \"Name\":\"Muhammad Qasim\",\n",
    "    \"Education\": \"MSDS\",\n",
    "    \"Name\": \"M.Qasim\"\n",
    "} \n",
    "# there are two keys named 'name'. which onw will print?\n",
    "print(data)"
   ]
  },
  {
   "cell_type": "code",
   "execution_count": 53,
   "id": "5ac44237-c267-4c39-b142-d21e3ec8478f",
   "metadata": {},
   "outputs": [
    {
     "name": "stdout",
     "output_type": "stream",
     "text": [
      "Sarah's favourite language is C.\n"
     ]
    }
   ],
   "source": [
    "#\n",
    "favourite_languages = {\n",
    "    \"jen\": \"python\",\n",
    "    \"sarah\": \"c\",\n",
    "    \"edward\": \"rust\",\n",
    "    \"phil\": \"python\"\n",
    "}\n",
    "\n",
    "language = favourite_languages[\"sarah\"].title()\n",
    "\n",
    "print(f\"Sarah's favourite language is {language}.\")"
   ]
  },
  {
   "cell_type": "code",
   "execution_count": 54,
   "id": "beaf58bf-7503-4268-9418-647c90ac3a99",
   "metadata": {},
   "outputs": [
    {
     "data": {
      "text/plain": [
       "'green'"
      ]
     },
     "execution_count": 54,
     "metadata": {},
     "output_type": "execute_result"
    }
   ],
   "source": [
    "# \n",
    "# get() method\n",
    "\n",
    "alien_0 = {\"colour\": \"green\", \"speed\":\"slow\"}\n",
    "\n",
    "alien_0[\"colour\"]"
   ]
  },
  {
   "cell_type": "code",
   "execution_count": 55,
   "id": "b8e699d5-90fb-4033-b5cc-8adabf74a4e9",
   "metadata": {},
   "outputs": [
    {
     "ename": "KeyError",
     "evalue": "'race'",
     "output_type": "error",
     "traceback": [
      "\u001b[1;31m---------------------------------------------------------------------------\u001b[0m",
      "\u001b[1;31mKeyError\u001b[0m                                  Traceback (most recent call last)",
      "Cell \u001b[1;32mIn[55], line 1\u001b[0m\n\u001b[1;32m----> 1\u001b[0m alien_0[\u001b[38;5;124m\"\u001b[39m\u001b[38;5;124mrace\u001b[39m\u001b[38;5;124m\"\u001b[39m]\n",
      "\u001b[1;31mKeyError\u001b[0m: 'race'"
     ]
    }
   ],
   "source": [
    "alien_0[\"race\"] # error"
   ]
  },
  {
   "cell_type": "code",
   "execution_count": 56,
   "id": "3ac00689-53e7-42a9-b0a9-cea57991be64",
   "metadata": {},
   "outputs": [
    {
     "data": {
      "text/plain": [
       "'green'"
      ]
     },
     "execution_count": 56,
     "metadata": {},
     "output_type": "execute_result"
    }
   ],
   "source": [
    " alien_0.get(\"colour\")"
   ]
  },
  {
   "cell_type": "code",
   "execution_count": 60,
   "id": "ef863fe0-23e6-41af-8e8f-ca9d1b95fdf1",
   "metadata": {},
   "outputs": [],
   "source": [
    "alien_0.get(\"points\")"
   ]
  },
  {
   "cell_type": "code",
   "execution_count": 61,
   "id": "158e7adc-227d-4a06-a186-0516af11cc7b",
   "metadata": {},
   "outputs": [
    {
     "data": {
      "text/plain": [
       "'No points value assigned.'"
      ]
     },
     "execution_count": 61,
     "metadata": {},
     "output_type": "execute_result"
    }
   ],
   "source": [
    "alien_0.get(\"points\",\"No points value assigned.\") # using the get() method here"
   ]
  },
  {
   "cell_type": "code",
   "execution_count": 62,
   "id": "1d21e862-b3e4-417f-ae12-93c35bf9d575",
   "metadata": {},
   "outputs": [
    {
     "name": "stdout",
     "output_type": "stream",
     "text": [
      "Key : username\n",
      "Value : efermi\n",
      "Key : first\n",
      "Value : enrico\n",
      "Key : fermi\n",
      "Value : paradox\n"
     ]
    }
   ],
   "source": [
    "# looping through key value pairs\n",
    "user_0 = {\n",
    "    \"username\": \"efermi\",\n",
    "    \"first\":\"enrico\",\n",
    "    \"fermi\" : \"paradox\"\n",
    "}\n",
    "\n",
    "for key,value in user_0.items():\n",
    "    print(f\"Key : {key}\")\n",
    "    print(f\"Value : {value}\")"
   ]
  },
  {
   "cell_type": "code",
   "execution_count": 63,
   "id": "79a46181-598a-4f34-97ed-b1e9618e19bf",
   "metadata": {},
   "outputs": [
    {
     "ename": "SyntaxError",
     "evalue": "expected ':' (713026175.py, line 1)",
     "output_type": "error",
     "traceback": [
      "\u001b[1;36m  Cell \u001b[1;32mIn[63], line 1\u001b[1;36m\u001b[0m\n\u001b[1;33m    for k,v in user_0.items()\u001b[0m\n\u001b[1;37m                             ^\u001b[0m\n\u001b[1;31mSyntaxError\u001b[0m\u001b[1;31m:\u001b[0m expected ':'\n"
     ]
    }
   ],
   "source": [
    "for k,v in user_0.items()"
   ]
  },
  {
   "cell_type": "code",
   "execution_count": 64,
   "id": "0b6675a4-dff4-4f1a-be01-592dfe088747",
   "metadata": {},
   "outputs": [
    {
     "name": "stdout",
     "output_type": "stream",
     "text": [
      "Jen's favourite language is Python.\n",
      "Sarah's favourite language is C.\n",
      "Edward's favourite language is Rust.\n",
      "Phil's favourite language is Python.\n"
     ]
    }
   ],
   "source": [
    "#\n",
    "favourite_languages = {\n",
    "    \"jen\": \"python\",\n",
    "    \"sarah\": \"c\",\n",
    "    \"edward\": \"rust\",\n",
    "    \"phil\": \"python\"\n",
    "}\n",
    "\n",
    "for name,language in favourite_languages .items():\n",
    "    print(f\"{name.title()}'s favourite language is {language.title()}.\")\n"
   ]
  },
  {
   "cell_type": "code",
   "execution_count": 65,
   "id": "1a12e55d-4577-4afd-a40e-ab14fcf65b6f",
   "metadata": {},
   "outputs": [
    {
     "name": "stdout",
     "output_type": "stream",
     "text": [
      "Jen\n",
      "Sarah\n",
      "Edward\n",
      "Phil\n"
     ]
    }
   ],
   "source": [
    "for name in favourite_languages.keys():\n",
    "    print(name.title())"
   ]
  },
  {
   "cell_type": "code",
   "execution_count": 66,
   "id": "6f2840c3-1023-45e2-8043-2d901ea02e50",
   "metadata": {},
   "outputs": [
    {
     "name": "stdout",
     "output_type": "stream",
     "text": [
      "jen\n",
      "sarah\n",
      "edward\n",
      "phil\n"
     ]
    }
   ],
   "source": [
    "for language in favourite_languages:\n",
    "    print(language)"
   ]
  },
  {
   "cell_type": "code",
   "execution_count": 67,
   "id": "e8692821-e56d-4d45-9970-321dc293fc44",
   "metadata": {},
   "outputs": [
    {
     "name": "stdout",
     "output_type": "stream",
     "text": [
      "jen\n",
      "sarah\n",
      "edward\n",
      "phil\n"
     ]
    }
   ],
   "source": [
    "for name in favourite_languages:\n",
    "    print(name)"
   ]
  },
  {
   "cell_type": "code",
   "execution_count": 68,
   "id": "0571a5d0-94e6-4b3c-8ab4-825770c5ad11",
   "metadata": {},
   "outputs": [
    {
     "name": "stdout",
     "output_type": "stream",
     "text": [
      "python\n",
      "c\n",
      "rust\n",
      "python\n"
     ]
    }
   ],
   "source": [
    "for name in favourite_languages.values():\n",
    "    print(name)"
   ]
  },
  {
   "cell_type": "code",
   "execution_count": 69,
   "id": "a8388dfa-280b-4520-825a-4495bf2b25af",
   "metadata": {},
   "outputs": [
    {
     "name": "stdout",
     "output_type": "stream",
     "text": [
      "python\n",
      "c\n",
      "rust\n",
      "python\n"
     ]
    }
   ],
   "source": [
    "for language in favourite_languages.values():\n",
    "    print(language)"
   ]
  },
  {
   "cell_type": "code",
   "execution_count": 70,
   "id": "9ec6f592-ae7f-4866-a940-f949b44a55d6",
   "metadata": {},
   "outputs": [
    {
     "name": "stdout",
     "output_type": "stream",
     "text": [
      "Hi Jen.\n",
      "Hi Sarah.\n",
      "\tSarah , I see you love C!\n",
      "Hi Edward.\n",
      "Hi Phil.\n",
      "\tPhil , I see you love Python!\n"
     ]
    }
   ],
   "source": [
    "#\n",
    "\n",
    "favourite_languages = {\n",
    "    \"jen\":\"python\",\n",
    "    \"sarah\": \"c\",\n",
    "    \"edward\": \"rust\",\n",
    "    \"phil\": \"python\"\n",
    "}\n",
    "\n",
    "friends = [\"phil\",\"sarah\"]\n",
    "\n",
    "for name in favourite_languages.keys():\n",
    "    print(f\"Hi {name.title()}.\")\n",
    "    \n",
    "    if name in friends:\n",
    "        language = favourite_languages[name].title()\n",
    "        print(f\"\\t{name.title()} , I see you love {language}!\")\n",
    "\n",
    "    "
   ]
  },
  {
   "cell_type": "code",
   "execution_count": 71,
   "id": "07995e78-eeee-4ae5-b919-083ec57350e4",
   "metadata": {},
   "outputs": [
    {
     "name": "stdout",
     "output_type": "stream",
     "text": [
      "Erin , please take our poll!\n"
     ]
    }
   ],
   "source": [
    "if \"erin\" not in favourite_languages.keys():\n",
    "    print(\"Erin , please take our poll!\")"
   ]
  },
  {
   "cell_type": "code",
   "execution_count": 72,
   "id": "82c7edb6-9e1e-4e33-a150-7f51573a7912",
   "metadata": {},
   "outputs": [
    {
     "data": {
      "text/plain": [
       "dict_keys(['jen', 'sarah', 'edward', 'phil'])"
      ]
     },
     "execution_count": 72,
     "metadata": {},
     "output_type": "execute_result"
    }
   ],
   "source": [
    "# ex\n",
    "favourite_languages.keys()"
   ]
  },
  {
   "cell_type": "code",
   "execution_count": 73,
   "id": "54cf4173-eeff-4cce-9609-b8e8c9a05de1",
   "metadata": {},
   "outputs": [
    {
     "data": {
      "text/plain": [
       "True"
      ]
     },
     "execution_count": 73,
     "metadata": {},
     "output_type": "execute_result"
    }
   ],
   "source": [
    "# ex\n",
    "\"erin\" not in favourite_languages"
   ]
  },
  {
   "cell_type": "code",
   "execution_count": 74,
   "id": "e4913cbf-25ee-4f48-be85-58bc520f18b2",
   "metadata": {},
   "outputs": [
    {
     "data": {
      "text/plain": [
       "True"
      ]
     },
     "execution_count": 74,
     "metadata": {},
     "output_type": "execute_result"
    }
   ],
   "source": [
    "\"Qasim\" in \"\"\" My name is Muhammad Qasim , I'm working as Chief Data Scientist !  \"\"\"   # content searching.(in string)"
   ]
  },
  {
   "cell_type": "code",
   "execution_count": 75,
   "id": "f4d7e5bf-7657-462e-933d-3c2d5f2011fc",
   "metadata": {},
   "outputs": [
    {
     "name": "stdout",
     "output_type": "stream",
     "text": [
      "Edward , thank you for taking the poll.\n",
      "Jen , thank you for taking the poll.\n",
      "Phil , thank you for taking the poll.\n",
      "Sarah , thank you for taking the poll.\n"
     ]
    }
   ],
   "source": [
    "#\n",
    "# looping through keys in a dictionary\n",
    "\n",
    "favourite_languages = {\n",
    "    \"jen\": \"python\",\n",
    "    \"sarah\" : \"c\",\n",
    "    \"edward\": \"rust\",\n",
    "    \"phil\" : \"python\"\n",
    "}\n",
    "\n",
    "for name in sorted(favourite_languages.keys()):\n",
    "    print(f\"{name.title()} , thank you for taking the poll.\")"
   ]
  },
  {
   "cell_type": "code",
   "execution_count": 76,
   "id": "962eac67-3ac9-49a9-9860-93496a57a83b",
   "metadata": {},
   "outputs": [
    {
     "name": "stdout",
     "output_type": "stream",
     "text": [
      "The following languages have been mentioned : \n",
      "Python\n",
      "C\n",
      "Rust\n",
      "Python\n"
     ]
    }
   ],
   "source": [
    "#\n",
    "# looping through values in a dictionary\n",
    "\n",
    "favourite_languages = {\n",
    "    \"jen\": \"python\",\n",
    "    \"sarah\": \"c\",\n",
    "    \"edward\" : \"rust\",\n",
    "    \"phil\" : \"python\"\n",
    "}\n",
    "\n",
    "print(\"The following languages have been mentioned : \")\n",
    "for language in favourite_languages.values():\n",
    "    print(language.title())"
   ]
  },
  {
   "cell_type": "code",
   "execution_count": 77,
   "id": "b36326dc-e222-40a0-a1dc-c6705f9d39e7",
   "metadata": {},
   "outputs": [
    {
     "name": "stdout",
     "output_type": "stream",
     "text": [
      "The following languages have been mentioned : \n",
      "Rust\n",
      "C\n",
      "Python\n"
     ]
    }
   ],
   "source": [
    "#\n",
    "favourite_languages = {\n",
    "    \"jen\" : \"python\",\n",
    "    \"sarah\": \"c\",\n",
    "    \"edward\" : \"rust\",\n",
    "    \"phil\" : \"python\"\n",
    "}\n",
    "\n",
    "print(\"The following languages have been mentioned : \" )\n",
    "for language in set(favourite_languages.values()):              # same as above program, only this line extra.  the set method stops from repeating values , here python.\n",
    "    print(language.title())"
   ]
  },
  {
   "cell_type": "code",
   "execution_count": 78,
   "id": "b2f25de3-4a52-4e7f-94d7-dc7e9c31ef80",
   "metadata": {},
   "outputs": [
    {
     "data": {
      "text/plain": [
       "{'c', 'python', 'rust'}"
      ]
     },
     "execution_count": 78,
     "metadata": {},
     "output_type": "execute_result"
    }
   ],
   "source": [
    "#\n",
    "# set\n",
    "languages = {\"python\", \"rust\", \"c\" , \"python\"}   # or make set\n",
    "languages"
   ]
  },
  {
   "cell_type": "code",
   "execution_count": 79,
   "id": "6f6a7cac-da95-4759-a57c-84a52fb20e23",
   "metadata": {},
   "outputs": [
    {
     "name": "stdout",
     "output_type": "stream",
     "text": [
      "{'colour': 'green', 'points': 5}\n",
      "{'colour': 'yellow', 'points': 10}\n",
      "{'colour': 'red', 'points': 15}\n"
     ]
    }
   ],
   "source": [
    "# \n",
    "# nesting   a list of dictionaries\n",
    "\n",
    "alien_0 : dict[Key,Value] = {\"colour\" : \"green\" , \"points\": 5}\n",
    "alien_1 : dict[Key,Value] = {\"colour\": \"yellow\" , \"points\" : 10}\n",
    "alien_2 : dict[Key, Value] = {\"colour\": \"red\" , \"points\": 15}\n",
    "\n",
    "aliens : list[Dict[str,str]] = [alien_0,alien_1,alien_2] # list of dictionaries, json\n",
    "\n",
    "for alien in aliens:\n",
    "    print(alien)"
   ]
  },
  {
   "cell_type": "code",
   "execution_count": 100,
   "id": "318a1320-776b-4b5e-9b05-ec51f4623933",
   "metadata": {},
   "outputs": [
    {
     "name": "stdout",
     "output_type": "stream",
     "text": [
      "{'colour': 'green', 'points': 5, 'speed': 'slow'}\n",
      "{'colour': 'green', 'points': 5, 'speed': 'slow'}\n",
      "{'colour': 'green', 'points': 5, 'speed': 'slow'}\n",
      "{'colour': 'green', 'points': 5, 'speed': 'slow'}\n",
      "{'colour': 'green', 'points': 5, 'speed': 'slow'}\n",
      "...\n",
      "Total number of aliens: 30\n",
      "\n",
      "\n",
      "\n",
      " [{'colour': 'green', 'points': 5, 'speed': 'slow'}, {'colour': 'green', 'points': 5, 'speed': 'slow'}, {'colour': 'green', 'points': 5, 'speed': 'slow'}, {'colour': 'green', 'points': 5, 'speed': 'slow'}, {'colour': 'green', 'points': 5, 'speed': 'slow'}, {'colour': 'green', 'points': 5, 'speed': 'slow'}, {'colour': 'green', 'points': 5, 'speed': 'slow'}, {'colour': 'green', 'points': 5, 'speed': 'slow'}, {'colour': 'green', 'points': 5, 'speed': 'slow'}, {'colour': 'green', 'points': 5, 'speed': 'slow'}, {'colour': 'green', 'points': 5, 'speed': 'slow'}, {'colour': 'green', 'points': 5, 'speed': 'slow'}, {'colour': 'green', 'points': 5, 'speed': 'slow'}, {'colour': 'green', 'points': 5, 'speed': 'slow'}, {'colour': 'green', 'points': 5, 'speed': 'slow'}, {'colour': 'green', 'points': 5, 'speed': 'slow'}, {'colour': 'green', 'points': 5, 'speed': 'slow'}, {'colour': 'green', 'points': 5, 'speed': 'slow'}, {'colour': 'green', 'points': 5, 'speed': 'slow'}, {'colour': 'green', 'points': 5, 'speed': 'slow'}, {'colour': 'green', 'points': 5, 'speed': 'slow'}, {'colour': 'green', 'points': 5, 'speed': 'slow'}, {'colour': 'green', 'points': 5, 'speed': 'slow'}, {'colour': 'green', 'points': 5, 'speed': 'slow'}, {'colour': 'green', 'points': 5, 'speed': 'slow'}, {'colour': 'green', 'points': 5, 'speed': 'slow'}, {'colour': 'green', 'points': 5, 'speed': 'slow'}, {'colour': 'green', 'points': 5, 'speed': 'slow'}, {'colour': 'green', 'points': 5, 'speed': 'slow'}, {'colour': 'green', 'points': 5, 'speed': 'slow'}]\n"
     ]
    }
   ],
   "source": [
    "#\n",
    "# Make an empty list for storing aliens\n",
    "aliens : list[Dict[str,str]] = []\n",
    "\n",
    "# Make 30 green aliens\n",
    "for alien_number in range(30):\n",
    "    new_alien = {\"colour\": \"green\", \"points\": 5, \"speed\": \"slow\"}\n",
    "    aliens.append(new_alien)\n",
    "\n",
    "# Show the first five aliens\n",
    "for alien in aliens[:5]:\n",
    "    print(alien)\n",
    "\n",
    "print(\"...\")\n",
    "\n",
    "# Show how many aliens have been created.\n",
    "print(f\"Total number of aliens: {len(aliens)}\")\n",
    "\n",
    "print(\"\\n\\n\\n\" , aliens)"
   ]
  },
  {
   "cell_type": "code",
   "execution_count": 98,
   "id": "0d32611a-8744-414f-ab8e-e11e7ed66793",
   "metadata": {},
   "outputs": [
    {
     "name": "stdout",
     "output_type": "stream",
     "text": [
      "{'colour': 'yellow', 'points': 10, 'speed': 'medium'}\n",
      "{'colour': 'yellow', 'points': 10, 'speed': 'medium'}\n",
      "{'colour': 'yellow', 'points': 10, 'speed': 'medium'}\n",
      "{'colour': 'green', 'points': 5, 'speed': 'slow'}\n",
      "{'colour': 'green', 'points': 5, 'speed': 'slow'}\n"
     ]
    }
   ],
   "source": [
    "#\n",
    "# Make an empty list for storing aliens\n",
    "aliens : list[Dict[str,str]] = []\n",
    "\n",
    "# Make  30 green aliens\n",
    "for alien_number in range(30):\n",
    "    new_alien = {\"colour\" : \"green\", \"points\": 5, \"speed\": \"slow\"}\n",
    "    aliens.append(new_alien)\n",
    "\n",
    " # new block, rest of program is same as previous program\n",
    "for alien in aliens[:3]:\n",
    "    if alien[\"colour\"] == \"green\":\n",
    "        alien[\"colour\"] = \"yellow\"\n",
    "        alien[\"points\"] = 10\n",
    "        alien[\"speed\"] = \"medium\"\n",
    "\n",
    "# Show first five aliens\n",
    "for alien in aliens[:5]:\n",
    "    print(alien)\n",
    "\n",
    "\n"
   ]
  },
  {
   "cell_type": "code",
   "execution_count": 93,
   "id": "50f96edd-c344-4774-a33c-5a5cdf7f408b",
   "metadata": {},
   "outputs": [
    {
     "name": "stdout",
     "output_type": "stream",
     "text": [
      "[{'colour': 'yellow', 'points': 10, 'speed': 'medium'}, {'colour': 'yellow', 'points': 10, 'speed': 'medium'}, {'colour': 'yellow', 'points': 10, 'speed': 'medium'}, {'colour': 'green', 'points': 5, 'speed': 'slow'}, {'colour': 'green', 'points': 5, 'speed': 'slow'}, {'colour': 'green', 'points': 5, 'speed': 'slow'}, {'colour': 'green', 'points': 5, 'speed': 'slow'}, {'colour': 'green', 'points': 5, 'speed': 'slow'}, {'colour': 'green', 'points': 5, 'speed': 'slow'}, {'colour': 'green', 'points': 5, 'speed': 'slow'}, {'colour': 'green', 'points': 5, 'speed': 'slow'}, {'colour': 'green', 'points': 5, 'speed': 'slow'}, {'colour': 'green', 'points': 5, 'speed': 'slow'}, {'colour': 'green', 'points': 5, 'speed': 'slow'}, {'colour': 'green', 'points': 5, 'speed': 'slow'}, {'colour': 'green', 'points': 5, 'speed': 'slow'}, {'colour': 'green', 'points': 5, 'speed': 'slow'}, {'colour': 'green', 'points': 5, 'speed': 'slow'}, {'colour': 'green', 'points': 5, 'speed': 'slow'}, {'colour': 'green', 'points': 5, 'speed': 'slow'}, {'colour': 'green', 'points': 5, 'speed': 'slow'}, {'colour': 'green', 'points': 5, 'speed': 'slow'}, {'colour': 'green', 'points': 5, 'speed': 'slow'}, {'colour': 'green', 'points': 5, 'speed': 'slow'}, {'colour': 'green', 'points': 5, 'speed': 'slow'}, {'colour': 'green', 'points': 5, 'speed': 'slow'}, {'colour': 'green', 'points': 5, 'speed': 'slow'}, {'colour': 'green', 'points': 5, 'speed': 'slow'}, {'colour': 'green', 'points': 5, 'speed': 'slow'}, {'colour': 'green', 'points': 5, 'speed': 'slow'}]\n"
     ]
    }
   ],
   "source": [
    "print(aliens)"
   ]
  },
  {
   "cell_type": "code",
   "execution_count": 90,
   "id": "84109939-420f-49f8-b80a-44fa3fbf0b37",
   "metadata": {},
   "outputs": [
    {
     "name": "stdout",
     "output_type": "stream",
     "text": [
      "[{'colour': 'red', 'points': 15, 'speed': 'fast'}, {'colour': 'red', 'points': 15, 'speed': 'fast'}, {'colour': 'red', 'points': 15, 'speed': 'fast'}, {'colour': 'green', 'points': 5, 'speed': 'slow'}, {'colour': 'green', 'points': 5, 'speed': 'slow'}, {'colour': 'green', 'points': 5, 'speed': 'slow'}, {'colour': 'green', 'points': 5, 'speed': 'slow'}, {'colour': 'green', 'points': 5, 'speed': 'slow'}, {'colour': 'green', 'points': 5, 'speed': 'slow'}, {'colour': 'green', 'points': 5, 'speed': 'slow'}, {'colour': 'green', 'points': 5, 'speed': 'slow'}, {'colour': 'green', 'points': 5, 'speed': 'slow'}, {'colour': 'green', 'points': 5, 'speed': 'slow'}, {'colour': 'green', 'points': 5, 'speed': 'slow'}, {'colour': 'green', 'points': 5, 'speed': 'slow'}, {'colour': 'green', 'points': 5, 'speed': 'slow'}, {'colour': 'green', 'points': 5, 'speed': 'slow'}, {'colour': 'green', 'points': 5, 'speed': 'slow'}, {'colour': 'green', 'points': 5, 'speed': 'slow'}, {'colour': 'green', 'points': 5, 'speed': 'slow'}, {'colour': 'green', 'points': 5, 'speed': 'slow'}, {'colour': 'green', 'points': 5, 'speed': 'slow'}, {'colour': 'green', 'points': 5, 'speed': 'slow'}, {'colour': 'green', 'points': 5, 'speed': 'slow'}, {'colour': 'green', 'points': 5, 'speed': 'slow'}, {'colour': 'green', 'points': 5, 'speed': 'slow'}, {'colour': 'green', 'points': 5, 'speed': 'slow'}, {'colour': 'green', 'points': 5, 'speed': 'slow'}, {'colour': 'green', 'points': 5, 'speed': 'slow'}, {'colour': 'green', 'points': 5, 'speed': 'slow'}]\n"
     ]
    }
   ],
   "source": [
    "for alien in aliens[0:3]:\n",
    "    if alien[\"colour\"] == \"green\":\n",
    "        alien[\"colour\"] = \"yellow\"\n",
    "        alien[\"speed\"] = \"medium\"\n",
    "        alien[\"points\"] = 10\n",
    "    elif alien[\"colour\"] == \"yellow\":\n",
    "        alien[\"colour\"] = \"red\"\n",
    "        alien[\"speed\"] = \"fast\"\n",
    "        alien[\"points\"] = 15\n",
    "        \n",
    "print(aliens)"
   ]
  },
  {
   "cell_type": "code",
   "execution_count": 106,
   "id": "e84e19dd-e344-43e1-96cf-db8f8e2214df",
   "metadata": {},
   "outputs": [
    {
     "name": "stdout",
     "output_type": "stream",
     "text": [
      "You ordered a thick-crust pizza with the following toppings:\n",
      "\t extra cheese\n",
      "\t mushrooms\n"
     ]
    }
   ],
   "source": [
    "#\n",
    "# dictionary in list\n",
    "# list in dictionary\n",
    "\n",
    "# Store information about a pizza being ordered\n",
    "pizza = {\"crust\" : \"thick\", \"toppings\" : [\"extra cheese\", \"mushrooms\"]}\n",
    "\n",
    "# Summariza the order\n",
    "print(f\"You ordered a {pizza['crust']}-crust pizza \"   \"with the following toppings:\")\n",
    "for topping in pizza[\"toppings\"]:\n",
    "    print(\"\\t\",topping)"
   ]
  },
  {
   "cell_type": "code",
   "execution_count": 123,
   "id": "19114f45-efd5-4abc-b30d-73c724df3e90",
   "metadata": {},
   "outputs": [
    {
     "name": "stdout",
     "output_type": "stream",
     "text": [
      "aeinstein\n",
      "mcurie\n"
     ]
    }
   ],
   "source": [
    "#\n",
    "# dictionary in a dictionary\n",
    "\n",
    "users = {\n",
    "    \"aeinstein\": {\n",
    "        \"first\": \"einstein\",\n",
    "        \"last\" : \"albert\",\n",
    "        \"location\" : \"princeton\" ,\n",
    "    } ,\n",
    "\n",
    "    \"mcurie\" : {\n",
    "    \"first\" : \"marie\",\n",
    "    \"last\" : \"curie\",\n",
    "    \"location\" : \"paris\"\n",
    "    } ,\n",
    "    \n",
    "}\n",
    "\n",
    "for user in users:\n",
    "    print(user)\n",
    "\n"
   ]
  },
  {
   "cell_type": "code",
   "execution_count": 124,
   "id": "7ff3d036-8e03-4881-a6f9-b97120153de2",
   "metadata": {},
   "outputs": [
    {
     "name": "stdout",
     "output_type": "stream",
     "text": [
      "aeinstein {'first': 'einstein', 'last': 'albert', 'location': 'princeton'}\n",
      "mcurie {'first': 'marie', 'last': 'curie', 'location': 'paris'}\n"
     ]
    }
   ],
   "source": [
    "for user, user_info in users.items():\n",
    "    print( user,user_info)"
   ]
  },
  {
   "cell_type": "code",
   "execution_count": 134,
   "id": "bad5c616-1273-4c93-8b5e-c3541e9a0466",
   "metadata": {},
   "outputs": [
    {
     "name": "stdout",
     "output_type": "stream",
     "text": [
      "\n",
      "Username : aeinstein\n",
      "\t Full Name : Einstein Albert\n",
      "\t Location : Princeton \n",
      "\n",
      "Username : mcurie\n",
      "\t Full Name : Marie Curie\n",
      "\t Location : Paris \n"
     ]
    }
   ],
   "source": [
    "for username, user_info in users.items():\n",
    "    print(f\"\\nUsername : {username}\")\n",
    "    full_name = f\"{user_info[ 'first']} {user_info['last']}\"  \n",
    "    location = user_info[\"location\"]\n",
    "\n",
    "    \n",
    "    print(f\"\\t Full Name : {full_name.title()}\")\n",
    "    print(f\"\\t Location : {location.title()} \")\n",
    "\n",
    "\n",
    "\n",
    "\n"
   ]
  },
  {
   "cell_type": "code",
   "execution_count": 140,
   "id": "4f033481-0253-4a99-811f-f8496041aec5",
   "metadata": {},
   "outputs": [
    {
     "name": "stdout",
     "output_type": "stream",
     "text": [
      "{'fname': 'Muhammad Aslam', 'name': 'Muhammad Qasim', 'education': 'MSDS'}\n",
      "<class 'dict'>\n"
     ]
    },
    {
     "ename": "AttributeError",
     "evalue": "'dict' object has no attribute 'read'",
     "output_type": "error",
     "traceback": [
      "\u001b[1;31m---------------------------------------------------------------------------\u001b[0m",
      "\u001b[1;31mAttributeError\u001b[0m                            Traceback (most recent call last)",
      "Cell \u001b[1;32mIn[140], line 18\u001b[0m\n\u001b[0;32m     16\u001b[0m \u001b[38;5;28;01mimport\u001b[39;00m \u001b[38;5;21;01mjson\u001b[39;00m\n\u001b[0;32m     17\u001b[0m \u001b[38;5;66;03m# json.load(data)\u001b[39;00m\n\u001b[1;32m---> 18\u001b[0m data1 \u001b[38;5;241m=\u001b[39m json\u001b[38;5;241m.\u001b[39mload(data)\n",
      "File \u001b[1;32m~\\anaconda3\\Lib\\json\\__init__.py:293\u001b[0m, in \u001b[0;36mload\u001b[1;34m(fp, cls, object_hook, parse_float, parse_int, parse_constant, object_pairs_hook, **kw)\u001b[0m\n\u001b[0;32m    274\u001b[0m \u001b[38;5;28;01mdef\u001b[39;00m \u001b[38;5;21mload\u001b[39m(fp, \u001b[38;5;241m*\u001b[39m, \u001b[38;5;28mcls\u001b[39m\u001b[38;5;241m=\u001b[39m\u001b[38;5;28;01mNone\u001b[39;00m, object_hook\u001b[38;5;241m=\u001b[39m\u001b[38;5;28;01mNone\u001b[39;00m, parse_float\u001b[38;5;241m=\u001b[39m\u001b[38;5;28;01mNone\u001b[39;00m,\n\u001b[0;32m    275\u001b[0m         parse_int\u001b[38;5;241m=\u001b[39m\u001b[38;5;28;01mNone\u001b[39;00m, parse_constant\u001b[38;5;241m=\u001b[39m\u001b[38;5;28;01mNone\u001b[39;00m, object_pairs_hook\u001b[38;5;241m=\u001b[39m\u001b[38;5;28;01mNone\u001b[39;00m, \u001b[38;5;241m*\u001b[39m\u001b[38;5;241m*\u001b[39mkw):\n\u001b[0;32m    276\u001b[0m \u001b[38;5;250m    \u001b[39m\u001b[38;5;124;03m\"\"\"Deserialize ``fp`` (a ``.read()``-supporting file-like object containing\u001b[39;00m\n\u001b[0;32m    277\u001b[0m \u001b[38;5;124;03m    a JSON document) to a Python object.\u001b[39;00m\n\u001b[0;32m    278\u001b[0m \n\u001b[1;32m   (...)\u001b[0m\n\u001b[0;32m    291\u001b[0m \u001b[38;5;124;03m    kwarg; otherwise ``JSONDecoder`` is used.\u001b[39;00m\n\u001b[0;32m    292\u001b[0m \u001b[38;5;124;03m    \"\"\"\u001b[39;00m\n\u001b[1;32m--> 293\u001b[0m     \u001b[38;5;28;01mreturn\u001b[39;00m loads(fp\u001b[38;5;241m.\u001b[39mread(),\n\u001b[0;32m    294\u001b[0m         \u001b[38;5;28mcls\u001b[39m\u001b[38;5;241m=\u001b[39m\u001b[38;5;28mcls\u001b[39m, object_hook\u001b[38;5;241m=\u001b[39mobject_hook,\n\u001b[0;32m    295\u001b[0m         parse_float\u001b[38;5;241m=\u001b[39mparse_float, parse_int\u001b[38;5;241m=\u001b[39mparse_int,\n\u001b[0;32m    296\u001b[0m         parse_constant\u001b[38;5;241m=\u001b[39mparse_constant, object_pairs_hook\u001b[38;5;241m=\u001b[39mobject_pairs_hook, \u001b[38;5;241m*\u001b[39m\u001b[38;5;241m*\u001b[39mkw)\n",
      "\u001b[1;31mAttributeError\u001b[0m: 'dict' object has no attribute 'read'"
     ]
    }
   ],
   "source": [
    "#\n",
    "\n",
    "Key = Union [int, str , tuple, list] #  create custom type\n",
    "Value = Union [int,str, tuple, list, dict,set]\n",
    "\n",
    "data : dict[Key,Value] = {\n",
    "    \"fname\" : \"Muhammad Aslam\",\n",
    "    \"name\" : \"Muhammad Qasim\",\n",
    "    \"education\" : \"MSDS\"\n",
    "}\n",
    "\n",
    "print(data)\n",
    "print(type(data))\n",
    "\n",
    "# convert this dict 'data' to json\n",
    "import json\n",
    "# json.load(data)\n",
    "data1 = json.load(data)\n",
    "print(type(data1))\n",
    "print(data1)"
   ]
  },
  {
   "cell_type": "code",
   "execution_count": 142,
   "id": "acf4eaac-8e27-4f1a-8740-31762e0b7377",
   "metadata": {},
   "outputs": [
    {
     "name": "stdout",
     "output_type": "stream",
     "text": [
      "<class 'str'>\n",
      "{\n",
      "    \"fname\": \"Muhammad Aslam\",\n",
      "    \"name\": \"Muhammad Qasim\",\n",
      "    \"education\": \"MSDS\"\n",
      "}\n"
     ]
    }
   ],
   "source": [
    "data1 = json.dumps(data,indent=4)\n",
    "print(type(data1))\n",
    "print(data1)\n",
    "# json is lilke python"
   ]
  },
  {
   "cell_type": "code",
   "execution_count": null,
   "id": "355e32bb-8666-4cfd-84c4-5fc0eb464d8c",
   "metadata": {},
   "outputs": [],
   "source": []
  }
 ],
 "metadata": {
  "kernelspec": {
   "display_name": "Python 3 (ipykernel)",
   "language": "python",
   "name": "python3"
  },
  "language_info": {
   "codemirror_mode": {
    "name": "ipython",
    "version": 3
   },
   "file_extension": ".py",
   "mimetype": "text/x-python",
   "name": "python",
   "nbconvert_exporter": "python",
   "pygments_lexer": "ipython3",
   "version": "3.11.7"
  }
 },
 "nbformat": 4,
 "nbformat_minor": 5
}
