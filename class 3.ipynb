{
 "cells": [
  {
   "cell_type": "raw",
   "id": "50d05d8f-b35b-462c-aded-0a17725b5b71",
   "metadata": {},
   "source": [
    "03 class Python Crash Course | Operators, comments and zen of python\n",
    "\n",
    "# 2+2 , here 2 is called operand , + is called opreator and this whole expression is called operation.\n",
    "# there are different types of operator like +,- , etc."
   ]
  },
  {
   "cell_type": "code",
   "execution_count": 1,
   "id": "3e9fe1d2-b086-4eec-9cd9-2e1ed7c4d66c",
   "metadata": {},
   "outputs": [
    {
     "name": "stdout",
     "output_type": "stream",
     "text": [
      "9\n",
      "5\n",
      "14\n",
      "3.5\n"
     ]
    }
   ],
   "source": [
    "a:int =7\n",
    "b:int = 2\n",
    "print( a+b)\n",
    "print(a-b)\n",
    "print(a*b)\n",
    "print(a/b)"
   ]
  },
  {
   "cell_type": "code",
   "execution_count": 2,
   "id": "f916c848-3584-4615-aaa0-9045a407e632",
   "metadata": {},
   "outputs": [
    {
     "name": "stdout",
     "output_type": "stream",
     "text": [
      "2\n"
     ]
    }
   ],
   "source": [
    "# modulus   11/ 3 = 2. remainde is 2 .  so 11% ( modululus) 3 =2\n",
    "a:int =11\n",
    "b:int=3\n",
    "print(a%3)"
   ]
  },
  {
   "cell_type": "code",
   "execution_count": 3,
   "id": "2f5a6c06-c128-4cd5-bee3-74d743a44e9e",
   "metadata": {},
   "outputs": [
    {
     "name": "stdout",
     "output_type": "stream",
     "text": [
      "4\n",
      "8\n"
     ]
    }
   ],
   "source": [
    "# exponent\n",
    "print(2**2)\n",
    "print(2**3)"
   ]
  },
  {
   "cell_type": "code",
   "execution_count": 4,
   "id": "88ec0660-0648-4a64-b7b5-cbf0ee6f0fb4",
   "metadata": {},
   "outputs": [
    {
     "name": "stdout",
     "output_type": "stream",
     "text": [
      "4.0\n"
     ]
    }
   ],
   "source": [
    "print(12/3)"
   ]
  },
  {
   "cell_type": "code",
   "execution_count": 7,
   "id": "37df2e54-bc6f-483d-91e1-08a192c4018b",
   "metadata": {},
   "outputs": [
    {
     "name": "stdout",
     "output_type": "stream",
     "text": [
      "4.666666666666667\n",
      "4\n"
     ]
    }
   ],
   "source": [
    "# floor and ceiling\n",
    "print(14/3) \n",
    "print(14//3)"
   ]
  },
  {
   "cell_type": "code",
   "execution_count": 8,
   "id": "c8ee1e39-fad6-425a-9f4a-068221a2273d",
   "metadata": {},
   "outputs": [
    {
     "name": "stdout",
     "output_type": "stream",
     "text": [
      "4.933333333333334\n",
      "4.0\n"
     ]
    }
   ],
   "source": [
    "print(14.8/3)\n",
    "print(14.8//3)"
   ]
  },
  {
   "cell_type": "code",
   "execution_count": null,
   "id": "600fcf5e-dcd4-4b38-ba44-28250ba719db",
   "metadata": {},
   "outputs": [],
   "source": [
    "# operators from w3 schools\n",
    "# below is use of assignment operator\n",
    "a:int= 7\n",
    "b: int = 2"
   ]
  },
  {
   "cell_type": "code",
   "execution_count": 9,
   "id": "345c096c-d248-4b60-b130-f49669c7263e",
   "metadata": {},
   "outputs": [
    {
     "name": "stdout",
     "output_type": "stream",
     "text": [
      "7\n",
      "9\n"
     ]
    }
   ],
   "source": [
    "a:int=7\n",
    "print(a)\n",
    "a=a+2\n",
    "print(a)"
   ]
  },
  {
   "cell_type": "code",
   "execution_count": 10,
   "id": "ddf4a71f-5f50-400c-8d6f-aa9b962123b5",
   "metadata": {},
   "outputs": [
    {
     "name": "stdout",
     "output_type": "stream",
     "text": [
      "7\n",
      "9\n"
     ]
    }
   ],
   "source": [
    "# below is advancement of code done in above cell\n",
    "a:int=7\n",
    "print(a)\n",
    "a+=2\n",
    "print(a)\n"
   ]
  },
  {
   "cell_type": "code",
   "execution_count": 12,
   "id": "5a0e43a1-fed3-4694-8b84-b58c7862338d",
   "metadata": {},
   "outputs": [
    {
     "name": "stdout",
     "output_type": "stream",
     "text": [
      "False\n"
     ]
    }
   ],
   "source": [
    "# comparison operators\n",
    "a:int=7\n",
    "b:int=9\n",
    "print(a==b)"
   ]
  },
  {
   "cell_type": "code",
   "execution_count": 14,
   "id": "3933550b-0429-410f-ba51-5e341ea31ecb",
   "metadata": {},
   "outputs": [
    {
     "data": {
      "text/plain": [
       "True"
      ]
     },
     "execution_count": 14,
     "metadata": {},
     "output_type": "execute_result"
    }
   ],
   "source": [
    "a:int=7\n",
    "b:int=7\n",
    "a==b"
   ]
  },
  {
   "cell_type": "code",
   "execution_count": 16,
   "id": "ffe5bf67-9d4b-453a-8a5f-2b0d337388b6",
   "metadata": {},
   "outputs": [
    {
     "name": "stdout",
     "output_type": "stream",
     "text": [
      "False\n"
     ]
    }
   ],
   "source": [
    "a:int=7\n",
    "b:str='7'\n",
    "print(a==b) # in java there is ===, in python there isnt."
   ]
  },
  {
   "cell_type": "code",
   "execution_count": 17,
   "id": "089e144d-999b-424e-92a8-5ce95794b943",
   "metadata": {},
   "outputs": [
    {
     "data": {
      "text/plain": [
       "False"
      ]
     },
     "execution_count": 17,
     "metadata": {},
     "output_type": "execute_result"
    }
   ],
   "source": [
    "a:int=7\n",
    "b:int=7\n",
    "a!=b"
   ]
  },
  {
   "cell_type": "code",
   "execution_count": 18,
   "id": "3b26969f-1538-4452-8268-5abf7caf0db4",
   "metadata": {},
   "outputs": [
    {
     "data": {
      "text/plain": [
       "False"
      ]
     },
     "execution_count": 18,
     "metadata": {},
     "output_type": "execute_result"
    }
   ],
   "source": [
    "a:int=7\n",
    "b:int=8\n",
    "a>b"
   ]
  },
  {
   "cell_type": "code",
   "execution_count": 19,
   "id": "cbf572e4-2f34-42b2-abfe-d644a4a81390",
   "metadata": {},
   "outputs": [
    {
     "data": {
      "text/plain": [
       "False"
      ]
     },
     "execution_count": 19,
     "metadata": {},
     "output_type": "execute_result"
    }
   ],
   "source": [
    "a:int=2\n",
    "b:int=7\n",
    "a>=b"
   ]
  },
  {
   "cell_type": "code",
   "execution_count": 20,
   "id": "06c6e902-c6e0-4233-beec-7635d902b9bc",
   "metadata": {},
   "outputs": [
    {
     "data": {
      "text/plain": [
       "True"
      ]
     },
     "execution_count": 20,
     "metadata": {},
     "output_type": "execute_result"
    }
   ],
   "source": [
    "a:int=7\n",
    "b:int=7\n",
    "a>=b"
   ]
  },
  {
   "cell_type": "code",
   "execution_count": 21,
   "id": "01f004f2-1cfc-460f-acd3-7178248cb086",
   "metadata": {},
   "outputs": [
    {
     "ename": "SyntaxError",
     "evalue": "invalid syntax (1701944784.py, line 3)",
     "output_type": "error",
     "traceback": [
      "\u001b[1;36m  Cell \u001b[1;32mIn[21], line 3\u001b[1;36m\u001b[0m\n\u001b[1;33m    a=>b\u001b[0m\n\u001b[1;37m      ^\u001b[0m\n\u001b[1;31mSyntaxError\u001b[0m\u001b[1;31m:\u001b[0m invalid syntax\n"
     ]
    }
   ],
   "source": [
    "a:int=7\n",
    "b:int=7\n",
    "a=>b #invalid syntax"
   ]
  },
  {
   "cell_type": "raw",
   "id": "decab2aa-7642-436e-b3a0-961b931ead33",
   "metadata": {},
   "source": [
    "below is  asci code range\n",
    "A=65\n",
    "Z=90\n",
    "\n",
    "a=97\n",
    "z=122\n",
    "\n",
    "0=48\n",
    "9=57\n"
   ]
  },
  {
   "cell_type": "code",
   "execution_count": 1,
   "id": "a20c7ab6-f023-4226-bc98-239fc17348df",
   "metadata": {},
   "outputs": [
    {
     "name": "stdout",
     "output_type": "stream",
     "text": [
      "True\n"
     ]
    }
   ],
   "source": [
    "a: str = 'A' # in ascii big 'A' is 65\n",
    "b:str= 'a'  # in ascii small 'a' is 97\n",
    "print( b>=a) # so this is true\n",
    "# comparson operators give true and false"
   ]
  },
  {
   "cell_type": "code",
   "execution_count": 2,
   "id": "23602af1-9bb0-4e2f-a3c8-eabe723d1b1c",
   "metadata": {},
   "outputs": [
    {
     "data": {
      "text/plain": [
       "'A'"
      ]
     },
     "execution_count": 2,
     "metadata": {},
     "output_type": "execute_result"
    }
   ],
   "source": [
    "chr(65)"
   ]
  },
  {
   "cell_type": "code",
   "execution_count": 3,
   "id": "e4603c12-8512-42bd-b501-18432b76a24b",
   "metadata": {},
   "outputs": [
    {
     "data": {
      "text/plain": [
       "65"
      ]
     },
     "execution_count": 3,
     "metadata": {},
     "output_type": "execute_result"
    }
   ],
   "source": [
    "ord('A') # ord() function tells ascii code of character"
   ]
  },
  {
   "cell_type": "markdown",
   "id": "e7bb3c65-ccfd-4543-8f0b-7e99677eee73",
   "metadata": {},
   "source": [
    "# python logical operators.\n",
    "and , or , not ( operators) used in digital logic design, electronics."
   ]
  },
  {
   "cell_type": "code",
   "execution_count": 8,
   "id": "8023e9f2-0ac2-4ec4-a37a-8a002978466c",
   "metadata": {},
   "outputs": [
    {
     "name": "stdout",
     "output_type": "stream",
     "text": [
      "True\n",
      "False\n",
      "True\n"
     ]
    }
   ],
   "source": [
    "# 'and' operator means lazmi and 'or' operator means optional. logical operators are used between comparisons.\n",
    "# True              'and'       True               'and'          True             -> true/false will be returned\n",
    "# comparison1                  comparison2                        Comparison3\n",
    "\n",
    "# 'and' operator : gives true when all conditions are true\n",
    "print(True and True)\n",
    "print(True and True and False)\n",
    "print(True and True and True and True)"
   ]
  },
  {
   "cell_type": "code",
   "execution_count": 12,
   "id": "c71d8aa9-07d0-41c3-bf77-a520c3245bf0",
   "metadata": {},
   "outputs": [
    {
     "name": "stdout",
     "output_type": "stream",
     "text": [
      "True\n",
      "True\n",
      "False\n"
     ]
    }
   ],
   "source": [
    "# 'or' operator gives true if any one condition is true\n",
    "print(True or True or False or True)\n",
    "print(False or False or False or True)\n",
    "print(False or False or False or False)"
   ]
  },
  {
   "cell_type": "code",
   "execution_count": 10,
   "id": "3894e4e1-0839-4799-85fc-23488cb79656",
   "metadata": {},
   "outputs": [
    {
     "name": "stdout",
     "output_type": "stream",
     "text": [
      "True\n"
     ]
    }
   ],
   "source": [
    "print(True or True and False) # ???output"
   ]
  },
  {
   "cell_type": "code",
   "execution_count": 13,
   "id": "d36082ef-8b9b-4090-accc-918cfd58657c",
   "metadata": {},
   "outputs": [
    {
     "data": {
      "text/plain": [
       "False"
      ]
     },
     "execution_count": 13,
     "metadata": {},
     "output_type": "execute_result"
    }
   ],
   "source": [
    "# 'not' operator\n",
    "not True"
   ]
  },
  {
   "cell_type": "code",
   "execution_count": 14,
   "id": "77b3710b-0a17-49ff-8746-38aee91dd458",
   "metadata": {},
   "outputs": [
    {
     "data": {
      "text/plain": [
       "False"
      ]
     },
     "execution_count": 14,
     "metadata": {},
     "output_type": "execute_result"
    }
   ],
   "source": [
    "not (True)"
   ]
  },
  {
   "cell_type": "code",
   "execution_count": 24,
   "id": "bf561bec-b100-47d3-b06d-f8c219ea7df0",
   "metadata": {},
   "outputs": [
    {
     "name": "stdout",
     "output_type": "stream",
     "text": [
      "True\n",
      "True\n"
     ]
    }
   ],
   "source": [
    "print(True   & True) # and operator\n",
    "print( True | True)   # or operator"
   ]
  },
  {
   "cell_type": "code",
   "execution_count": 37,
   "id": "99d6b172-1416-448a-8607-a5c3249f715b",
   "metadata": {},
   "outputs": [
    {
     "name": "stdout",
     "output_type": "stream",
     "text": [
      "True\n",
      "False\n"
     ]
    }
   ],
   "source": [
    "# not operator\n",
    "name : str = \"qasim\"\n",
    "print( name == \"qasim\")\n",
    "print(not name == \"qasim\")"
   ]
  },
  {
   "cell_type": "code",
   "execution_count": 36,
   "id": "01641019-1a5c-40c7-9bd7-447b19da06b4",
   "metadata": {},
   "outputs": [
    {
     "name": "stdout",
     "output_type": "stream",
     "text": [
      "True\n"
     ]
    }
   ],
   "source": [
    "name : str = \"qasim\"\n",
    "print(not name == \"  qasim\")"
   ]
  },
  {
   "cell_type": "code",
   "execution_count": 38,
   "id": "d31a8d2e-7e58-445d-96b0-dfc837ee99bf",
   "metadata": {},
   "outputs": [
    {
     "name": "stdout",
     "output_type": "stream",
     "text": [
      "False\n"
     ]
    }
   ],
   "source": [
    "name : str = \"qasim\"\n",
    "print(name != \"qasim\") # for not equal to we can also use comparison operator"
   ]
  },
  {
   "cell_type": "code",
   "execution_count": 39,
   "id": "d7b6e075-c008-4c1b-8e6d-ae6a986c0b6b",
   "metadata": {},
   "outputs": [
    {
     "name": "stdout",
     "output_type": "stream",
     "text": [
      "140718140647216\n",
      "140718140647216\n"
     ]
    }
   ],
   "source": [
    "# python identity operator : checks whether the two objects have same memory location\n",
    "# id() function is used to see if two variables are same.\n",
    "x : str = \"abc\"\n",
    "z : str = \"abc\"\n",
    "print(id(x))\n",
    "print(id(z))\n",
    "\n",
    "# the output shows both hae same address"
   ]
  },
  {
   "cell_type": "code",
   "execution_count": 43,
   "id": "a0aeb2ef-ad2a-4701-a55a-21927e5f077e",
   "metadata": {},
   "outputs": [
    {
     "name": "stdout",
     "output_type": "stream",
     "text": [
      "True\n"
     ]
    },
    {
     "data": {
      "text/plain": [
       "False"
      ]
     },
     "execution_count": 43,
     "metadata": {},
     "output_type": "execute_result"
    }
   ],
   "source": [
    "print(x is z) \n",
    "x is not z\n",
    "# it is true because x and z have same address and value. here 'is' and 'is not' are identity operators."
   ]
  },
  {
   "cell_type": "code",
   "execution_count": 53,
   "id": "3f7cdfdc-d86d-4ab6-955a-b06f602a472e",
   "metadata": {},
   "outputs": [
    {
     "data": {
      "text/plain": [
       "['A',\n",
       " 'B',\n",
       " 'C',\n",
       " 'D',\n",
       " 'E',\n",
       " 'F',\n",
       " 'G',\n",
       " 'H',\n",
       " 'I',\n",
       " 'J',\n",
       " 'K',\n",
       " 'L',\n",
       " 'M',\n",
       " 'N',\n",
       " 'O',\n",
       " 'P',\n",
       " 'Q',\n",
       " 'R',\n",
       " 'S',\n",
       " 'T',\n",
       " 'U',\n",
       " 'V',\n",
       " 'W',\n",
       " 'X',\n",
       " 'Y',\n",
       " 'Z']"
      ]
     },
     "execution_count": 53,
     "metadata": {},
     "output_type": "execute_result"
    }
   ],
   "source": [
    "# in operator\n",
    "names : list[str]=[chr(i) for i in range ( 65,91)]  # or    names = [chr(i) for i in range ( 65,91)]  # list comprehension # in operator\n",
    "names \n"
   ]
  },
  {
   "cell_type": "raw",
   "id": "59650951-e11e-4419-bfe7-80beda9a7762",
   "metadata": {},
   "source": [
    "things are executed from left to right."
   ]
  },
  {
   "cell_type": "code",
   "execution_count": 57,
   "id": "1ce73208-8524-4515-9ac2-a5b1201f366a",
   "metadata": {},
   "outputs": [
    {
     "name": "stdout",
     "output_type": "stream",
     "text": [
      "0 A\n",
      "1 B\n",
      "2 C\n",
      "3 D\n",
      "true\n"
     ]
    }
   ],
   "source": [
    "names : list [str] = [chr(i) for i in range (65,91)]\n",
    "for i in range (len(names)):\n",
    "    print (i,names[i])\n",
    "    if names [i] == \"D\":\n",
    "        print ( \"true\")\n",
    "        break"
   ]
  },
  {
   "cell_type": "code",
   "execution_count": 66,
   "id": "c7febd5f-46e8-48e6-aa63-f17372f8f87c",
   "metadata": {},
   "outputs": [
    {
     "data": {
      "text/plain": [
       "True"
      ]
     },
     "execution_count": 66,
     "metadata": {},
     "output_type": "execute_result"
    }
   ],
   "source": [
    "# instead of writing the code in the above cell, we can use in operator.\n",
    "\"D\" in names"
   ]
  },
  {
   "cell_type": "code",
   "execution_count": 67,
   "id": "a182849e-dd45-4daa-ba27-cb029f95c2cb",
   "metadata": {},
   "outputs": [
    {
     "data": {
      "text/plain": [
       "True"
      ]
     },
     "execution_count": 67,
     "metadata": {},
     "output_type": "execute_result"
    }
   ],
   "source": [
    "\"A\" in names"
   ]
  },
  {
   "cell_type": "code",
   "execution_count": 65,
   "id": "c70efdf3-07e3-425f-90f2-dd8bafcac2e6",
   "metadata": {},
   "outputs": [
    {
     "data": {
      "text/plain": [
       "False"
      ]
     },
     "execution_count": 65,
     "metadata": {},
     "output_type": "execute_result"
    }
   ],
   "source": [
    "\"ABC\" in names"
   ]
  }
 ],
 "metadata": {
  "kernelspec": {
   "display_name": "Python 3 (ipykernel)",
   "language": "python",
   "name": "python3"
  },
  "language_info": {
   "codemirror_mode": {
    "name": "ipython",
    "version": 3
   },
   "file_extension": ".py",
   "mimetype": "text/x-python",
   "name": "python",
   "nbconvert_exporter": "python",
   "pygments_lexer": "ipython3",
   "version": "3.11.7"
  }
 },
 "nbformat": 4,
 "nbformat_minor": 5
}
