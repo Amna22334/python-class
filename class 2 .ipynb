{
 "cells": [
  {
   "cell_type": "markdown",
   "id": "24268e1f-7b14-41ac-b5eb-d637d2518748",
   "metadata": {},
   "source": [
    "# 02 Class Python Crash Course | f-string, jinja and string method"
   ]
  },
  {
   "cell_type": "markdown",
   "id": "3c55423a-3008-4dca-a6ae-c057d9d57fcd",
   "metadata": {},
   "source": [
    "-pep8 standard"
   ]
  },
  {
   "cell_type": "code",
   "execution_count": 2,
   "id": "0c3b0d0a-6963-4481-ab13-aa274ee44f78",
   "metadata": {},
   "outputs": [
    {
     "name": "stdout",
     "output_type": "stream",
     "text": [
      "name\n"
     ]
    }
   ],
   "source": [
    "# variable\n",
    "print (\"name\")"
   ]
  },
  {
   "cell_type": "code",
   "execution_count": 3,
   "id": "70a1f02b-bae1-4607-827a-1e6c33032543",
   "metadata": {},
   "outputs": [
    {
     "ename": "NameError",
     "evalue": "name 'name' is not defined",
     "output_type": "error",
     "traceback": [
      "\u001b[1;31m---------------------------------------------------------------------------\u001b[0m",
      "\u001b[1;31mNameError\u001b[0m                                 Traceback (most recent call last)",
      "Cell \u001b[1;32mIn[3], line 1\u001b[0m\n\u001b[1;32m----> 1\u001b[0m \u001b[38;5;28mprint\u001b[39m(name)\n",
      "\u001b[1;31mNameError\u001b[0m: name 'name' is not defined"
     ]
    }
   ],
   "source": [
    "print(name)  # error"
   ]
  },
  {
   "cell_type": "code",
   "execution_count": 4,
   "id": "ad50b446-9832-40e8-b012-b259b60dd26f",
   "metadata": {},
   "outputs": [
    {
     "name": "stdout",
     "output_type": "stream",
     "text": [
      "qasim\n"
     ]
    }
   ],
   "source": [
    "name : str = \"qasim\"\n",
    "print(name)"
   ]
  },
  {
   "cell_type": "code",
   "execution_count": 13,
   "id": "c4a8bc75-9062-490a-baa7-bbc395722307",
   "metadata": {},
   "outputs": [
    {
     "name": "stdout",
     "output_type": "stream",
     "text": [
      "ali\n",
      "<class 'str'>\n"
     ]
    }
   ],
   "source": [
    "# STRINGS .\n",
    "# string boundaries: \n",
    "# 'string text',    \"string text\",     \"\"\" string text\"\"\",     ''' string text '''     multi line string .\n",
    "#  'string text'     multi line string for type script\n",
    "\n",
    "name : str = '''ali'''\n",
    "print(name)\n",
    "print(type(name))"
   ]
  },
  {
   "cell_type": "code",
   "execution_count": 20,
   "id": "cdb0c185-c4c8-44f3-92bc-8df33ff7df90",
   "metadata": {},
   "outputs": [
    {
     "name": "stdout",
     "output_type": "stream",
     "text": [
      "PIAC Student Card \n",
      "father's name:\n"
     ]
    }
   ],
   "source": [
    "#\n",
    "message : str = \"PIAC Student Card \\nfather's name:\" # here single quotation marks for string will result in error\n",
    "print(message)"
   ]
  },
  {
   "cell_type": "code",
   "execution_count": 28,
   "id": "15b90ae6-151f-4f11-93f4-cc06ee952351",
   "metadata": {},
   "outputs": [
    {
     "data": {
      "text/plain": [
       "'PIAC \"Student Card\"\\n Father Name : '"
      ]
     },
     "execution_count": 28,
     "metadata": {},
     "output_type": "execute_result"
    }
   ],
   "source": [
    "message : str = 'PIAC \"Student Card\"\\n Father Name : '\n",
    "message"
   ]
  },
  {
   "cell_type": "code",
   "execution_count": 27,
   "id": "550528fb-5eb9-4ace-9e0d-5409819ac535",
   "metadata": {},
   "outputs": [
    {
     "name": "stdout",
     "output_type": "stream",
     "text": [
      " PIAC \"Student Card\"\n",
      " Father Name : \n"
     ]
    }
   ],
   "source": [
    "print(message)"
   ]
  },
  {
   "cell_type": "code",
   "execution_count": 33,
   "id": "45c2d455-f5d5-4360-a19a-91a75f9ee77c",
   "metadata": {},
   "outputs": [
    {
     "name": "stdout",
     "output_type": "stream",
     "text": [
      "PIAC Student Card \n",
      "Father's Name:\n"
     ]
    }
   ],
   "source": [
    "#  convert any special character into simple character by placing \\ before it (as shown below).\n",
    "message : str = 'PIAC Student Card \\nFather\\'s Name:'\n",
    "print(message)"
   ]
  },
  {
   "cell_type": "code",
   "execution_count": 35,
   "id": "6c0b2daf-63a9-4684-a7ee-46857c8e20c1",
   "metadata": {},
   "outputs": [
    {
     "data": {
      "text/plain": [
       "'abc'"
      ]
     },
     "execution_count": 35,
     "metadata": {},
     "output_type": "execute_result"
    }
   ],
   "source": [
    "\n",
    "# concatenation in string\n",
    "\"a\"+\"b\"+\"c\""
   ]
  },
  {
   "cell_type": "code",
   "execution_count": 60,
   "id": "d94e98e8-98ef-4be7-b1b1-2fcd6cb15584",
   "metadata": {},
   "outputs": [
    {
     "name": "stdout",
     "output_type": "stream",
     "text": [
      "PIAC Student Card \n",
      "Student Name : Qasim Khan\n",
      "Age : 30\n",
      "Education : Masters in Datascience\n",
      "Father's Name : Aslam Khan\n"
     ]
    }
   ],
   "source": [
    "#\n",
    "name : str = \"Qasim Khan\"\n",
    "fname : str = \"Aslam Khan\"\n",
    "education : str = \"Masters in Datascience\"\n",
    "age: int = 30\n",
    "card : str = \"PIAC Student Card \\nStudent Name : \" + name +\\   # back slash \\ to continue line. # \"\\n\" to go to next line.\n",
    "\"\\nAge : \" + str(age) + \"\\nEducation : \"+ education + \"\\n\"+\\\n",
    "\"Father's Name : \"+ fname\n",
    "\n",
    "\n",
    "print(card)"
   ]
  },
  {
   "cell_type": "code",
   "execution_count": 49,
   "id": "251e9b6a-a626-4f58-a6f3-7a934a5b013f",
   "metadata": {},
   "outputs": [
    {
     "data": {
      "text/plain": [
       "'a7'"
      ]
     },
     "execution_count": 49,
     "metadata": {},
     "output_type": "execute_result"
    }
   ],
   "source": [
    "#\n",
    "\"a\"+ str(7)  # string and int cannot concatenate. so we are using str function  to convert int to str. # type conversion"
   ]
  },
  {
   "cell_type": "code",
   "execution_count": 56,
   "id": "3def9f34-9574-4465-b843-df08fbdd53d7",
   "metadata": {},
   "outputs": [
    {
     "name": "stdout",
     "output_type": "stream",
     "text": [
      "17\n"
     ]
    }
   ],
   "source": [
    "print(7+8+2)"
   ]
  },
  {
   "cell_type": "code",
   "execution_count": 57,
   "id": "a040eb44-d963-4fa4-9c86-63cdb5e44aea",
   "metadata": {},
   "outputs": [
    {
     "name": "stdout",
     "output_type": "stream",
     "text": [
      "17\n"
     ]
    }
   ],
   "source": [
    "print(7+\\ # \\ means to write in next line and continuing the same thing. \\ is used to continue line.\n",
    "     8+\\\n",
    "     2)"
   ]
  },
  {
   "cell_type": "markdown",
   "id": "839f3de0-9951-46a1-8eb3-7c039c85c4fe",
   "metadata": {},
   "source": [
    "## multi-line string :\n",
    "## we can make multi line string by \"\"\"     \"\"\"   and '''    '''  .  below is example of it."
   ]
  },
  {
   "cell_type": "code",
   "execution_count": 65,
   "id": "bf58a0b3-be48-4509-90e8-e1c6ffe91ddb",
   "metadata": {},
   "outputs": [
    {
     "name": "stdout",
     "output_type": "stream",
     "text": [
      "  \n",
      "PIAC Student Card \n",
      "Student Name : \n",
      "Father's Name : ...............\n",
      "Education : .................................\n",
      "Age : ....\n",
      "\n"
     ]
    }
   ],
   "source": [
    "name : str = \"M.Qasim\"\n",
    "fname : str = \"M.Aslam\" # father's name\n",
    "age : int = 30\n",
    "education : str = \"Masters in Datascience\"\n",
    "\n",
    "card : str = \"\"\"  \n",
    "PIAC Student Card \n",
    "Student Name : \n",
    "Father's Name : ...............\n",
    "Education : .................................\n",
    "Age : ....\n",
    "\"\"\"\n",
    "\n",
    "print(card)"
   ]
  },
  {
   "cell_type": "markdown",
   "id": "2fbd2a78-534f-41c3-bebe-19ba277a0f62",
   "metadata": {},
   "source": [
    "## f-string (formatted string)"
   ]
  },
  {
   "cell_type": "code",
   "execution_count": 75,
   "id": "716ce1a7-3bd5-4479-ac6a-23278c094dcc",
   "metadata": {},
   "outputs": [
    {
     "name": "stdout",
     "output_type": "stream",
     "text": [
      "\n",
      "PIAC Student Card\n",
      "Student Name : M.Qasim\n",
      "Father's Name : M.Aslam\n",
      "Age : 30                     \n",
      "Education : Masters in Datascience\n",
      "\n",
      "total 9\n",
      "\n"
     ]
    }
   ],
   "source": [
    "# there are many f-string formats. below is recommended one.\n",
    "name : str = \"M.Qasim\"\n",
    "fname : str = \"M.Aslam\"\n",
    "age : int = 30\n",
    "education : str = \"Masters in Datascience\"\n",
    "\n",
    "card : str =  f\"\"\"\n",
    "PIAC Student Card\n",
    "Student Name : {name}\n",
    "Father's Name : {fname}\n",
    "Age : {age}                     \n",
    "Education : {education}\n",
    "\n",
    "total {2+3+4}\n",
    "\"\"\"\n",
    "                                 # with f string we didnt have to change age int into str\n",
    "print(card)"
   ]
  },
  {
   "cell_type": "markdown",
   "id": "dcf4c305-132d-4d54-afbd-54f0f031c38e",
   "metadata": {},
   "source": [
    "## f-string and jinja style"
   ]
  },
  {
   "cell_type": "code",
   "execution_count": 77,
   "id": "3c553f3e-a58a-4287-9852-437b2f0c1f82",
   "metadata": {},
   "outputs": [
    {
     "data": {
      "text/plain": [
       "'\\nStudent Name : M.Qasim\\n\\n'"
      ]
     },
     "execution_count": 77,
     "metadata": {},
     "output_type": "execute_result"
    }
   ],
   "source": [
    "# f_string\n",
    "\n",
    "f\"\"\"\n",
    "Student Name : {name}\n",
    "\"\"\""
   ]
  },
  {
   "cell_type": "code",
   "execution_count": 78,
   "id": "315f347d-fe51-4336-94b3-113696402fcc",
   "metadata": {},
   "outputs": [
    {
     "data": {
      "text/plain": [
       "'\\nStudent Name : {{name}}\\n'"
      ]
     },
     "execution_count": 78,
     "metadata": {},
     "output_type": "execute_result"
    }
   ],
   "source": [
    "# jinja style\n",
    "\n",
    "\"\"\"\n",
    "Student Name : {{name}}\n",
    "\"\"\""
   ]
  },
  {
   "cell_type": "code",
   "execution_count": 87,
   "id": "90772e54-2bf0-41f7-b77b-47abb4cd93cc",
   "metadata": {},
   "outputs": [
    {
     "name": "stdout",
     "output_type": "stream",
     "text": [
      "\n",
      "PIAC Student Card\n",
      "Student Name : M.Qasim\n",
      "Father's Name: M.Aslam\n",
      "Age : 30\n",
      "Education : Masters in Datascience\n",
      "\n",
      "\n"
     ]
    },
    {
     "data": {
      "text/plain": [
       "\"\\nPIAC Student Card\\nStudent Name : M.Qasim\\nFather's Name: M.Aslam\\nAge : 30\\nEducation : Masters in Datascience\\n\\n\""
      ]
     },
     "execution_count": 87,
     "metadata": {},
     "output_type": "execute_result"
    }
   ],
   "source": [
    "\n",
    "# in c and in java , we use %\n",
    "name : str = \"M.Qasim\"\n",
    "fname : str = \"M.Aslam\"\n",
    "education : str = \"Masters in Datascience\"\n",
    "age : int = 30\n",
    "\n",
    "card : str = f\"\"\"\n",
    "PIAC Student Card\n",
    "Student Name : %s\n",
    "Father's Name: %s\n",
    "Age : %d\n",
    "Education : %s\n",
    "\n",
    "\"\"\" % (name,fname,age,education)\n",
    "print(card)\n",
    "card  # ex"
   ]
  },
  {
   "cell_type": "code",
   "execution_count": 88,
   "id": "09a09140-7899-461d-8c5e-46282acb2ac6",
   "metadata": {},
   "outputs": [
    {
     "data": {
      "text/plain": [
       "['__add__',\n",
       " '__class__',\n",
       " '__contains__',\n",
       " '__delattr__',\n",
       " '__dir__',\n",
       " '__doc__',\n",
       " '__eq__',\n",
       " '__format__',\n",
       " '__ge__',\n",
       " '__getattribute__',\n",
       " '__getitem__',\n",
       " '__getnewargs__',\n",
       " '__getstate__',\n",
       " '__gt__',\n",
       " '__hash__',\n",
       " '__init__',\n",
       " '__init_subclass__',\n",
       " '__iter__',\n",
       " '__le__',\n",
       " '__len__',\n",
       " '__lt__',\n",
       " '__mod__',\n",
       " '__mul__',\n",
       " '__ne__',\n",
       " '__new__',\n",
       " '__reduce__',\n",
       " '__reduce_ex__',\n",
       " '__repr__',\n",
       " '__rmod__',\n",
       " '__rmul__',\n",
       " '__setattr__',\n",
       " '__sizeof__',\n",
       " '__str__',\n",
       " '__subclasshook__',\n",
       " 'capitalize',\n",
       " 'casefold',\n",
       " 'center',\n",
       " 'count',\n",
       " 'encode',\n",
       " 'endswith',\n",
       " 'expandtabs',\n",
       " 'find',\n",
       " 'format',\n",
       " 'format_map',\n",
       " 'index',\n",
       " 'isalnum',\n",
       " 'isalpha',\n",
       " 'isascii',\n",
       " 'isdecimal',\n",
       " 'isdigit',\n",
       " 'isidentifier',\n",
       " 'islower',\n",
       " 'isnumeric',\n",
       " 'isprintable',\n",
       " 'isspace',\n",
       " 'istitle',\n",
       " 'isupper',\n",
       " 'join',\n",
       " 'ljust',\n",
       " 'lower',\n",
       " 'lstrip',\n",
       " 'maketrans',\n",
       " 'partition',\n",
       " 'removeprefix',\n",
       " 'removesuffix',\n",
       " 'replace',\n",
       " 'rfind',\n",
       " 'rindex',\n",
       " 'rjust',\n",
       " 'rpartition',\n",
       " 'rsplit',\n",
       " 'rstrip',\n",
       " 'split',\n",
       " 'splitlines',\n",
       " 'startswith',\n",
       " 'strip',\n",
       " 'swapcase',\n",
       " 'title',\n",
       " 'translate',\n",
       " 'upper',\n",
       " 'zfill']"
      ]
     },
     "execution_count": 88,
     "metadata": {},
     "output_type": "execute_result"
    }
   ],
   "source": [
    "dir (str) # dir function tells the functions of a data  type , here it is telling all the functions of string data type."
   ]
  },
  {
   "cell_type": "code",
   "execution_count": 90,
   "id": "8a23aa49-472d-41b4-8be5-6b2ebb668542",
   "metadata": {},
   "outputs": [
    {
     "data": {
      "text/plain": [
       "['capitalize',\n",
       " 'casefold',\n",
       " 'center',\n",
       " 'count',\n",
       " 'encode',\n",
       " 'endswith',\n",
       " 'expandtabs',\n",
       " 'find',\n",
       " 'format',\n",
       " 'index',\n",
       " 'isalnum',\n",
       " 'isalpha',\n",
       " 'isascii',\n",
       " 'isdecimal',\n",
       " 'isdigit',\n",
       " 'isidentifier',\n",
       " 'islower',\n",
       " 'isnumeric',\n",
       " 'isprintable',\n",
       " 'isspace',\n",
       " 'istitle',\n",
       " 'isupper',\n",
       " 'join',\n",
       " 'ljust',\n",
       " 'lower',\n",
       " 'lstrip',\n",
       " 'maketrans',\n",
       " 'partition',\n",
       " 'removeprefix',\n",
       " 'removesuffix',\n",
       " 'replace',\n",
       " 'rfind',\n",
       " 'rindex',\n",
       " 'rjust',\n",
       " 'rpartition',\n",
       " 'rsplit',\n",
       " 'rstrip',\n",
       " 'split',\n",
       " 'splitlines',\n",
       " 'startswith',\n",
       " 'strip',\n",
       " 'swapcase',\n",
       " 'title',\n",
       " 'translate',\n",
       " 'upper',\n",
       " 'zfill']"
      ]
     },
     "execution_count": 90,
     "metadata": {},
     "output_type": "execute_result"
    }
   ],
   "source": [
    "[i for i in dir(str) if \"_\" not in i]"
   ]
  },
  {
   "cell_type": "code",
   "execution_count": 96,
   "id": "a827eb1e-7002-4a76-9f56-02d12e5e5858",
   "metadata": {},
   "outputs": [
    {
     "name": "stdout",
     "output_type": "stream",
     "text": [
      "Muhammad qasim\n",
      "muhammad qasim\n",
      "MUHAMMAD QASIM\n"
     ]
    }
   ],
   "source": [
    "# string methods.\n",
    "name : str = \"MuHammAD QasIM\"\n",
    "print(name.capitalize())\n",
    "print(name.lower())\n",
    "print(name.upper())"
   ]
  },
  {
   "cell_type": "code",
   "execution_count": 97,
   "id": "7056a748-da62-42fe-a6b6-25202b7b5b4f",
   "metadata": {},
   "outputs": [
    {
     "data": {
      "text/plain": [
       "'pakistan value a = 7 and value b = 8 '"
      ]
     },
     "execution_count": 97,
     "metadata": {},
     "output_type": "execute_result"
    }
   ],
   "source": [
    "#\n",
    "a=7\n",
    "b=8\n",
    "\"pakistan value a = {} and value b = {} \".format(a,b)"
   ]
  },
  {
   "cell_type": "markdown",
   "id": "b866da69-ec74-49e4-8429-6fc2edec0564",
   "metadata": {},
   "source": [
    "## .format() method with strings. \n",
    ".format() is a string method\n",
    "\n"
   ]
  },
  {
   "cell_type": "code",
   "execution_count": 99,
   "id": "19d56a6e-01c1-46fd-a953-6c524b547077",
   "metadata": {},
   "outputs": [
    {
     "name": "stdout",
     "output_type": "stream",
     "text": [
      "\n",
      "PIAC Student Card\n",
      "Student Name : Muhammad Aslam\n",
      "Father's Name: Muhammad Qasim\n",
      "Age: Masters in Datascience\n",
      "Education : Masters in Datascience\n",
      "\n"
     ]
    }
   ],
   "source": [
    "# \n",
    "name : str = \"Muhammad Qasim\"\n",
    "fname : str = \"Muhammad Aslam\"\n",
    "education : str = \"Masters in Datascience\"\n",
    "age : int = 30\n",
    "\n",
    "card : str = \"\"\"\n",
    "PIAC Student Card\n",
    "Student Name : {}\n",
    "Father's Name: {}\n",
    "Age: {}\n",
    "Education : {}\n",
    "\"\"\".format (fname,name,education,education)\n",
    "\n",
    "print(card)"
   ]
  },
  {
   "cell_type": "code",
   "execution_count": 101,
   "id": "be3ce9dd-f570-4364-87d6-da0bf4d2bc01",
   "metadata": {},
   "outputs": [
    {
     "name": "stdout",
     "output_type": "stream",
     "text": [
      "\n",
      "PIAC Student Card\n",
      "Student Name : Muhammad Qasim\n",
      "Father's Name : Muhammad Aslam\n",
      "Age : 30 \n",
      "Education: Masters in Datascience\n",
      "\n"
     ]
    }
   ],
   "source": [
    "# \n",
    "name : str = \"Muhammad Qasim\"\n",
    "fname : str = \"Muhammad Aslam\"\n",
    "education : str = \"Masters in Datascience\"\n",
    "age : int = 30\n",
    "\n",
    "card : str = \"\"\"\n",
    "PIAC Student Card\n",
    "Student Name : {1}\n",
    "Father's Name : {0}\n",
    "Age : {3} \n",
    "Education: {2}\n",
    "\"\"\".format(fname,name,education,age)\n",
    "#           0      1       2      3\n",
    "\n",
    "print(card)"
   ]
  },
  {
   "cell_type": "code",
   "execution_count": 102,
   "id": "023654be-b40f-4e3a-8fe2-b7da87f68ade",
   "metadata": {},
   "outputs": [
    {
     "name": "stdout",
     "output_type": "stream",
     "text": [
      "\n",
      "PIAC Student Card\n",
      "Student Name : Muhammad Qasim\n",
      "Father's Name : Muhammad Aslam\n",
      "Age : 30 \n",
      "Education: Masters in Datascience\n",
      "\n"
     ]
    }
   ],
   "source": [
    "name : str = \"Muhammad Qasim\"\n",
    "fname : str = \"Muhammad Aslam\"\n",
    "education : str = \"Masters in Datascience\"\n",
    "age : int = 30\n",
    "\n",
    "card : str = \"\"\"\n",
    "PIAC Student Card\n",
    "Student Name : {a}\n",
    "Father's Name : {b}\n",
    "Age : {c} \n",
    "Education: {d}\n",
    "\"\"\".format(b=fname,a=name,d=education,c=age)\n",
    "\n",
    "print(card)"
   ]
  },
  {
   "cell_type": "code",
   "execution_count": 106,
   "id": "c6d65e85-ad75-41bb-aeb6-fc5894a79f37",
   "metadata": {},
   "outputs": [
    {
     "name": "stdout",
     "output_type": "stream",
     "text": [
      "My name is Muhammad Qasim.\n",
      "15\n"
     ]
    }
   ],
   "source": [
    "#\n",
    "# below there is code written inside string.  (we can run student codes as shown in the string below.)\n",
    "student_code : str = \"\"\"             \n",
    "print(\"My name is Muhammad Qasim.\")\n",
    "a : int = 7\n",
    "b : int = 8\n",
    "print(a+b)\n",
    "\"\"\"\n",
    "\n",
    "exec(student_code)  # the code inside the string student_code is being executed by using exec()  execute function.\n"
   ]
  },
  {
   "cell_type": "markdown",
   "id": "00a4bdfc-5435-4c60-bb8c-7ca06d75f234",
   "metadata": {},
   "source": [
    "## exploring string methods and attributes\n",
    "below are pre-defined global functions:\n",
    "* print()\n",
    "* type()\n",
    "* id()\n",
    "* dir()\n",
    "* len()"
   ]
  },
  {
   "cell_type": "code",
   "execution_count": 108,
   "id": "811dce2b-064b-4d16-9dae-613699ace69e",
   "metadata": {},
   "outputs": [
    {
     "name": "stdout",
     "output_type": "stream",
     "text": [
      "['capitalize', 'casefold', 'center', 'count', 'encode', 'endswith', 'expandtabs', 'find', 'format', 'index', 'isalnum', 'isalpha', 'isascii', 'isdecimal', 'isdigit', 'isidentifier', 'islower', 'isnumeric', 'isprintable', 'isspace', 'istitle', 'isupper', 'join', 'ljust', 'lower', 'lstrip', 'maketrans', 'partition', 'removeprefix', 'removesuffix', 'replace', 'rfind', 'rindex', 'rjust', 'rpartition', 'rsplit', 'rstrip', 'split', 'splitlines', 'startswith', 'strip', 'swapcase', 'title', 'translate', 'upper', 'zfill']\n",
      "46\n"
     ]
    }
   ],
   "source": [
    "# list comprehensive\n",
    "# the code below provides list of string methods.\n",
    "\n",
    "a : list[str] = [i for i in dir(str) if \"_\" not in i]\n",
    "print(a)\n",
    "print(len(a))"
   ]
  },
  {
   "cell_type": "code",
   "execution_count": 110,
   "id": "7df0fffe-a45c-4e70-8209-da41b7e861a8",
   "metadata": {},
   "outputs": [
    {
     "name": "stdout",
     "output_type": "stream",
     "text": [
      "Muhammad qasim\n"
     ]
    }
   ],
   "source": [
    "#\n",
    "name : str = \"MUHammad QASim\"\n",
    "#variable_name.method\n",
    "# some methods have arguments.\n",
    "print(name.capitalize())"
   ]
  },
  {
   "cell_type": "code",
   "execution_count": 111,
   "id": "dd175525-9eb9-4538-a563-2fd2a225f859",
   "metadata": {},
   "outputs": [
    {
     "name": "stdout",
     "output_type": "stream",
     "text": [
      "muhammad qasim\n"
     ]
    }
   ],
   "source": [
    "print(name.casefold())"
   ]
  },
  {
   "cell_type": "code",
   "execution_count": 112,
   "id": "f5d45fa5-ce6d-4461-95d8-399baa97ed2a",
   "metadata": {},
   "outputs": [
    {
     "name": "stdout",
     "output_type": "stream",
     "text": [
      "muhammad qasim\n"
     ]
    }
   ],
   "source": [
    "print(name.lower())"
   ]
  },
  {
   "cell_type": "code",
   "execution_count": 119,
   "id": "d823a664-7485-4d79-8c9c-5d6f7d7dec02",
   "metadata": {},
   "outputs": [
    {
     "name": "stdout",
     "output_type": "stream",
     "text": [
      "        Muhammad      Qasim        \n",
      "Muhammad      Qasim        \n"
     ]
    }
   ],
   "source": [
    "name : str = \"        Muhammad      Qasim        \"\n",
    "print(name)\n",
    "print(name.lstrip())"
   ]
  },
  {
   "cell_type": "code",
   "execution_count": 120,
   "id": "c3ae8229-2fc8-411c-9c2a-05f37128ccff",
   "metadata": {},
   "outputs": [
    {
     "data": {
      "text/plain": [
       "'        Muhammad      Qasim        '"
      ]
     },
     "metadata": {},
     "output_type": "display_data"
    },
    {
     "data": {
      "text/plain": [
       "'Muhammad      Qasim        '"
      ]
     },
     "metadata": {},
     "output_type": "display_data"
    }
   ],
   "source": [
    "display(name)\n",
    "display(name.lstrip()) # .lstrip() removes space from left side"
   ]
  },
  {
   "cell_type": "code",
   "execution_count": 121,
   "id": "f2c799cc-e419-4632-b859-f4c82fb3df87",
   "metadata": {},
   "outputs": [
    {
     "data": {
      "text/plain": [
       "'        Muhammad      Qasim'"
      ]
     },
     "metadata": {},
     "output_type": "display_data"
    }
   ],
   "source": [
    "display(name.rstrip()) # .rstrip() removes space from right side"
   ]
  },
  {
   "cell_type": "code",
   "execution_count": 122,
   "id": "970b1150-f8e1-469e-9b52-83bdb6746e65",
   "metadata": {},
   "outputs": [
    {
     "data": {
      "text/plain": [
       "'Muhammad      Qasim'"
      ]
     },
     "metadata": {},
     "output_type": "display_data"
    }
   ],
   "source": [
    "display(name.strip()) # .strip() removes space from both sides"
   ]
  },
  {
   "cell_type": "code",
   "execution_count": 124,
   "id": "a06ce0bb-d8d1-4ff6-a9cb-a1795d51851d",
   "metadata": {},
   "outputs": [
    {
     "data": {
      "text/plain": [
       "'         Muhammad       Qasim       '"
      ]
     },
     "metadata": {},
     "output_type": "display_data"
    },
    {
     "data": {
      "text/plain": [
       "' Muhammad Qasim '"
      ]
     },
     "metadata": {},
     "output_type": "display_data"
    }
   ],
   "source": [
    "# but the strip methods dont remove space from between.\n",
    "#\n",
    "# below we  have removed space between Muhammad and Qasim.\n",
    "import re\n",
    "name : str = \"         Muhammad       Qasim       \"\n",
    "display(name)\n",
    "name1 : str = re.sub(\" {2,100}\",\" \",name) #...\n",
    "display(name1) "
   ]
  },
  {
   "cell_type": "code",
   "execution_count": 125,
   "id": "74071092-740d-41bc-986a-bb41cb5e63c2",
   "metadata": {},
   "outputs": [
    {
     "data": {
      "text/plain": [
       "'Muhammad Qasim'"
      ]
     },
     "metadata": {},
     "output_type": "display_data"
    }
   ],
   "source": [
    "# in the output above there is still space in left and right. to remove that space use .strip() also.      ' Muhammad Qasim '\n",
    "name1 : str = re.sub(\" {2,100}\",\" \",name).strip()\n",
    "display(name1) \n",
    "# stripping space is used in pre=processing."
   ]
  },
  {
   "cell_type": "code",
   "execution_count": 129,
   "id": "1a68fb62-6f8c-4c3c-93c3-2f51bd5a8e1c",
   "metadata": {},
   "outputs": [
    {
     "data": {
      "text/plain": [
       "'Ada Lovelace'"
      ]
     },
     "execution_count": 129,
     "metadata": {},
     "output_type": "execute_result"
    }
   ],
   "source": [
    "name : str = \"ada loVeLace\"\n",
    "name.title()"
   ]
  },
  {
   "cell_type": "code",
   "execution_count": 133,
   "id": "a9cefd00-7940-400e-bafa-8d401ca6b22f",
   "metadata": {},
   "outputs": [
    {
     "name": "stdout",
     "output_type": "stream",
     "text": [
      "ada lovelace\n"
     ]
    }
   ],
   "source": [
    "#\n",
    "first_name : str = \"ada\"\n",
    "last_name : str = \"lovelace\"\n",
    "full_name : str = f\"{first_name} {last_name}\"\n",
    "print(full_name)"
   ]
  },
  {
   "cell_type": "code",
   "execution_count": 136,
   "id": "3ae65038-7124-428f-b6d3-89b80d9e2160",
   "metadata": {},
   "outputs": [
    {
     "name": "stdout",
     "output_type": "stream",
     "text": [
      "Hello, Ada Lovelace!\n"
     ]
    }
   ],
   "source": [
    "print(f\"Hello, {full_name.title()}!\")"
   ]
  },
  {
   "cell_type": "code",
   "execution_count": 139,
   "id": "e4985a33-9d6e-46c4-9727-fa52d56f37c5",
   "metadata": {},
   "outputs": [
    {
     "name": "stdout",
     "output_type": "stream",
     "text": [
      "python\n",
      "\t python\n"
     ]
    }
   ],
   "source": [
    "# adding space\n",
    "print(\"python\")\n",
    "print(\"\\t python\")"
   ]
  },
  {
   "cell_type": "markdown",
   "id": "5f882ae0-cfd2-451f-8913-5b1ea7a7692f",
   "metadata": {},
   "source": [
    "## removing and adding space"
   ]
  },
  {
   "cell_type": "code",
   "execution_count": null,
   "id": "8e654476-acfc-4645-90a3-7263d6bb04b4",
   "metadata": {},
   "outputs": [],
   "source": [
    "# \\n\n",
    "# \\t\n",
    "# \\b"
   ]
  },
  {
   "cell_type": "code",
   "execution_count": 140,
   "id": "572531ee-23e0-4c8d-ac21-91f38ea1bd14",
   "metadata": {},
   "outputs": [
    {
     "name": "stdout",
     "output_type": "stream",
     "text": [
      "Name:\t\t Muhammad Qasim\n"
     ]
    }
   ],
   "source": [
    "print(\"Name:\\t\\t Muhammad Qasim\") "
   ]
  },
  {
   "cell_type": "code",
   "execution_count": 145,
   "id": "6a90985b-7204-4c9b-aa8a-8fc089a8e243",
   "metadata": {},
   "outputs": [
    {
     "name": "stdout",
     "output_type": "stream",
     "text": [
      "Name :  \n",
      " Muhammad Qasim\n"
     ]
    }
   ],
   "source": [
    "print(\"Name :  \\n Muhammad Qasim\")"
   ]
  },
  {
   "cell_type": "code",
   "execution_count": 146,
   "id": "1b54ce40-5f48-45cc-8c96-e629bcb9a584",
   "metadata": {},
   "outputs": [
    {
     "name": "stdout",
     "output_type": "stream",
     "text": [
      "Name  Muhammad Qasim\n"
     ]
    }
   ],
   "source": [
    "print(\"Name :\\b Muhammad Qasim\")"
   ]
  },
  {
   "cell_type": "code",
   "execution_count": 149,
   "id": "401fb87b-efde-4547-85cf-f7bf18711b24",
   "metadata": {},
   "outputs": [
    {
     "name": "stdout",
     "output_type": "stream",
     "text": [
      "Languages:\n",
      "Python \n",
      "C\n",
      "JavaScript\n"
     ]
    }
   ],
   "source": [
    "print(\"Languages:\\nPython \\nC\\nJavaScript\")"
   ]
  },
  {
   "cell_type": "code",
   "execution_count": 155,
   "id": "297b2741-74c1-49a6-bf33-0bb74b8244cb",
   "metadata": {},
   "outputs": [
    {
     "name": "stdout",
     "output_type": "stream",
     "text": [
      "Languages : \n",
      "\t Python    \n",
      "\t C              \n",
      "\t JavaScript\n"
     ]
    }
   ],
   "source": [
    "print(\"Languages : \\n\\t Python    \\n\\t C              \\n\\t JavaScript\")"
   ]
  },
  {
   "cell_type": "code",
   "execution_count": 158,
   "id": "d56d1817-4751-4315-a72d-e6fe5c01f967",
   "metadata": {},
   "outputs": [
    {
     "data": {
      "text/plain": [
       "'python '"
      ]
     },
     "execution_count": 158,
     "metadata": {},
     "output_type": "execute_result"
    }
   ],
   "source": [
    "#\n",
    "favourite_language = \"python \"\n",
    "favourite_language"
   ]
  },
  {
   "cell_type": "code",
   "execution_count": 159,
   "id": "3b99bc39-d512-42e5-98d1-44b8796db340",
   "metadata": {},
   "outputs": [
    {
     "data": {
      "text/plain": [
       "'python'"
      ]
     },
     "execution_count": 159,
     "metadata": {},
     "output_type": "execute_result"
    }
   ],
   "source": [
    "favourite_language.rstrip()"
   ]
  },
  {
   "cell_type": "code",
   "execution_count": 160,
   "id": "2cb905f1-fc8b-4891-abd7-61444ae676df",
   "metadata": {},
   "outputs": [
    {
     "data": {
      "text/plain": [
       "'python '"
      ]
     },
     "execution_count": 160,
     "metadata": {},
     "output_type": "execute_result"
    }
   ],
   "source": [
    "favourite_language"
   ]
  },
  {
   "cell_type": "code",
   "execution_count": 161,
   "id": "3d01ed1b-bfe0-461e-a8ab-56d9b4fbee73",
   "metadata": {},
   "outputs": [
    {
     "data": {
      "text/plain": [
       "'python'"
      ]
     },
     "execution_count": 161,
     "metadata": {},
     "output_type": "execute_result"
    }
   ],
   "source": [
    "#\n",
    "favourite_language = \"python  \"\n",
    "favourite_language = favourite_language.rstrip()   # rstrip means to remove space from right side.\n",
    "favourite_language\n"
   ]
  },
  {
   "cell_type": "code",
   "execution_count": 170,
   "id": "23dd8688-fed3-462b-a041-d0aabb8486cb",
   "metadata": {},
   "outputs": [
    {
     "data": {
      "text/plain": [
       "'https://nostarch.com'"
      ]
     },
     "execution_count": 170,
     "metadata": {},
     "output_type": "execute_result"
    }
   ],
   "source": [
    "# removing prefix\n",
    "nostarch_url : str = \"https://nostarch.com\"\n",
    "nostarch_url.removeprefix(\"http://\") #  (wrong output.)"
   ]
  },
  {
   "cell_type": "code",
   "execution_count": 167,
   "id": "d73228f4-7102-458c-aada-11d0d69ce6e8",
   "metadata": {},
   "outputs": [
    {
     "ename": "SyntaxError",
     "evalue": "incomplete input (1955482097.py, line 1)",
     "output_type": "error",
     "traceback": [
      "\u001b[1;36m  Cell \u001b[1;32mIn[167], line 1\u001b[1;36m\u001b[0m\n\u001b[1;33m    print(nostarch_url.removeprefix(\"http://\")\u001b[0m\n\u001b[1;37m                                               ^\u001b[0m\n\u001b[1;31mSyntaxError\u001b[0m\u001b[1;31m:\u001b[0m incomplete input\n"
     ]
    }
   ],
   "source": [
    "print(nostarch_url.removeprefix(\"http://\")  # the output should be      nostarch.com"
   ]
  },
  {
   "cell_type": "code",
   "execution_count": 175,
   "id": "87cdb259-554a-4eea-9cfc-fa8ed1c57beb",
   "metadata": {},
   "outputs": [],
   "source": [
    "# NAMING CONVENTIONS\n",
    "# peps.python.org     -> to know convention(naming convention)\n",
    "\n",
    "# 1name is wrong variable name\n",
    "name1\n",
    "_1name =2\n",
    "# the first letter of a variable name should be an alphabet or _ . it cannot be a number.\n",
    "#'piac student name' is wrong variable name.\n",
    "piac_student_name = 2"
   ]
  },
  {
   "cell_type": "code",
   "execution_count": 176,
   "id": "1c62912b-07dd-4510-b9b7-8ab82262680b",
   "metadata": {},
   "outputs": [
    {
     "data": {
      "text/plain": [
       "5"
      ]
     },
     "execution_count": 176,
     "metadata": {},
     "output_type": "execute_result"
    }
   ],
   "source": [
    "##\n",
    "2+3"
   ]
  },
  {
   "cell_type": "code",
   "execution_count": 177,
   "id": "6af80214-48b0-4988-a7c5-48414cf2684a",
   "metadata": {},
   "outputs": [
    {
     "data": {
      "text/plain": [
       "1"
      ]
     },
     "execution_count": 177,
     "metadata": {},
     "output_type": "execute_result"
    }
   ],
   "source": [
    "3-2"
   ]
  },
  {
   "cell_type": "code",
   "execution_count": 178,
   "id": "c95a3a18-a73a-4638-815c-135065db7afa",
   "metadata": {},
   "outputs": [
    {
     "data": {
      "text/plain": [
       "6"
      ]
     },
     "execution_count": 178,
     "metadata": {},
     "output_type": "execute_result"
    }
   ],
   "source": [
    "2*3"
   ]
  },
  {
   "cell_type": "code",
   "execution_count": 179,
   "id": "5e971106-cb66-40c9-b19d-41431db60827",
   "metadata": {},
   "outputs": [
    {
     "data": {
      "text/plain": [
       "1.5"
      ]
     },
     "execution_count": 179,
     "metadata": {},
     "output_type": "execute_result"
    }
   ],
   "source": [
    "3/2"
   ]
  }
 ],
 "metadata": {
  "kernelspec": {
   "display_name": "Python 3 (ipykernel)",
   "language": "python",
   "name": "python3"
  },
  "language_info": {
   "codemirror_mode": {
    "name": "ipython",
    "version": 3
   },
   "file_extension": ".py",
   "mimetype": "text/x-python",
   "name": "python",
   "nbconvert_exporter": "python",
   "pygments_lexer": "ipython3",
   "version": "3.11.7"
  }
 },
 "nbformat": 4,
 "nbformat_minor": 5
}
