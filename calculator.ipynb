{
 "cells": [
  {
   "cell_type": "code",
   "execution_count": null,
   "id": "fac23b49-9a6d-4d6c-a53b-052f104eab4a",
   "metadata": {},
   "outputs": [],
   "source": [
    "# below is a calculator\n",
    "\n",
    "num1 = float(input(\"Enter first number: \"))\n",
    "operation = input(\"Enter operation (+, -, *, /): \")\n",
    "num2 = float(input(\"Enter second number: \"))\n",
    "\n",
    "if operation == '+':\n",
    "    print(f\"The result is: {num1 + num2}\")\n",
    "elif operation == '-':\n",
    "    print(f\"The result is: {num1 - num2}\")\n",
    "elif operation == '*':\n",
    "    print(f\"The result is: {num1 * num2}\")\n",
    "elif operation == '/':\n",
    "    if num2 != 0:\n",
    "        print(f\"The result is: {num1 / num2}\")\n",
    "    else:\n",
    "        print(\"Error! Division by zero.\")\n",
    "else:\n",
    "    print(\"Invalid operation\")\n"
   ]
  }
 ],
 "metadata": {
  "kernelspec": {
   "display_name": "Python 3 (ipykernel)",
   "language": "python",
   "name": "python3"
  },
  "language_info": {
   "codemirror_mode": {
    "name": "ipython",
    "version": 3
   },
   "file_extension": ".py",
   "mimetype": "text/x-python",
   "name": "python",
   "nbconvert_exporter": "python",
   "pygments_lexer": "ipython3",
   "version": "3.11.7"
  }
 },
 "nbformat": 4,
 "nbformat_minor": 5
}
